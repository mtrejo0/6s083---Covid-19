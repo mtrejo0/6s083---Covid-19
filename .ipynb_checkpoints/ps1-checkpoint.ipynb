{
 "cells": [
  {
   "cell_type": "code",
   "execution_count": null,
   "metadata": {},
   "outputs": [],
   "source": [
    "using Plots\n",
    "using Pkg \n",
    "using CSV\n",
    "using Dates\n",
    "using Interact"
   ]
  },
  {
   "cell_type": "code",
   "execution_count": 2,
   "metadata": {},
   "outputs": [
    {
     "data": {
      "text/plain": [
       "load_data (generic function with 1 method)"
      ]
     },
     "execution_count": 2,
     "metadata": {},
     "output_type": "execute_result"
    }
   ],
   "source": [
    "function load_data()\n",
    "    url = \"https://raw.githubusercontent.com/CSSEGISandData/COVID-19/master/csse_covid_19_data/csse_covid_19_time_series/time_series_covid19_confirmed_global.csv\"\n",
    "    download(url, \"covid_data.csv\")\n",
    "    return CSV.read(\"covid_data.csv\")\n",
    "end"
   ]
  },
  {
   "cell_type": "code",
   "execution_count": 3,
   "metadata": {},
   "outputs": [
    {
     "data": {
      "text/plain": [
       "get_countries (generic function with 1 method)"
      ]
     },
     "execution_count": 3,
     "metadata": {},
     "output_type": "execute_result"
    }
   ],
   "source": [
    "function get_countries()\n",
    "    return Vector([\"US\",\"China\",\"Japan\",\"Korea, South\",\"United Kingdom\",\"France\",\"Germany\"])\n",
    "end"
   ]
  },
  {
   "cell_type": "code",
   "execution_count": 4,
   "metadata": {},
   "outputs": [
    {
     "data": {
      "text/plain": [
       "get_num_days (generic function with 1 method)"
      ]
     },
     "execution_count": 4,
     "metadata": {},
     "output_type": "execute_result"
    }
   ],
   "source": [
    "function get_num_days()\n",
    "    return size(load_data()[:,5:end])[2]\n",
    "end"
   ]
  },
  {
   "cell_type": "code",
   "execution_count": 5,
   "metadata": {},
   "outputs": [
    {
     "data": {
      "text/plain": [
       "get_all_countries (generic function with 1 method)"
      ]
     },
     "execution_count": 5,
     "metadata": {},
     "output_type": "execute_result"
    }
   ],
   "source": [
    "function get_all_countries()\n",
    "    return collect(load_data()[:, 2])\n",
    "end"
   ]
  },
  {
   "cell_type": "code",
   "execution_count": 6,
   "metadata": {},
   "outputs": [
    {
     "data": {
      "text/plain": [
       "get_country_data (generic function with 1 method)"
      ]
     },
     "execution_count": 6,
     "metadata": {},
     "output_type": "execute_result"
    }
   ],
   "source": [
    "function get_country_data()\n",
    "    country_data = Dict()\n",
    "    data = load_data()\n",
    "    row, col = size(data)\n",
    "    for name in get_countries()\n",
    "        country_row_indexes = [startswith(country, name) for country in get_all_countries()];\n",
    "        country_rows = data[country_row_indexes, :]\n",
    "        total_country = Vector()\n",
    "        row, col = size(data)\n",
    "        country_d = data[country_row_indexes, :]\n",
    "        for i in 5:col\n",
    "            total_day = sum(country_rows[!,i])\n",
    "            append!(total_country,total_day)\n",
    "        end\n",
    "        country_data[name] = total_country\n",
    "    end\n",
    "    return country_data\n",
    "end"
   ]
  },
  {
   "cell_type": "code",
   "execution_count": 7,
   "metadata": {},
   "outputs": [
    {
     "data": {
      "text/plain": [
       "get_dates (generic function with 1 method)"
      ]
     },
     "execution_count": 7,
     "metadata": {},
     "output_type": "execute_result"
    }
   ],
   "source": [
    "function get_dates()\n",
    "    format = Dates.DateFormat(\"m/d/Y\")\n",
    "    date_strings = String.(names(load_data()))[5:end]\n",
    "    dates = parse.(Date, date_strings, format) .+ Year(2000)\n",
    "    return dates\n",
    "end"
   ]
  },
  {
   "cell_type": "code",
   "execution_count": 8,
   "metadata": {},
   "outputs": [
    {
     "data": {
      "text/plain": [
       "get_start_end_date (generic function with 1 method)"
      ]
     },
     "execution_count": 8,
     "metadata": {},
     "output_type": "execute_result"
    }
   ],
   "source": [
    "function get_start_end_date()\n",
    "    dates = get_dates()\n",
    "    startDate  = Dates.value(dates[1])\n",
    "    endDate = Dates.value(dates[end])\n",
    "    return startDate,endDate\n",
    "end\n"
   ]
  },
  {
   "cell_type": "code",
   "execution_count": 9,
   "metadata": {},
   "outputs": [
    {
     "data": {
      "text/plain": [
       "replace_zeros (generic function with 1 method)"
      ]
     },
     "execution_count": 9,
     "metadata": {},
     "output_type": "execute_result"
    }
   ],
   "source": [
    "function replace_zeros(arr)\n",
    "    for i in 1:size(arr)[1]\n",
    "        if arr[i] == 0.0\n",
    "            arr[i] = NaN\n",
    "        end    \n",
    "    end\n",
    "    return arr\n",
    "end"
   ]
  },
  {
   "cell_type": "code",
   "execution_count": 10,
   "metadata": {},
   "outputs": [
    {
     "data": {
      "text/plain": [
       "plot_graphs (generic function with 2 methods)"
      ]
     },
     "execution_count": 10,
     "metadata": {},
     "output_type": "execute_result"
    }
   ],
   "source": [
    "function plot_graphs(log=false)\n",
    "    p = plot(leg=:topleft,)\n",
    "    xlabel!(\"day\")\n",
    "    ylabel!(\"confirmed cases\")\n",
    "    for country_info in get_country_data()\n",
    "        name = country_info[1]\n",
    "        cases = convert(Array{Float64}, get_country_data()[name])\n",
    "        cases = replace_zeros(cases)\n",
    "        if log\n",
    "            plot!(get_dates(),cases,label = name, yscale=:log10)\n",
    "        else\n",
    "            plot!(get_dates(),cases,label = name)\n",
    "        end\n",
    "    end\n",
    "    p\n",
    "end"
   ]
  },
  {
   "cell_type": "code",
   "execution_count": 11,
   "metadata": {},
   "outputs": [
    {
     "data": {
      "image/svg+xml": [
       "<?xml version=\"1.0\" encoding=\"utf-8\"?>\n",
       "<svg xmlns=\"http://www.w3.org/2000/svg\" xmlns:xlink=\"http://www.w3.org/1999/xlink\" width=\"600\" height=\"400\" viewBox=\"0 0 2400 1600\">\n",
       "<defs>\n",
       "  <clipPath id=\"clip0800\">\n",
       "    <rect x=\"0\" y=\"0\" width=\"2400\" height=\"1600\"/>\n",
       "  </clipPath>\n",
       "</defs>\n",
       "<path clip-path=\"url(#clip0800)\" d=\"\n",
       "M0 1600 L2400 1600 L2400 0 L0 0  Z\n",
       "  \" fill=\"#ffffff\" fill-rule=\"evenodd\" fill-opacity=\"1\"/>\n",
       "<defs>\n",
       "  <clipPath id=\"clip0801\">\n",
       "    <rect x=\"480\" y=\"0\" width=\"1681\" height=\"1600\"/>\n",
       "  </clipPath>\n",
       "</defs>\n",
       "<path clip-path=\"url(#clip0800)\" d=\"\n",
       "M323.044 1425.62 L2352.76 1425.62 L2352.76 47.2441 L323.044 47.2441  Z\n",
       "  \" fill=\"#ffffff\" fill-rule=\"evenodd\" fill-opacity=\"1\"/>\n",
       "<defs>\n",
       "  <clipPath id=\"clip0802\">\n",
       "    <rect x=\"323\" y=\"47\" width=\"2031\" height=\"1379\"/>\n",
       "  </clipPath>\n",
       "</defs>\n",
       "<polyline clip-path=\"url(#clip0802)\" style=\"stroke:#000000; stroke-width:2; stroke-opacity:0.1; fill:none\" points=\"\n",
       "  632.439,1425.62 632.439,47.2441 \n",
       "  \"/>\n",
       "<polyline clip-path=\"url(#clip0802)\" style=\"stroke:#000000; stroke-width:2; stroke-opacity:0.1; fill:none\" points=\"\n",
       "  1363.1,1425.62 1363.1,47.2441 \n",
       "  \"/>\n",
       "<polyline clip-path=\"url(#clip0802)\" style=\"stroke:#000000; stroke-width:2; stroke-opacity:0.1; fill:none\" points=\"\n",
       "  2144.14,1425.62 2144.14,47.2441 \n",
       "  \"/>\n",
       "<polyline clip-path=\"url(#clip0802)\" style=\"stroke:#000000; stroke-width:2; stroke-opacity:0.1; fill:none\" points=\"\n",
       "  323.044,1386.61 2352.76,1386.61 \n",
       "  \"/>\n",
       "<polyline clip-path=\"url(#clip0802)\" style=\"stroke:#000000; stroke-width:2; stroke-opacity:0.1; fill:none\" points=\"\n",
       "  323.044,1058.42 2352.76,1058.42 \n",
       "  \"/>\n",
       "<polyline clip-path=\"url(#clip0802)\" style=\"stroke:#000000; stroke-width:2; stroke-opacity:0.1; fill:none\" points=\"\n",
       "  323.044,730.235 2352.76,730.235 \n",
       "  \"/>\n",
       "<polyline clip-path=\"url(#clip0802)\" style=\"stroke:#000000; stroke-width:2; stroke-opacity:0.1; fill:none\" points=\"\n",
       "  323.044,402.047 2352.76,402.047 \n",
       "  \"/>\n",
       "<polyline clip-path=\"url(#clip0802)\" style=\"stroke:#000000; stroke-width:2; stroke-opacity:0.1; fill:none\" points=\"\n",
       "  323.044,73.859 2352.76,73.859 \n",
       "  \"/>\n",
       "<polyline clip-path=\"url(#clip0800)\" style=\"stroke:#000000; stroke-width:4; stroke-opacity:1; fill:none\" points=\"\n",
       "  323.044,1425.62 2352.76,1425.62 \n",
       "  \"/>\n",
       "<polyline clip-path=\"url(#clip0800)\" style=\"stroke:#000000; stroke-width:4; stroke-opacity:1; fill:none\" points=\"\n",
       "  323.044,1425.62 323.044,47.2441 \n",
       "  \"/>\n",
       "<polyline clip-path=\"url(#clip0800)\" style=\"stroke:#000000; stroke-width:4; stroke-opacity:1; fill:none\" points=\"\n",
       "  632.439,1425.62 632.439,1409.08 \n",
       "  \"/>\n",
       "<polyline clip-path=\"url(#clip0800)\" style=\"stroke:#000000; stroke-width:4; stroke-opacity:1; fill:none\" points=\"\n",
       "  1363.1,1425.62 1363.1,1409.08 \n",
       "  \"/>\n",
       "<polyline clip-path=\"url(#clip0800)\" style=\"stroke:#000000; stroke-width:4; stroke-opacity:1; fill:none\" points=\"\n",
       "  2144.14,1425.62 2144.14,1409.08 \n",
       "  \"/>\n",
       "<polyline clip-path=\"url(#clip0800)\" style=\"stroke:#000000; stroke-width:4; stroke-opacity:1; fill:none\" points=\"\n",
       "  323.044,1386.61 347.401,1386.61 \n",
       "  \"/>\n",
       "<polyline clip-path=\"url(#clip0800)\" style=\"stroke:#000000; stroke-width:4; stroke-opacity:1; fill:none\" points=\"\n",
       "  323.044,1058.42 347.401,1058.42 \n",
       "  \"/>\n",
       "<polyline clip-path=\"url(#clip0800)\" style=\"stroke:#000000; stroke-width:4; stroke-opacity:1; fill:none\" points=\"\n",
       "  323.044,730.235 347.401,730.235 \n",
       "  \"/>\n",
       "<polyline clip-path=\"url(#clip0800)\" style=\"stroke:#000000; stroke-width:4; stroke-opacity:1; fill:none\" points=\"\n",
       "  323.044,402.047 347.401,402.047 \n",
       "  \"/>\n",
       "<polyline clip-path=\"url(#clip0800)\" style=\"stroke:#000000; stroke-width:4; stroke-opacity:1; fill:none\" points=\"\n",
       "  323.044,73.859 347.401,73.859 \n",
       "  \"/>\n",
       "<g clip-path=\"url(#clip0800)\">\n",
       "<text style=\"fill:#000000; fill-opacity:1; font-family:Arial,Helvetica Neue,Helvetica,sans-serif; font-size:48px; text-anchor:middle;\" transform=\"rotate(0, 632.439, 1479.62)\" x=\"632.439\" y=\"1479.62\">2020-02-01</text>\n",
       "</g>\n",
       "<g clip-path=\"url(#clip0800)\">\n",
       "<text style=\"fill:#000000; fill-opacity:1; font-family:Arial,Helvetica Neue,Helvetica,sans-serif; font-size:48px; text-anchor:middle;\" transform=\"rotate(0, 1363.1, 1479.62)\" x=\"1363.1\" y=\"1479.62\">2020-03-01</text>\n",
       "</g>\n",
       "<g clip-path=\"url(#clip0800)\">\n",
       "<text style=\"fill:#000000; fill-opacity:1; font-family:Arial,Helvetica Neue,Helvetica,sans-serif; font-size:48px; text-anchor:middle;\" transform=\"rotate(0, 2144.14, 1479.62)\" x=\"2144.14\" y=\"1479.62\">2020-04-01</text>\n",
       "</g>\n",
       "<g clip-path=\"url(#clip0800)\">\n",
       "<text style=\"fill:#000000; fill-opacity:1; font-family:Arial,Helvetica Neue,Helvetica,sans-serif; font-size:48px; text-anchor:end;\" transform=\"rotate(0, 299.044, 1404.11)\" x=\"299.044\" y=\"1404.11\">0</text>\n",
       "</g>\n",
       "<g clip-path=\"url(#clip0800)\">\n",
       "<text style=\"fill:#000000; fill-opacity:1; font-family:Arial,Helvetica Neue,Helvetica,sans-serif; font-size:48px; text-anchor:start;\" transform=\"rotate(0, 168.903, 1082.15)\" x=\"168.903\" y=\"1082.15\">1×10</text>\n",
       "</g>\n",
       "<g clip-path=\"url(#clip0800)\">\n",
       "<text style=\"fill:#000000; fill-opacity:1; font-family:Arial,Helvetica Neue,Helvetica,sans-serif; font-size:38px; text-anchor:start;\" transform=\"rotate(0, 277.3, 1054.74)\" x=\"277.3\" y=\"1054.74\">5</text>\n",
       "</g>\n",
       "<g clip-path=\"url(#clip0800)\">\n",
       "<text style=\"fill:#000000; fill-opacity:1; font-family:Arial,Helvetica Neue,Helvetica,sans-serif; font-size:48px; text-anchor:start;\" transform=\"rotate(0, 168.903, 753.963)\" x=\"168.903\" y=\"753.963\">2×10</text>\n",
       "</g>\n",
       "<g clip-path=\"url(#clip0800)\">\n",
       "<text style=\"fill:#000000; fill-opacity:1; font-family:Arial,Helvetica Neue,Helvetica,sans-serif; font-size:38px; text-anchor:start;\" transform=\"rotate(0, 277.3, 726.552)\" x=\"277.3\" y=\"726.552\">5</text>\n",
       "</g>\n",
       "<g clip-path=\"url(#clip0800)\">\n",
       "<text style=\"fill:#000000; fill-opacity:1; font-family:Arial,Helvetica Neue,Helvetica,sans-serif; font-size:48px; text-anchor:start;\" transform=\"rotate(0, 168.903, 425.775)\" x=\"168.903\" y=\"425.775\">3×10</text>\n",
       "</g>\n",
       "<g clip-path=\"url(#clip0800)\">\n",
       "<text style=\"fill:#000000; fill-opacity:1; font-family:Arial,Helvetica Neue,Helvetica,sans-serif; font-size:38px; text-anchor:start;\" transform=\"rotate(0, 277.3, 398.364)\" x=\"277.3\" y=\"398.364\">5</text>\n",
       "</g>\n",
       "<g clip-path=\"url(#clip0800)\">\n",
       "<text style=\"fill:#000000; fill-opacity:1; font-family:Arial,Helvetica Neue,Helvetica,sans-serif; font-size:48px; text-anchor:start;\" transform=\"rotate(0, 168.903, 97.5866)\" x=\"168.903\" y=\"97.5866\">4×10</text>\n",
       "</g>\n",
       "<g clip-path=\"url(#clip0800)\">\n",
       "<text style=\"fill:#000000; fill-opacity:1; font-family:Arial,Helvetica Neue,Helvetica,sans-serif; font-size:38px; text-anchor:start;\" transform=\"rotate(0, 277.3, 70.1762)\" x=\"277.3\" y=\"70.1762\">5</text>\n",
       "</g>\n",
       "<g clip-path=\"url(#clip0800)\">\n",
       "<text style=\"fill:#000000; fill-opacity:1; font-family:Arial,Helvetica Neue,Helvetica,sans-serif; font-size:66px; text-anchor:middle;\" transform=\"rotate(0, 1337.9, 1559.48)\" x=\"1337.9\" y=\"1559.48\">day</text>\n",
       "</g>\n",
       "<g clip-path=\"url(#clip0800)\">\n",
       "<text style=\"fill:#000000; fill-opacity:1; font-family:Arial,Helvetica Neue,Helvetica,sans-serif; font-size:66px; text-anchor:middle;\" transform=\"rotate(-90, 89.2861, 736.431)\" x=\"89.2861\" y=\"736.431\">confirmed cases</text>\n",
       "</g>\n",
       "<polyline clip-path=\"url(#clip0802)\" style=\"stroke:#009af9; stroke-width:4; stroke-opacity:1; fill:none\" points=\"\n",
       "  506.464,1386.61 531.659,1386.6 556.854,1386.6 582.049,1386.6 607.244,1386.59 632.439,1386.59 657.634,1386.58 682.829,1386.57 708.024,1386.57 733.219,1386.57 \n",
       "  758.414,1386.57 783.609,1386.57 808.804,1386.57 833.999,1386.57 859.194,1386.57 884.389,1386.56 909.584,1386.56 934.779,1386.56 959.975,1386.56 985.17,1386.56 \n",
       "  1010.36,1386.56 1035.56,1386.56 1060.75,1386.56 1085.95,1386.56 1111.14,1386.56 1136.34,1386.56 1161.53,1386.56 1186.73,1386.56 1211.92,1386.56 1237.12,1386.56 \n",
       "  1262.31,1386.52 1287.51,1386.46 1312.7,1386.45 1337.9,1386.35 1363.1,1386.18 1388.29,1386.09 1413.49,1385.97 1438.68,1385.75 1463.88,1385.03 1489.07,1384.41 \n",
       "  1514.27,1383.99 1539.46,1383.2 1564.66,1382.75 1589.85,1381.83 1615.05,1380.35 1640.24,1379.79 1665.44,1374.55 1690.63,1371.56 1715.83,1367.59 1741.02,1362.75 \n",
       "  1766.22,1356.23 1791.41,1346.16 1816.61,1336.33 1841.8,1321.47 1867,1313.71 1892.19,1304.98 1917.39,1291.25 1942.58,1278.36 1967.78,1264.12 1992.97,1242.41 \n",
       "  2018.17,1219.66 2043.36,1197.26 2068.56,1182.82 2093.75,1167.1 2118.95,1150.95 2144.14,1131.04 2169.34,1108.33 2194.53,1087.44 2219.73,1071.25 2244.92,1058.02 \n",
       "  2270.12,1047.35 2295.31,1033.27 \n",
       "  \"/>\n",
       "<polyline clip-path=\"url(#clip0802)\" style=\"stroke:#e26f46; stroke-width:4; stroke-opacity:1; fill:none\" points=\"\n",
       "  607.244,1386.6 632.439,1386.6 657.634,1386.6 682.829,1386.6 708.024,1386.6 733.219,1386.6 758.414,1386.6 783.609,1386.6 808.804,1386.6 833.999,1386.6 \n",
       "  859.194,1386.59 884.389,1386.59 909.584,1386.58 934.779,1386.58 959.975,1386.58 985.17,1386.58 1010.36,1386.58 1035.56,1386.58 1060.75,1386.58 1085.95,1386.58 \n",
       "  1111.14,1386.58 1136.34,1386.58 1161.53,1386.58 1186.73,1386.58 1211.92,1386.57 1237.12,1386.57 1262.31,1386.57 1287.51,1386.56 1312.7,1386.55 1337.9,1386.54 \n",
       "  1363.1,1386.49 1388.29,1386.48 1413.49,1386.44 1438.68,1386.33 1463.88,1386.23 1489.07,1386.07 1514.27,1385.93 1539.46,1385.71 1564.66,1385.55 1589.85,1385.35 \n",
       "  1615.05,1385.1 1640.24,1385.1 1665.44,1383.98 1690.63,1382.86 1715.83,1382.85 1741.02,1381.52 1766.22,1380.18 1791.41,1377.94 1816.61,1377.7 1841.8,1373.44 \n",
       "  1867,1369.98 1892.19,1367.76 1917.39,1364.54 1942.58,1359.82 1967.78,1354.97 1992.97,1347.85 2018.17,1338.22 2043.36,1329.8 2068.56,1321.7 2093.75,1312.92 \n",
       "  2118.95,1302.99 2144.14,1288.6 2169.34,1274.46 2194.53,1259.64 2219.73,1247.21 2244.92,1227.65 2270.12,1215.04 2295.31,1202.99 \n",
       "  \"/>\n",
       "<polyline clip-path=\"url(#clip0802)\" style=\"stroke:#3da44d; stroke-width:4; stroke-opacity:1; fill:none\" points=\"\n",
       "  380.489,1384.81 405.684,1384.5 430.879,1383.59 456.074,1382 481.269,1379.8 506.464,1377.17 531.659,1368.53 556.854,1366.63 582.049,1359.89 607.244,1354.44 \n",
       "  632.439,1347.59 657.634,1332.03 682.829,1321.91 708.024,1308.81 733.219,1296.56 758.414,1286.23 783.609,1274.67 808.804,1265.79 833.999,1255.9 859.194,1247.61 \n",
       "  884.389,1240.94 909.584,1239.72 934.779,1190.04 959.975,1168.83 985.17,1162.09 1010.36,1155.2 1035.56,1148.89 1060.75,1143.06 1085.95,1141.72 1111.14,1140.22 \n",
       "  1136.34,1138.67 1161.53,1133.9 1186.73,1133.83 1211.92,1133.12 1237.12,1131.43 1262.31,1130.08 1287.51,1128.66 1312.7,1127.58 1337.9,1126.17 1363.1,1124.28 \n",
       "  1388.29,1123.61 1413.49,1123.2 1438.68,1122.79 1463.88,1122.3 1489.07,1121.8 1514.27,1121.53 1539.46,1121.36 1564.66,1121.24 1589.85,1121.15 1615.05,1121.04 \n",
       "  1640.24,1121 1665.44,1120.96 1690.63,1120.85 1715.83,1120.77 1741.02,1120.67 1766.22,1120.59 1791.41,1120.44 1816.61,1120.27 1841.8,1119.96 1867,1119.78 \n",
       "  1892.19,1119.35 1917.39,1119.14 1942.58,1118.84 1967.78,1118.61 1992.97,1118.21 2018.17,1117.84 2043.36,1117.5 2068.56,1117.1 2093.75,1116.85 2118.95,1116.58 \n",
       "  2144.14,1116.31 2169.34,1116.08 2194.53,1115.82 2219.73,1115.72 2244.92,1115.52 2270.12,1115.31 2295.31,1115.14 \n",
       "  \"/>\n",
       "<polyline clip-path=\"url(#clip0802)\" style=\"stroke:#c271d2; stroke-width:4; stroke-opacity:1; fill:none\" points=\"\n",
       "  380.489,1386.61 405.684,1386.61 430.879,1386.6 456.074,1386.6 481.269,1386.6 506.464,1386.6 531.659,1386.6 556.854,1386.6 582.049,1386.6 607.244,1386.58 \n",
       "  632.439,1386.57 657.634,1386.56 682.829,1386.56 708.024,1386.56 733.219,1386.55 758.414,1386.54 783.609,1386.53 808.804,1386.53 833.999,1386.53 859.194,1386.52 \n",
       "  884.389,1386.52 909.584,1386.52 934.779,1386.52 959.975,1386.52 985.17,1386.52 1010.36,1386.52 1035.56,1386.51 1060.75,1386.51 1085.95,1386.51 1111.14,1386.27 \n",
       "  1136.34,1385.94 1161.53,1385.19 1186.73,1384.64 1211.92,1383.88 1237.12,1383.4 1262.31,1382.47 1287.51,1380.82 1312.7,1378.94 1337.9,1376.27 1363.1,1374.35 \n",
       "  1388.29,1372.38 1413.49,1369.59 1438.68,1368.16 1463.88,1366.63 1489.07,1364.97 1514.27,1363.5 1539.46,1362.61 1564.66,1362.07 1589.85,1361.95 1615.05,1361.16 \n",
       "  1640.24,1360.79 1665.44,1360.43 1690.63,1360.07 1715.83,1359.82 1741.02,1359.58 1766.22,1359.31 1791.41,1359 1816.61,1358.5 1841.8,1358.22 1867,1357.73 \n",
       "  1892.19,1357.2 1917.39,1357.2 1942.58,1356.95 1967.78,1356.62 1992.97,1356.28 2018.17,1355.98 2043.36,1355.51 2068.56,1355.16 2093.75,1354.91 2118.95,1354.49 \n",
       "  2144.14,1354.16 2169.34,1353.87 2194.53,1353.59 2219.73,1353.28 2244.92,1353.01 2270.12,1352.86 2295.31,1352.71 \n",
       "  \"/>\n",
       "<polyline clip-path=\"url(#clip0802)\" style=\"stroke:#ac8d18; stroke-width:4; stroke-opacity:1; fill:none\" points=\"\n",
       "  380.489,1386.6 405.684,1386.6 430.879,1386.6 456.074,1386.6 481.269,1386.6 506.464,1386.6 531.659,1386.59 556.854,1386.59 582.049,1386.58 607.244,1386.56 \n",
       "  632.439,1386.55 657.634,1386.55 682.829,1386.55 708.024,1386.54 733.219,1386.54 758.414,1386.54 783.609,1386.53 808.804,1386.53 833.999,1386.53 859.194,1386.53 \n",
       "  884.389,1386.53 909.584,1386.52 934.779,1386.52 959.975,1386.52 985.17,1386.47 1010.36,1386.42 1035.56,1386.39 1060.75,1386.37 1085.95,1386.34 1111.14,1386.3 \n",
       "  1136.34,1386.27 1161.53,1386.21 1186.73,1386.13 1211.92,1386.09 1237.12,1386.05 1262.31,1385.99 1287.51,1385.91 1312.7,1385.86 1337.9,1385.82 1363.1,1385.77 \n",
       "  1388.29,1385.71 1413.49,1385.65 1438.68,1385.52 1463.88,1385.43 1489.07,1385.23 1514.27,1385.1 1539.46,1384.96 1564.66,1384.93 1589.85,1384.7 1615.05,1384.51 \n",
       "  1640.24,1384.51 1665.44,1384.31 1690.63,1384.07 1715.83,1383.86 1741.02,1383.86 1766.22,1383.73 1791.41,1383.69 1816.61,1383.58 1841.8,1383.45 1867,1383.31 \n",
       "  1892.19,1383 1917.39,1382.91 1942.58,1382.7 1967.78,1382.32 1992.97,1382.06 2018.17,1381.79 2043.36,1381.06 2068.56,1380.49 2093.75,1380.49 2118.95,1380.2 \n",
       "  2144.14,1379.46 2169.34,1378.42 2194.53,1378.02 2219.73,1376.31 2244.92,1376.31 2270.12,1374.62 2295.31,1373.79 \n",
       "  \"/>\n",
       "<polyline clip-path=\"url(#clip0802)\" style=\"stroke:#00a9ad; stroke-width:4; stroke-opacity:1; fill:none\" points=\"\n",
       "  430.879,1386.6 456.074,1386.6 481.269,1386.6 506.464,1386.6 531.659,1386.6 556.854,1386.59 582.049,1386.59 607.244,1386.59 632.439,1386.59 657.634,1386.59 \n",
       "  682.829,1386.59 708.024,1386.59 733.219,1386.59 758.414,1386.59 783.609,1386.59 808.804,1386.58 833.999,1386.58 859.194,1386.58 884.389,1386.58 909.584,1386.58 \n",
       "  934.779,1386.58 959.975,1386.58 985.17,1386.57 1010.36,1386.57 1035.56,1386.57 1060.75,1386.57 1085.95,1386.57 1111.14,1386.57 1136.34,1386.57 1161.53,1386.57 \n",
       "  1186.73,1386.57 1211.92,1386.57 1237.12,1386.57 1262.31,1386.55 1287.51,1386.49 1312.7,1386.42 1337.9,1386.28 1363.1,1386.18 1388.29,1385.98 1413.49,1385.94 \n",
       "  1438.68,1385.67 1463.88,1385.36 1489.07,1384.46 1514.27,1383.46 1539.46,1382.88 1564.66,1382.61 1589.85,1380.72 1615.05,1379.09 1640.24,1379.09 1665.44,1374.53 \n",
       "  1690.63,1371.86 1715.83,1371.74 1741.02,1364.68 1766.22,1361.29 1791.41,1356.67 1816.61,1350.61 1841.8,1344.74 1867,1339.15 1892.19,1333.3 1917.39,1320.57 \n",
       "  1942.58,1312.37 1967.78,1302.6 1992.97,1289.63 2018.17,1276.99 2043.36,1261.56 2068.56,1253.01 2093.75,1238.37 2118.95,1213.24 2144.14,1197.09 2169.34,1189.93 \n",
       "  2194.53,1172.63 2219.73,1088.46 2244.92,1078.86 2270.12,1061.83 2295.31,1025.39 \n",
       "  \"/>\n",
       "<polyline clip-path=\"url(#clip0802)\" style=\"stroke:#ed5d92; stroke-width:4; stroke-opacity:1; fill:none\" points=\"\n",
       "  380.489,1386.61 405.684,1386.61 430.879,1386.6 456.074,1386.6 481.269,1386.59 506.464,1386.59 531.659,1386.59 556.854,1386.59 582.049,1386.59 607.244,1386.59 \n",
       "  632.439,1386.59 657.634,1386.59 682.829,1386.58 708.024,1386.58 733.219,1386.58 758.414,1386.58 783.609,1386.58 808.804,1386.58 833.999,1386.58 859.194,1386.58 \n",
       "  884.389,1386.57 909.584,1386.57 934.779,1386.57 959.975,1386.57 985.17,1386.57 1010.36,1386.57 1035.56,1386.57 1060.75,1386.57 1085.95,1386.57 1111.14,1386.57 \n",
       "  1136.34,1386.56 1161.53,1386.56 1186.73,1386.56 1211.92,1386.44 1237.12,1386.44 1262.31,1386.42 1287.51,1386.42 1312.7,1386.41 1337.9,1386.39 1363.1,1386.37 \n",
       "  1388.29,1386.29 1413.49,1386.22 1438.68,1386.12 1463.88,1385.9 1489.07,1385.75 1514.27,1385.29 1539.46,1384.91 1564.66,1384.7 1589.85,1383.46 1615.05,1382.41 \n",
       "  1640.24,1381.15 1665.44,1379.46 1690.63,1377.66 1715.83,1375.13 1741.02,1371.41 1766.22,1365.54 1791.41,1361.07 1816.61,1341.5 1841.8,1323.36 1867,1302.6 \n",
       "  1892.19,1277.4 1917.39,1242.71 1942.58,1210.24 1967.78,1170.74 1992.97,1111.47 2018.17,1052.99 2043.36,987.935 2068.56,924.165 2093.75,855.482 2118.95,769.053 \n",
       "  2144.14,686.35 2169.34,587.093 2194.53,482.171 2219.73,373.002 2244.92,280.381 2270.12,183.254 2295.31,86.2547 \n",
       "  \"/>\n",
       "<path clip-path=\"url(#clip0800)\" d=\"\n",
       "M395.044 614.604 L977.467 614.604 L977.467 130.764 L395.044 130.764  Z\n",
       "  \" fill=\"#ffffff\" fill-rule=\"evenodd\" fill-opacity=\"1\"/>\n",
       "<polyline clip-path=\"url(#clip0800)\" style=\"stroke:#000000; stroke-width:4; stroke-opacity:1; fill:none\" points=\"\n",
       "  395.044,614.604 977.467,614.604 977.467,130.764 395.044,130.764 395.044,614.604 \n",
       "  \"/>\n",
       "<polyline clip-path=\"url(#clip0800)\" style=\"stroke:#009af9; stroke-width:4; stroke-opacity:1; fill:none\" points=\"\n",
       "  419.044,191.244 563.044,191.244 \n",
       "  \"/>\n",
       "<g clip-path=\"url(#clip0800)\">\n",
       "<text style=\"fill:#000000; fill-opacity:1; font-family:Arial,Helvetica Neue,Helvetica,sans-serif; font-size:48px; text-anchor:start;\" transform=\"rotate(0, 587.044, 208.744)\" x=\"587.044\" y=\"208.744\">Germany</text>\n",
       "</g>\n",
       "<polyline clip-path=\"url(#clip0800)\" style=\"stroke:#e26f46; stroke-width:4; stroke-opacity:1; fill:none\" points=\"\n",
       "  419.044,251.724 563.044,251.724 \n",
       "  \"/>\n",
       "<g clip-path=\"url(#clip0800)\">\n",
       "<text style=\"fill:#000000; fill-opacity:1; font-family:Arial,Helvetica Neue,Helvetica,sans-serif; font-size:48px; text-anchor:start;\" transform=\"rotate(0, 587.044, 269.224)\" x=\"587.044\" y=\"269.224\">United Kingdom</text>\n",
       "</g>\n",
       "<polyline clip-path=\"url(#clip0800)\" style=\"stroke:#3da44d; stroke-width:4; stroke-opacity:1; fill:none\" points=\"\n",
       "  419.044,312.204 563.044,312.204 \n",
       "  \"/>\n",
       "<g clip-path=\"url(#clip0800)\">\n",
       "<text style=\"fill:#000000; fill-opacity:1; font-family:Arial,Helvetica Neue,Helvetica,sans-serif; font-size:48px; text-anchor:start;\" transform=\"rotate(0, 587.044, 329.704)\" x=\"587.044\" y=\"329.704\">China</text>\n",
       "</g>\n",
       "<polyline clip-path=\"url(#clip0800)\" style=\"stroke:#c271d2; stroke-width:4; stroke-opacity:1; fill:none\" points=\"\n",
       "  419.044,372.684 563.044,372.684 \n",
       "  \"/>\n",
       "<g clip-path=\"url(#clip0800)\">\n",
       "<text style=\"fill:#000000; fill-opacity:1; font-family:Arial,Helvetica Neue,Helvetica,sans-serif; font-size:48px; text-anchor:start;\" transform=\"rotate(0, 587.044, 390.184)\" x=\"587.044\" y=\"390.184\">Korea, South</text>\n",
       "</g>\n",
       "<polyline clip-path=\"url(#clip0800)\" style=\"stroke:#ac8d18; stroke-width:4; stroke-opacity:1; fill:none\" points=\"\n",
       "  419.044,433.164 563.044,433.164 \n",
       "  \"/>\n",
       "<g clip-path=\"url(#clip0800)\">\n",
       "<text style=\"fill:#000000; fill-opacity:1; font-family:Arial,Helvetica Neue,Helvetica,sans-serif; font-size:48px; text-anchor:start;\" transform=\"rotate(0, 587.044, 450.664)\" x=\"587.044\" y=\"450.664\">Japan</text>\n",
       "</g>\n",
       "<polyline clip-path=\"url(#clip0800)\" style=\"stroke:#00a9ad; stroke-width:4; stroke-opacity:1; fill:none\" points=\"\n",
       "  419.044,493.644 563.044,493.644 \n",
       "  \"/>\n",
       "<g clip-path=\"url(#clip0800)\">\n",
       "<text style=\"fill:#000000; fill-opacity:1; font-family:Arial,Helvetica Neue,Helvetica,sans-serif; font-size:48px; text-anchor:start;\" transform=\"rotate(0, 587.044, 511.144)\" x=\"587.044\" y=\"511.144\">France</text>\n",
       "</g>\n",
       "<polyline clip-path=\"url(#clip0800)\" style=\"stroke:#ed5d92; stroke-width:4; stroke-opacity:1; fill:none\" points=\"\n",
       "  419.044,554.124 563.044,554.124 \n",
       "  \"/>\n",
       "<g clip-path=\"url(#clip0800)\">\n",
       "<text style=\"fill:#000000; fill-opacity:1; font-family:Arial,Helvetica Neue,Helvetica,sans-serif; font-size:48px; text-anchor:start;\" transform=\"rotate(0, 587.044, 571.624)\" x=\"587.044\" y=\"571.624\">US</text>\n",
       "</g>\n",
       "</svg>\n"
      ]
     },
     "execution_count": 11,
     "metadata": {},
     "output_type": "execute_result"
    }
   ],
   "source": [
    "plot_graphs(false)"
   ]
  },
  {
   "cell_type": "code",
   "execution_count": 12,
   "metadata": {},
   "outputs": [
    {
     "ename": "LoadError",
     "evalue": "syntax: extra token \"can\" after end of expression",
     "output_type": "error",
     "traceback": [
      "syntax: extra token \"can\" after end of expression",
      ""
     ]
    }
   ],
   "source": [
    "You can see here that there is definitely exponential growth"
   ]
  },
  {
   "cell_type": "code",
   "execution_count": 13,
   "metadata": {},
   "outputs": [
    {
     "data": {
      "text/plain": [
       "plot_graphs_manipulate (generic function with 2 methods)"
      ]
     },
     "execution_count": 13,
     "metadata": {},
     "output_type": "execute_result"
    }
   ],
   "source": [
    "function plot_graphs_manipulate(log=false)\n",
    "    num_days = get_num_days()\n",
    "    country_data = get_country_data()\n",
    "    for country_name in get_countries()\n",
    "        country_data[country_name] = replace_zeros(country_data[country_name])\n",
    "    end\n",
    "    dates = get_dates()\n",
    "    startDate,endDate  = get_start_end_date()\n",
    "    @manipulate for T in slider(1:num_days, value=10)\n",
    "        p = plot(leg=:topleft,)\n",
    "        xlabel!(\"day\")\n",
    "        ylabel!(\"confirmed cases\")\n",
    "        xlims!(startDate, endDate)\n",
    "        plot_dates = dates[1:T]\n",
    "        for country_info in country_data\n",
    "            name = country_info[1]\n",
    "            cases = country_data[name]\n",
    "            cases = cases[1:T]\n",
    "            if log\n",
    "                plot!(plot_dates,cases,label = name, yscale=:log10)\n",
    "            else\n",
    "                plot!(plot_dates,cases,label = name)\n",
    "            end\n",
    "        end\n",
    "        p\n",
    "    end\n",
    "end"
   ]
  },
  {
   "cell_type": "code",
   "execution_count": 14,
   "metadata": {},
   "outputs": [
    {
     "data": {
      "application/vnd.webio.node+json": {
       "children": [
        {
         "children": [
          {
           "children": [
            {
             "children": [
              {
               "children": [
                {
                 "children": [
                  ""
                 ],
                 "instanceArgs": {
                  "namespace": "html",
                  "tag": "label"
                 },
                 "nodeType": "DOM",
                 "props": {
                  "className": "interact ",
                  "style": {
                   "padding": "5px 10px 0px 10px"
                  }
                 },
                 "type": "node"
                }
               ],
               "instanceArgs": {
                "namespace": "html",
                "tag": "div"
               },
               "nodeType": "DOM",
               "props": {
                "className": "interact-flex-row-left"
               },
               "type": "node"
              },
              {
               "children": [
                {
                 "children": [],
                 "instanceArgs": {
                  "namespace": "html",
                  "tag": "input"
                 },
                 "nodeType": "DOM",
                 "props": {
                  "attributes": {
                   "data-bind": "numericValue: index, valueUpdate: 'input', event: {change: function (){this.changes(this.changes()+1)}}",
                   "orient": "horizontal",
                   "type": "range"
                  },
                  "className": "slider slider is-fullwidth",
                  "max": 77,
                  "min": 1,
                  "step": 1,
                  "style": {}
                 },
                 "type": "node"
                }
               ],
               "instanceArgs": {
                "namespace": "html",
                "tag": "div"
               },
               "nodeType": "DOM",
               "props": {
                "className": "interact-flex-row-center"
               },
               "type": "node"
              },
              {
               "children": [
                {
                 "children": [],
                 "instanceArgs": {
                  "namespace": "html",
                  "tag": "p"
                 },
                 "nodeType": "DOM",
                 "props": {
                  "attributes": {
                   "data-bind": "text: formatted_val"
                  }
                 },
                 "type": "node"
                }
               ],
               "instanceArgs": {
                "namespace": "html",
                "tag": "div"
               },
               "nodeType": "DOM",
               "props": {
                "className": "interact-flex-row-right"
               },
               "type": "node"
              }
             ],
             "instanceArgs": {
              "namespace": "html",
              "tag": "div"
             },
             "nodeType": "DOM",
             "props": {
              "className": "interact-flex-row interact-widget"
             },
             "type": "node"
            }
           ],
           "instanceArgs": {
            "handlers": {
             "changes": [
              "(function (val){return (val!=this.model[\"changes\"]()) ? (this.valueFromJulia[\"changes\"]=true, this.model[\"changes\"](val)) : undefined})"
             ],
             "index": [
              "(function (val){return (val!=this.model[\"index\"]()) ? (this.valueFromJulia[\"index\"]=true, this.model[\"index\"](val)) : undefined})"
             ]
            },
            "id": "1607932544045141251",
            "imports": {
             "data": [
              {
               "name": "knockout",
               "type": "js",
               "url": "/assetserver/b860f94f78688b22eb297ac9422dedbc58e4c416-knockout.js"
              },
              {
               "name": "knockout_punches",
               "type": "js",
               "url": "/assetserver/7c440f6e0da891d885878e4bba0e1c045af333ce-knockout_punches.js"
              },
              {
               "name": null,
               "type": "js",
               "url": "/assetserver/ed10687e5e203c9dcc58c6e408c30c32c58d27c2-all.js"
              },
              {
               "name": null,
               "type": "css",
               "url": "/assetserver/a1ce04ad54e406ba65800a3d8a6d360fc2cb04a4-style.css"
              },
              {
               "name": null,
               "type": "css",
               "url": "/assetserver/594cfc32cf120a5994a85b4fb8deff54fc8fbe7b-bulma_confined.min.css"
              }
             ],
             "type": "async_block"
            },
            "mount_callbacks": [
             "function () {\n    var handler = (function (ko, koPunches) {\n    ko.punches.enableAll();\n    ko.bindingHandlers.numericValue = {\n        init: function(element, valueAccessor, allBindings, data, context) {\n            var stringified = ko.observable(ko.unwrap(valueAccessor()));\n            stringified.subscribe(function(value) {\n                var val = parseFloat(value);\n                if (!isNaN(val)) {\n                    valueAccessor()(val);\n                }\n            });\n            valueAccessor().subscribe(function(value) {\n                var str = JSON.stringify(value);\n                if ((str == \"0\") && ([\"-0\", \"-0.\"].indexOf(stringified()) >= 0))\n                     return;\n                 if ([\"null\", \"\"].indexOf(str) >= 0)\n                     return;\n                stringified(str);\n            });\n            ko.applyBindingsToNode(\n                element,\n                {\n                    value: stringified,\n                    valueUpdate: allBindings.get('valueUpdate'),\n                },\n                context,\n            );\n        }\n    };\n    var json_data = {\"formatted_vals\":[\"1\",\"2\",\"3\",\"4\",\"5\",\"6\",\"7\",\"8\",\"9\",\"10\",\"11\",\"12\",\"13\",\"14\",\"15\",\"16\",\"17\",\"18\",\"19\",\"20\",\"21\",\"22\",\"23\",\"24\",\"25\",\"26\",\"27\",\"28\",\"29\",\"30\",\"31\",\"32\",\"33\",\"34\",\"35\",\"36\",\"37\",\"38\",\"39\",\"40\",\"41\",\"42\",\"43\",\"44\",\"45\",\"46\",\"47\",\"48\",\"49\",\"50\",\"51\",\"52\",\"53\",\"54\",\"55\",\"56\",\"57\",\"58\",\"59\",\"60\",\"61\",\"62\",\"63\",\"64\",\"65\",\"66\",\"67\",\"68\",\"69\",\"70\",\"71\",\"72\",\"73\",\"74\",\"75\",\"76\",\"77\"],\"changes\":WebIO.getval({\"name\":\"changes\",\"scope\":\"1607932544045141251\",\"id\":\"ob_02\",\"type\":\"observable\"}),\"index\":WebIO.getval({\"name\":\"index\",\"scope\":\"1607932544045141251\",\"id\":\"ob_01\",\"type\":\"observable\"})};\n    var self = this;\n    function AppViewModel() {\n        for (var key in json_data) {\n            var el = json_data[key];\n            this[key] = Array.isArray(el) ? ko.observableArray(el) : ko.observable(el);\n        }\n        \n        [this[\"formatted_val\"]=ko.computed(    function(){\n        return this.formatted_vals()[parseInt(this.index())-(1)];\n    }\n,this)]\n        [this[\"changes\"].subscribe((function (val){!(this.valueFromJulia[\"changes\"]) ? (WebIO.setval({\"name\":\"changes\",\"scope\":\"1607932544045141251\",\"id\":\"ob_02\",\"type\":\"observable\"},val)) : undefined; return this.valueFromJulia[\"changes\"]=false}),self),this[\"index\"].subscribe((function (val){!(this.valueFromJulia[\"index\"]) ? (WebIO.setval({\"name\":\"index\",\"scope\":\"1607932544045141251\",\"id\":\"ob_01\",\"type\":\"observable\"},val)) : undefined; return this.valueFromJulia[\"index\"]=false}),self)]\n        \n    }\n    self.model = new AppViewModel();\n    self.valueFromJulia = {};\n    for (var key in json_data) {\n        self.valueFromJulia[key] = false;\n    }\n    ko.applyBindings(self.model, self.dom);\n}\n);\n    (WebIO.importBlock({\"data\":[{\"name\":\"knockout\",\"type\":\"js\",\"url\":\"/assetserver/b860f94f78688b22eb297ac9422dedbc58e4c416-knockout.js\"},{\"name\":\"knockout_punches\",\"type\":\"js\",\"url\":\"/assetserver/7c440f6e0da891d885878e4bba0e1c045af333ce-knockout_punches.js\"}],\"type\":\"async_block\"})).then((imports) => handler.apply(this, imports));\n}\n"
            ],
            "observables": {
             "changes": {
              "id": "ob_02",
              "sync": false,
              "value": 0
             },
             "index": {
              "id": "ob_01",
              "sync": true,
              "value": 10
             }
            },
            "systemjs_options": null
           },
           "nodeType": "Scope",
           "props": {},
           "type": "node"
          }
         ],
         "instanceArgs": {
          "namespace": "html",
          "tag": "div"
         },
         "nodeType": "DOM",
         "props": {
          "className": "field interact-widget"
         },
         "type": "node"
        },
        {
         "children": [
          {
           "children": [],
           "instanceArgs": {
            "id": "ob_08",
            "name": "obs-node"
           },
           "nodeType": "ObservableNode",
           "props": {},
           "type": "node"
          }
         ],
         "instanceArgs": {
          "handlers": {},
          "id": "9938237500030689387",
          "imports": {
           "data": [],
           "type": "async_block"
          },
          "mount_callbacks": [],
          "observables": {
           "obs-node": {
            "id": "ob_08",
            "sync": false,
            "value": {
             "children": [
              {
               "children": [],
               "instanceArgs": {
                "namespace": "html",
                "tag": "div"
               },
               "nodeType": "DOM",
               "props": {
                "setInnerHtml": "<?xml version=\"1.0\" encoding=\"utf-8\"?>\n<svg xmlns=\"http://www.w3.org/2000/svg\" xmlns:xlink=\"http://www.w3.org/1999/xlink\" width=\"600\" height=\"400\" viewBox=\"0 0 2400 1600\">\n<defs>\n  <clipPath id=\"clip1600\">\n    <rect x=\"0\" y=\"0\" width=\"2400\" height=\"1600\"/>\n  </clipPath>\n</defs>\n<path clip-path=\"url(#clip1600)\" d=\"\nM0 1600 L2400 1600 L2400 0 L0 0  Z\n  \" fill=\"#ffffff\" fill-rule=\"evenodd\" fill-opacity=\"1\"/>\n<defs>\n  <clipPath id=\"clip1601\">\n    <rect x=\"480\" y=\"0\" width=\"1681\" height=\"1600\"/>\n  </clipPath>\n</defs>\n<path clip-path=\"url(#clip1600)\" d=\"\nM282.66 1425.62 L2352.76 1425.62 L2352.76 47.2441 L282.66 47.2441  Z\n  \" fill=\"#ffffff\" fill-rule=\"evenodd\" fill-opacity=\"1\"/>\n<defs>\n  <clipPath id=\"clip1602\">\n    <rect x=\"282\" y=\"47\" width=\"2071\" height=\"1379\"/>\n  </clipPath>\n</defs>\n<polyline clip-path=\"url(#clip1602)\" style=\"stroke:#000000; stroke-width:2; stroke-opacity:0.1; fill:none\" points=\"\n  555.041,1425.62 555.041,47.2441 \n  \"/>\n<polyline clip-path=\"url(#clip1602)\" style=\"stroke:#000000; stroke-width:2; stroke-opacity:0.1; fill:none\" points=\"\n  1344.95,1425.62 1344.95,47.2441 \n  \"/>\n<polyline clip-path=\"url(#clip1602)\" style=\"stroke:#000000; stroke-width:2; stroke-opacity:0.1; fill:none\" points=\"\n  2189.33,1425.62 2189.33,47.2441 \n  \"/>\n<polyline clip-path=\"url(#clip1602)\" style=\"stroke:#000000; stroke-width:2; stroke-opacity:0.1; fill:none\" points=\"\n  282.66,1386.74 2352.76,1386.74 \n  \"/>\n<polyline clip-path=\"url(#clip1602)\" style=\"stroke:#000000; stroke-width:2; stroke-opacity:0.1; fill:none\" points=\"\n  282.66,1055.05 2352.76,1055.05 \n  \"/>\n<polyline clip-path=\"url(#clip1602)\" style=\"stroke:#000000; stroke-width:2; stroke-opacity:0.1; fill:none\" points=\"\n  282.66,723.363 2352.76,723.363 \n  \"/>\n<polyline clip-path=\"url(#clip1602)\" style=\"stroke:#000000; stroke-width:2; stroke-opacity:0.1; fill:none\" points=\"\n  282.66,391.674 2352.76,391.674 \n  \"/>\n<polyline clip-path=\"url(#clip1602)\" style=\"stroke:#000000; stroke-width:2; stroke-opacity:0.1; fill:none\" points=\"\n  282.66,59.9849 2352.76,59.9849 \n  \"/>\n<polyline clip-path=\"url(#clip1600)\" style=\"stroke:#000000; stroke-width:4; stroke-opacity:1; fill:none\" points=\"\n  282.66,1425.62 2352.76,1425.62 \n  \"/>\n<polyline clip-path=\"url(#clip1600)\" style=\"stroke:#000000; stroke-width:4; stroke-opacity:1; fill:none\" points=\"\n  282.66,1425.62 282.66,47.2441 \n  \"/>\n<polyline clip-path=\"url(#clip1600)\" style=\"stroke:#000000; stroke-width:4; stroke-opacity:1; fill:none\" points=\"\n  555.041,1425.62 555.041,1409.08 \n  \"/>\n<polyline clip-path=\"url(#clip1600)\" style=\"stroke:#000000; stroke-width:4; stroke-opacity:1; fill:none\" points=\"\n  1344.95,1425.62 1344.95,1409.08 \n  \"/>\n<polyline clip-path=\"url(#clip1600)\" style=\"stroke:#000000; stroke-width:4; stroke-opacity:1; fill:none\" points=\"\n  2189.33,1425.62 2189.33,1409.08 \n  \"/>\n<polyline clip-path=\"url(#clip1600)\" style=\"stroke:#000000; stroke-width:4; stroke-opacity:1; fill:none\" points=\"\n  282.66,1386.74 307.501,1386.74 \n  \"/>\n<polyline clip-path=\"url(#clip1600)\" style=\"stroke:#000000; stroke-width:4; stroke-opacity:1; fill:none\" points=\"\n  282.66,1055.05 307.501,1055.05 \n  \"/>\n<polyline clip-path=\"url(#clip1600)\" style=\"stroke:#000000; stroke-width:4; stroke-opacity:1; fill:none\" points=\"\n  282.66,723.363 307.501,723.363 \n  \"/>\n<polyline clip-path=\"url(#clip1600)\" style=\"stroke:#000000; stroke-width:4; stroke-opacity:1; fill:none\" points=\"\n  282.66,391.674 307.501,391.674 \n  \"/>\n<polyline clip-path=\"url(#clip1600)\" style=\"stroke:#000000; stroke-width:4; stroke-opacity:1; fill:none\" points=\"\n  282.66,59.9849 307.501,59.9849 \n  \"/>\n<g clip-path=\"url(#clip1600)\">\n<text style=\"fill:#000000; fill-opacity:1; font-family:Arial,Helvetica Neue,Helvetica,sans-serif; font-size:48px; text-anchor:middle;\" transform=\"rotate(0, 555.041, 1479.62)\" x=\"555.041\" y=\"1479.62\">2020-02-01</text>\n</g>\n<g clip-path=\"url(#clip1600)\">\n<text style=\"fill:#000000; fill-opacity:1; font-family:Arial,Helvetica Neue,Helvetica,sans-serif; font-size:48px; text-anchor:middle;\" transform=\"rotate(0, 1344.95, 1479.62)\" x=\"1344.95\" y=\"1479.62\">2020-03-01</text>\n</g>\n<g clip-path=\"url(#clip1600)\">\n<text style=\"fill:#000000; fill-opacity:1; font-family:Arial,Helvetica Neue,Helvetica,sans-serif; font-size:48px; text-anchor:middle;\" transform=\"rotate(0, 2189.33, 1479.62)\" x=\"2189.33\" y=\"1479.62\">2020-04-01</text>\n</g>\n<g clip-path=\"url(#clip1600)\">\n<text style=\"fill:#000000; fill-opacity:1; font-family:Arial,Helvetica Neue,Helvetica,sans-serif; font-size:48px; text-anchor:end;\" transform=\"rotate(0, 258.66, 1404.24)\" x=\"258.66\" y=\"1404.24\">0</text>\n</g>\n<g clip-path=\"url(#clip1600)\">\n<text style=\"fill:#000000; fill-opacity:1; font-family:Arial,Helvetica Neue,Helvetica,sans-serif; font-size:48px; text-anchor:end;\" transform=\"rotate(0, 258.66, 1072.55)\" x=\"258.66\" y=\"1072.55\">2500</text>\n</g>\n<g clip-path=\"url(#clip1600)\">\n<text style=\"fill:#000000; fill-opacity:1; font-family:Arial,Helvetica Neue,Helvetica,sans-serif; font-size:48px; text-anchor:end;\" transform=\"rotate(0, 258.66, 740.863)\" x=\"258.66\" y=\"740.863\">5000</text>\n</g>\n<g clip-path=\"url(#clip1600)\">\n<text style=\"fill:#000000; fill-opacity:1; font-family:Arial,Helvetica Neue,Helvetica,sans-serif; font-size:48px; text-anchor:end;\" transform=\"rotate(0, 258.66, 409.174)\" x=\"258.66\" y=\"409.174\">7500</text>\n</g>\n<g clip-path=\"url(#clip1600)\">\n<text style=\"fill:#000000; fill-opacity:1; font-family:Arial,Helvetica Neue,Helvetica,sans-serif; font-size:48px; text-anchor:end;\" transform=\"rotate(0, 258.66, 77.4849)\" x=\"258.66\" y=\"77.4849\">10000</text>\n</g>\n<g clip-path=\"url(#clip1600)\">\n<text style=\"fill:#000000; fill-opacity:1; font-family:Arial,Helvetica Neue,Helvetica,sans-serif; font-size:66px; text-anchor:middle;\" transform=\"rotate(0, 1317.71, 1559.48)\" x=\"1317.71\" y=\"1559.48\">day</text>\n</g>\n<g clip-path=\"url(#clip1600)\">\n<text style=\"fill:#000000; fill-opacity:1; font-family:Arial,Helvetica Neue,Helvetica,sans-serif; font-size:66px; text-anchor:middle;\" transform=\"rotate(-90, 89.2861, 736.431)\" x=\"89.2861\" y=\"736.431\">confirmed cases</text>\n</g>\n<polyline clip-path=\"url(#clip1602)\" style=\"stroke:#009af9; stroke-width:4; stroke-opacity:1; fill:none\" points=\"\n  418.85,1386.61 446.089,1386.21 473.327,1386.21 500.565,1386.21 527.803,1386.08 \n  \"/>\n<polyline clip-path=\"url(#clip1602)\" style=\"stroke:#3da44d; stroke-width:4; stroke-opacity:1; fill:none\" points=\"\n  282.66,1314.03 309.898,1301.43 337.136,1264.68 364.374,1200.2 391.612,1111.44 418.85,1005.03 446.089,655.831 473.327,579.144 500.565,306.629 527.803,86.2547 \n  \n  \"/>\n<polyline clip-path=\"url(#clip1602)\" style=\"stroke:#c271d2; stroke-width:4; stroke-opacity:1; fill:none\" points=\"\n  282.66,1386.61 309.898,1386.61 337.136,1386.48 364.374,1386.48 391.612,1386.34 418.85,1386.21 446.089,1386.21 473.327,1386.21 500.565,1386.21 527.803,1385.28 \n  \n  \"/>\n<polyline clip-path=\"url(#clip1602)\" style=\"stroke:#ac8d18; stroke-width:4; stroke-opacity:1; fill:none\" points=\"\n  282.66,1386.48 309.898,1386.48 337.136,1386.48 364.374,1386.48 391.612,1386.21 418.85,1386.21 446.089,1385.81 473.327,1385.81 500.565,1385.28 527.803,1384.75 \n  \n  \"/>\n<polyline clip-path=\"url(#clip1602)\" style=\"stroke:#00a9ad; stroke-width:4; stroke-opacity:1; fill:none\" points=\"\n  337.136,1386.48 364.374,1386.34 391.612,1386.34 418.85,1386.34 446.089,1386.21 473.327,1386.08 500.565,1386.08 527.803,1386.08 \n  \"/>\n<polyline clip-path=\"url(#clip1602)\" style=\"stroke:#ed5d92; stroke-width:4; stroke-opacity:1; fill:none\" points=\"\n  282.66,1386.61 309.898,1386.61 337.136,1386.48 364.374,1386.48 391.612,1386.08 418.85,1386.08 446.089,1386.08 473.327,1386.08 500.565,1386.08 527.803,1385.81 \n  \n  \"/>\n<path clip-path=\"url(#clip1600)\" d=\"\nM354.66 614.604 L937.083 614.604 L937.083 130.764 L354.66 130.764  Z\n  \" fill=\"#ffffff\" fill-rule=\"evenodd\" fill-opacity=\"1\"/>\n<polyline clip-path=\"url(#clip1600)\" style=\"stroke:#000000; stroke-width:4; stroke-opacity:1; fill:none\" points=\"\n  354.66,614.604 937.083,614.604 937.083,130.764 354.66,130.764 354.66,614.604 \n  \"/>\n<polyline clip-path=\"url(#clip1600)\" style=\"stroke:#009af9; stroke-width:4; stroke-opacity:1; fill:none\" points=\"\n  378.66,191.244 522.66,191.244 \n  \"/>\n<g clip-path=\"url(#clip1600)\">\n<text style=\"fill:#000000; fill-opacity:1; font-family:Arial,Helvetica Neue,Helvetica,sans-serif; font-size:48px; text-anchor:start;\" transform=\"rotate(0, 546.66, 208.744)\" x=\"546.66\" y=\"208.744\">Germany</text>\n</g>\n<polyline clip-path=\"url(#clip1600)\" style=\"stroke:#e26f46; stroke-width:4; stroke-opacity:1; fill:none\" points=\"\n  378.66,251.724 522.66,251.724 \n  \"/>\n<g clip-path=\"url(#clip1600)\">\n<text style=\"fill:#000000; fill-opacity:1; font-family:Arial,Helvetica Neue,Helvetica,sans-serif; font-size:48px; text-anchor:start;\" transform=\"rotate(0, 546.66, 269.224)\" x=\"546.66\" y=\"269.224\">United Kingdom</text>\n</g>\n<polyline clip-path=\"url(#clip1600)\" style=\"stroke:#3da44d; stroke-width:4; stroke-opacity:1; fill:none\" points=\"\n  378.66,312.204 522.66,312.204 \n  \"/>\n<g clip-path=\"url(#clip1600)\">\n<text style=\"fill:#000000; fill-opacity:1; font-family:Arial,Helvetica Neue,Helvetica,sans-serif; font-size:48px; text-anchor:start;\" transform=\"rotate(0, 546.66, 329.704)\" x=\"546.66\" y=\"329.704\">China</text>\n</g>\n<polyline clip-path=\"url(#clip1600)\" style=\"stroke:#c271d2; stroke-width:4; stroke-opacity:1; fill:none\" points=\"\n  378.66,372.684 522.66,372.684 \n  \"/>\n<g clip-path=\"url(#clip1600)\">\n<text style=\"fill:#000000; fill-opacity:1; font-family:Arial,Helvetica Neue,Helvetica,sans-serif; font-size:48px; text-anchor:start;\" transform=\"rotate(0, 546.66, 390.184)\" x=\"546.66\" y=\"390.184\">Korea, South</text>\n</g>\n<polyline clip-path=\"url(#clip1600)\" style=\"stroke:#ac8d18; stroke-width:4; stroke-opacity:1; fill:none\" points=\"\n  378.66,433.164 522.66,433.164 \n  \"/>\n<g clip-path=\"url(#clip1600)\">\n<text style=\"fill:#000000; fill-opacity:1; font-family:Arial,Helvetica Neue,Helvetica,sans-serif; font-size:48px; text-anchor:start;\" transform=\"rotate(0, 546.66, 450.664)\" x=\"546.66\" y=\"450.664\">Japan</text>\n</g>\n<polyline clip-path=\"url(#clip1600)\" style=\"stroke:#00a9ad; stroke-width:4; stroke-opacity:1; fill:none\" points=\"\n  378.66,493.644 522.66,493.644 \n  \"/>\n<g clip-path=\"url(#clip1600)\">\n<text style=\"fill:#000000; fill-opacity:1; font-family:Arial,Helvetica Neue,Helvetica,sans-serif; font-size:48px; text-anchor:start;\" transform=\"rotate(0, 546.66, 511.144)\" x=\"546.66\" y=\"511.144\">France</text>\n</g>\n<polyline clip-path=\"url(#clip1600)\" style=\"stroke:#ed5d92; stroke-width:4; stroke-opacity:1; fill:none\" points=\"\n  378.66,554.124 522.66,554.124 \n  \"/>\n<g clip-path=\"url(#clip1600)\">\n<text style=\"fill:#000000; fill-opacity:1; font-family:Arial,Helvetica Neue,Helvetica,sans-serif; font-size:48px; text-anchor:start;\" transform=\"rotate(0, 546.66, 571.624)\" x=\"546.66\" y=\"571.624\">US</text>\n</g>\n</svg>\n"
               },
               "type": "node"
              }
             ],
             "instanceArgs": {
              "namespace": "html",
              "tag": "div"
             },
             "nodeType": "DOM",
             "props": {
              "className": "interact-flex-row interact-widget"
             },
             "type": "node"
            }
           }
          },
          "systemjs_options": null
         },
         "nodeType": "Scope",
         "props": {},
         "type": "node"
        }
       ],
       "instanceArgs": {
        "namespace": "html",
        "tag": "div"
       },
       "nodeType": "DOM",
       "props": {},
       "type": "node"
      },
      "text/html": [
       "<div\n",
       "    class=\"webio-mountpoint\"\n",
       "    data-webio-mountpoint=\"1543613448783805518\"\n",
       ">\n",
       "    <script>\n",
       "    if (window.require && require.defined && require.defined(\"nbextensions/webio-jupyter-notebook\")) {\n",
       "        console.log(\"Jupyter WebIO extension detected, not mounting.\");\n",
       "    } else if (window.WebIO) {\n",
       "        WebIO.mount(\n",
       "            document.querySelector('[data-webio-mountpoint=\"1543613448783805518\"]'),\n",
       "            {\"props\":{},\"nodeType\":\"DOM\",\"type\":\"node\",\"instanceArgs\":{\"namespace\":\"html\",\"tag\":\"div\"},\"children\":[{\"props\":{\"className\":\"field interact-widget\"},\"nodeType\":\"DOM\",\"type\":\"node\",\"instanceArgs\":{\"namespace\":\"html\",\"tag\":\"div\"},\"children\":[{\"props\":{},\"nodeType\":\"Scope\",\"type\":\"node\",\"instanceArgs\":{\"imports\":{\"data\":[{\"name\":\"knockout\",\"type\":\"js\",\"url\":\"\\/assetserver\\/b860f94f78688b22eb297ac9422dedbc58e4c416-knockout.js\"},{\"name\":\"knockout_punches\",\"type\":\"js\",\"url\":\"\\/assetserver\\/7c440f6e0da891d885878e4bba0e1c045af333ce-knockout_punches.js\"},{\"name\":null,\"type\":\"js\",\"url\":\"\\/assetserver\\/ed10687e5e203c9dcc58c6e408c30c32c58d27c2-all.js\"},{\"name\":null,\"type\":\"css\",\"url\":\"\\/assetserver\\/a1ce04ad54e406ba65800a3d8a6d360fc2cb04a4-style.css\"},{\"name\":null,\"type\":\"css\",\"url\":\"\\/assetserver\\/594cfc32cf120a5994a85b4fb8deff54fc8fbe7b-bulma_confined.min.css\"}],\"type\":\"async_block\"},\"id\":\"1607932544045141251\",\"handlers\":{\"changes\":[\"(function (val){return (val!=this.model[\\\"changes\\\"]()) ? (this.valueFromJulia[\\\"changes\\\"]=true, this.model[\\\"changes\\\"](val)) : undefined})\"],\"index\":[\"(function (val){return (val!=this.model[\\\"index\\\"]()) ? (this.valueFromJulia[\\\"index\\\"]=true, this.model[\\\"index\\\"](val)) : undefined})\"]},\"systemjs_options\":null,\"mount_callbacks\":[\"function () {\\n    var handler = (function (ko, koPunches) {\\n    ko.punches.enableAll();\\n    ko.bindingHandlers.numericValue = {\\n        init: function(element, valueAccessor, allBindings, data, context) {\\n            var stringified = ko.observable(ko.unwrap(valueAccessor()));\\n            stringified.subscribe(function(value) {\\n                var val = parseFloat(value);\\n                if (!isNaN(val)) {\\n                    valueAccessor()(val);\\n                }\\n            });\\n            valueAccessor().subscribe(function(value) {\\n                var str = JSON.stringify(value);\\n                if ((str == \\\"0\\\") && ([\\\"-0\\\", \\\"-0.\\\"].indexOf(stringified()) >= 0))\\n                     return;\\n                 if ([\\\"null\\\", \\\"\\\"].indexOf(str) >= 0)\\n                     return;\\n                stringified(str);\\n            });\\n            ko.applyBindingsToNode(\\n                element,\\n                {\\n                    value: stringified,\\n                    valueUpdate: allBindings.get('valueUpdate'),\\n                },\\n                context,\\n            );\\n        }\\n    };\\n    var json_data = {\\\"formatted_vals\\\":[\\\"1\\\",\\\"2\\\",\\\"3\\\",\\\"4\\\",\\\"5\\\",\\\"6\\\",\\\"7\\\",\\\"8\\\",\\\"9\\\",\\\"10\\\",\\\"11\\\",\\\"12\\\",\\\"13\\\",\\\"14\\\",\\\"15\\\",\\\"16\\\",\\\"17\\\",\\\"18\\\",\\\"19\\\",\\\"20\\\",\\\"21\\\",\\\"22\\\",\\\"23\\\",\\\"24\\\",\\\"25\\\",\\\"26\\\",\\\"27\\\",\\\"28\\\",\\\"29\\\",\\\"30\\\",\\\"31\\\",\\\"32\\\",\\\"33\\\",\\\"34\\\",\\\"35\\\",\\\"36\\\",\\\"37\\\",\\\"38\\\",\\\"39\\\",\\\"40\\\",\\\"41\\\",\\\"42\\\",\\\"43\\\",\\\"44\\\",\\\"45\\\",\\\"46\\\",\\\"47\\\",\\\"48\\\",\\\"49\\\",\\\"50\\\",\\\"51\\\",\\\"52\\\",\\\"53\\\",\\\"54\\\",\\\"55\\\",\\\"56\\\",\\\"57\\\",\\\"58\\\",\\\"59\\\",\\\"60\\\",\\\"61\\\",\\\"62\\\",\\\"63\\\",\\\"64\\\",\\\"65\\\",\\\"66\\\",\\\"67\\\",\\\"68\\\",\\\"69\\\",\\\"70\\\",\\\"71\\\",\\\"72\\\",\\\"73\\\",\\\"74\\\",\\\"75\\\",\\\"76\\\",\\\"77\\\"],\\\"changes\\\":WebIO.getval({\\\"name\\\":\\\"changes\\\",\\\"scope\\\":\\\"1607932544045141251\\\",\\\"id\\\":\\\"ob_02\\\",\\\"type\\\":\\\"observable\\\"}),\\\"index\\\":WebIO.getval({\\\"name\\\":\\\"index\\\",\\\"scope\\\":\\\"1607932544045141251\\\",\\\"id\\\":\\\"ob_01\\\",\\\"type\\\":\\\"observable\\\"})};\\n    var self = this;\\n    function AppViewModel() {\\n        for (var key in json_data) {\\n            var el = json_data[key];\\n            this[key] = Array.isArray(el) ? ko.observableArray(el) : ko.observable(el);\\n        }\\n        \\n        [this[\\\"formatted_val\\\"]=ko.computed(    function(){\\n        return this.formatted_vals()[parseInt(this.index())-(1)];\\n    }\\n,this)]\\n        [this[\\\"changes\\\"].subscribe((function (val){!(this.valueFromJulia[\\\"changes\\\"]) ? (WebIO.setval({\\\"name\\\":\\\"changes\\\",\\\"scope\\\":\\\"1607932544045141251\\\",\\\"id\\\":\\\"ob_02\\\",\\\"type\\\":\\\"observable\\\"},val)) : undefined; return this.valueFromJulia[\\\"changes\\\"]=false}),self),this[\\\"index\\\"].subscribe((function (val){!(this.valueFromJulia[\\\"index\\\"]) ? (WebIO.setval({\\\"name\\\":\\\"index\\\",\\\"scope\\\":\\\"1607932544045141251\\\",\\\"id\\\":\\\"ob_01\\\",\\\"type\\\":\\\"observable\\\"},val)) : undefined; return this.valueFromJulia[\\\"index\\\"]=false}),self)]\\n        \\n    }\\n    self.model = new AppViewModel();\\n    self.valueFromJulia = {};\\n    for (var key in json_data) {\\n        self.valueFromJulia[key] = false;\\n    }\\n    ko.applyBindings(self.model, self.dom);\\n}\\n);\\n    (WebIO.importBlock({\\\"data\\\":[{\\\"name\\\":\\\"knockout\\\",\\\"type\\\":\\\"js\\\",\\\"url\\\":\\\"\\/assetserver\\/b860f94f78688b22eb297ac9422dedbc58e4c416-knockout.js\\\"},{\\\"name\\\":\\\"knockout_punches\\\",\\\"type\\\":\\\"js\\\",\\\"url\\\":\\\"\\/assetserver\\/7c440f6e0da891d885878e4bba0e1c045af333ce-knockout_punches.js\\\"}],\\\"type\\\":\\\"async_block\\\"})).then((imports) => handler.apply(this, imports));\\n}\\n\"],\"observables\":{\"changes\":{\"sync\":false,\"id\":\"ob_02\",\"value\":0},\"index\":{\"sync\":true,\"id\":\"ob_01\",\"value\":10}}},\"children\":[{\"props\":{\"className\":\"interact-flex-row interact-widget\"},\"nodeType\":\"DOM\",\"type\":\"node\",\"instanceArgs\":{\"namespace\":\"html\",\"tag\":\"div\"},\"children\":[{\"props\":{\"className\":\"interact-flex-row-left\"},\"nodeType\":\"DOM\",\"type\":\"node\",\"instanceArgs\":{\"namespace\":\"html\",\"tag\":\"div\"},\"children\":[{\"props\":{\"className\":\"interact \",\"style\":{\"padding\":\"5px 10px 0px 10px\"}},\"nodeType\":\"DOM\",\"type\":\"node\",\"instanceArgs\":{\"namespace\":\"html\",\"tag\":\"label\"},\"children\":[\"\"]}]},{\"props\":{\"className\":\"interact-flex-row-center\"},\"nodeType\":\"DOM\",\"type\":\"node\",\"instanceArgs\":{\"namespace\":\"html\",\"tag\":\"div\"},\"children\":[{\"props\":{\"max\":77,\"min\":1,\"attributes\":{\"type\":\"range\",\"data-bind\":\"numericValue: index, valueUpdate: 'input', event: {change: function (){this.changes(this.changes()+1)}}\",\"orient\":\"horizontal\"},\"step\":1,\"className\":\"slider slider is-fullwidth\",\"style\":{}},\"nodeType\":\"DOM\",\"type\":\"node\",\"instanceArgs\":{\"namespace\":\"html\",\"tag\":\"input\"},\"children\":[]}]},{\"props\":{\"className\":\"interact-flex-row-right\"},\"nodeType\":\"DOM\",\"type\":\"node\",\"instanceArgs\":{\"namespace\":\"html\",\"tag\":\"div\"},\"children\":[{\"props\":{\"attributes\":{\"data-bind\":\"text: formatted_val\"}},\"nodeType\":\"DOM\",\"type\":\"node\",\"instanceArgs\":{\"namespace\":\"html\",\"tag\":\"p\"},\"children\":[]}]}]}]}]},{\"props\":{},\"nodeType\":\"Scope\",\"type\":\"node\",\"instanceArgs\":{\"imports\":{\"data\":[],\"type\":\"async_block\"},\"id\":\"8897079853041117516\",\"handlers\":{},\"systemjs_options\":null,\"mount_callbacks\":[],\"observables\":{\"obs-node\":{\"sync\":false,\"id\":\"ob_06\",\"value\":{\"props\":{\"className\":\"interact-flex-row interact-widget\"},\"nodeType\":\"DOM\",\"type\":\"node\",\"instanceArgs\":{\"namespace\":\"html\",\"tag\":\"div\"},\"children\":[{\"props\":{\"setInnerHtml\":\"<?xml version=\\\"1.0\\\" encoding=\\\"utf-8\\\"?>\\n<svg xmlns=\\\"http:\\/\\/www.w3.org\\/2000\\/svg\\\" xmlns:xlink=\\\"http:\\/\\/www.w3.org\\/1999\\/xlink\\\" width=\\\"600\\\" height=\\\"400\\\" viewBox=\\\"0 0 2400 1600\\\">\\n<defs>\\n  <clipPath id=\\\"clip1200\\\">\\n    <rect x=\\\"0\\\" y=\\\"0\\\" width=\\\"2400\\\" height=\\\"1600\\\"\\/>\\n  <\\/clipPath>\\n<\\/defs>\\n<path clip-path=\\\"url(#clip1200)\\\" d=\\\"\\nM0 1600 L2400 1600 L2400 0 L0 0  Z\\n  \\\" fill=\\\"#ffffff\\\" fill-rule=\\\"evenodd\\\" fill-opacity=\\\"1\\\"\\/>\\n<defs>\\n  <clipPath id=\\\"clip1201\\\">\\n    <rect x=\\\"480\\\" y=\\\"0\\\" width=\\\"1681\\\" height=\\\"1600\\\"\\/>\\n  <\\/clipPath>\\n<\\/defs>\\n<path clip-path=\\\"url(#clip1200)\\\" d=\\\"\\nM282.66 1425.62 L2352.76 1425.62 L2352.76 47.2441 L282.66 47.2441  Z\\n  \\\" fill=\\\"#ffffff\\\" fill-rule=\\\"evenodd\\\" fill-opacity=\\\"1\\\"\\/>\\n<defs>\\n  <clipPath id=\\\"clip1202\\\">\\n    <rect x=\\\"282\\\" y=\\\"47\\\" width=\\\"2071\\\" height=\\\"1379\\\"\\/>\\n  <\\/clipPath>\\n<\\/defs>\\n<polyline clip-path=\\\"url(#clip1202)\\\" style=\\\"stroke:#000000; stroke-width:2; stroke-opacity:0.1; fill:none\\\" points=\\\"\\n  555.041,1425.62 555.041,47.2441 \\n  \\\"\\/>\\n<polyline clip-path=\\\"url(#clip1202)\\\" style=\\\"stroke:#000000; stroke-width:2; stroke-opacity:0.1; fill:none\\\" points=\\\"\\n  1344.95,1425.62 1344.95,47.2441 \\n  \\\"\\/>\\n<polyline clip-path=\\\"url(#clip1202)\\\" style=\\\"stroke:#000000; stroke-width:2; stroke-opacity:0.1; fill:none\\\" points=\\\"\\n  2189.33,1425.62 2189.33,47.2441 \\n  \\\"\\/>\\n<polyline clip-path=\\\"url(#clip1202)\\\" style=\\\"stroke:#000000; stroke-width:2; stroke-opacity:0.1; fill:none\\\" points=\\\"\\n  282.66,1386.74 2352.76,1386.74 \\n  \\\"\\/>\\n<polyline clip-path=\\\"url(#clip1202)\\\" style=\\\"stroke:#000000; stroke-width:2; stroke-opacity:0.1; fill:none\\\" points=\\\"\\n  282.66,1055.05 2352.76,1055.05 \\n  \\\"\\/>\\n<polyline clip-path=\\\"url(#clip1202)\\\" style=\\\"stroke:#000000; stroke-width:2; stroke-opacity:0.1; fill:none\\\" points=\\\"\\n  282.66,723.363 2352.76,723.363 \\n  \\\"\\/>\\n<polyline clip-path=\\\"url(#clip1202)\\\" style=\\\"stroke:#000000; stroke-width:2; stroke-opacity:0.1; fill:none\\\" points=\\\"\\n  282.66,391.674 2352.76,391.674 \\n  \\\"\\/>\\n<polyline clip-path=\\\"url(#clip1202)\\\" style=\\\"stroke:#000000; stroke-width:2; stroke-opacity:0.1; fill:none\\\" points=\\\"\\n  282.66,59.9849 2352.76,59.9849 \\n  \\\"\\/>\\n<polyline clip-path=\\\"url(#clip1200)\\\" style=\\\"stroke:#000000; stroke-width:4; stroke-opacity:1; fill:none\\\" points=\\\"\\n  282.66,1425.62 2352.76,1425.62 \\n  \\\"\\/>\\n<polyline clip-path=\\\"url(#clip1200)\\\" style=\\\"stroke:#000000; stroke-width:4; stroke-opacity:1; fill:none\\\" points=\\\"\\n  282.66,1425.62 282.66,47.2441 \\n  \\\"\\/>\\n<polyline clip-path=\\\"url(#clip1200)\\\" style=\\\"stroke:#000000; stroke-width:4; stroke-opacity:1; fill:none\\\" points=\\\"\\n  555.041,1425.62 555.041,1409.08 \\n  \\\"\\/>\\n<polyline clip-path=\\\"url(#clip1200)\\\" style=\\\"stroke:#000000; stroke-width:4; stroke-opacity:1; fill:none\\\" points=\\\"\\n  1344.95,1425.62 1344.95,1409.08 \\n  \\\"\\/>\\n<polyline clip-path=\\\"url(#clip1200)\\\" style=\\\"stroke:#000000; stroke-width:4; stroke-opacity:1; fill:none\\\" points=\\\"\\n  2189.33,1425.62 2189.33,1409.08 \\n  \\\"\\/>\\n<polyline clip-path=\\\"url(#clip1200)\\\" style=\\\"stroke:#000000; stroke-width:4; stroke-opacity:1; fill:none\\\" points=\\\"\\n  282.66,1386.74 307.501,1386.74 \\n  \\\"\\/>\\n<polyline clip-path=\\\"url(#clip1200)\\\" style=\\\"stroke:#000000; stroke-width:4; stroke-opacity:1; fill:none\\\" points=\\\"\\n  282.66,1055.05 307.501,1055.05 \\n  \\\"\\/>\\n<polyline clip-path=\\\"url(#clip1200)\\\" style=\\\"stroke:#000000; stroke-width:4; stroke-opacity:1; fill:none\\\" points=\\\"\\n  282.66,723.363 307.501,723.363 \\n  \\\"\\/>\\n<polyline clip-path=\\\"url(#clip1200)\\\" style=\\\"stroke:#000000; stroke-width:4; stroke-opacity:1; fill:none\\\" points=\\\"\\n  282.66,391.674 307.501,391.674 \\n  \\\"\\/>\\n<polyline clip-path=\\\"url(#clip1200)\\\" style=\\\"stroke:#000000; stroke-width:4; stroke-opacity:1; fill:none\\\" points=\\\"\\n  282.66,59.9849 307.501,59.9849 \\n  \\\"\\/>\\n<g clip-path=\\\"url(#clip1200)\\\">\\n<text style=\\\"fill:#000000; fill-opacity:1; font-family:Arial,Helvetica Neue,Helvetica,sans-serif; font-size:48px; text-anchor:middle;\\\" transform=\\\"rotate(0, 555.041, 1479.62)\\\" x=\\\"555.041\\\" y=\\\"1479.62\\\">2020-02-01<\\/text>\\n<\\/g>\\n<g clip-path=\\\"url(#clip1200)\\\">\\n<text style=\\\"fill:#000000; fill-opacity:1; font-family:Arial,Helvetica Neue,Helvetica,sans-serif; font-size:48px; text-anchor:middle;\\\" transform=\\\"rotate(0, 1344.95, 1479.62)\\\" x=\\\"1344.95\\\" y=\\\"1479.62\\\">2020-03-01<\\/text>\\n<\\/g>\\n<g clip-path=\\\"url(#clip1200)\\\">\\n<text style=\\\"fill:#000000; fill-opacity:1; font-family:Arial,Helvetica Neue,Helvetica,sans-serif; font-size:48px; text-anchor:middle;\\\" transform=\\\"rotate(0, 2189.33, 1479.62)\\\" x=\\\"2189.33\\\" y=\\\"1479.62\\\">2020-04-01<\\/text>\\n<\\/g>\\n<g clip-path=\\\"url(#clip1200)\\\">\\n<text style=\\\"fill:#000000; fill-opacity:1; font-family:Arial,Helvetica Neue,Helvetica,sans-serif; font-size:48px; text-anchor:end;\\\" transform=\\\"rotate(0, 258.66, 1404.24)\\\" x=\\\"258.66\\\" y=\\\"1404.24\\\">0<\\/text>\\n<\\/g>\\n<g clip-path=\\\"url(#clip1200)\\\">\\n<text style=\\\"fill:#000000; fill-opacity:1; font-family:Arial,Helvetica Neue,Helvetica,sans-serif; font-size:48px; text-anchor:end;\\\" transform=\\\"rotate(0, 258.66, 1072.55)\\\" x=\\\"258.66\\\" y=\\\"1072.55\\\">2500<\\/text>\\n<\\/g>\\n<g clip-path=\\\"url(#clip1200)\\\">\\n<text style=\\\"fill:#000000; fill-opacity:1; font-family:Arial,Helvetica Neue,Helvetica,sans-serif; font-size:48px; text-anchor:end;\\\" transform=\\\"rotate(0, 258.66, 740.863)\\\" x=\\\"258.66\\\" y=\\\"740.863\\\">5000<\\/text>\\n<\\/g>\\n<g clip-path=\\\"url(#clip1200)\\\">\\n<text style=\\\"fill:#000000; fill-opacity:1; font-family:Arial,Helvetica Neue,Helvetica,sans-serif; font-size:48px; text-anchor:end;\\\" transform=\\\"rotate(0, 258.66, 409.174)\\\" x=\\\"258.66\\\" y=\\\"409.174\\\">7500<\\/text>\\n<\\/g>\\n<g clip-path=\\\"url(#clip1200)\\\">\\n<text style=\\\"fill:#000000; fill-opacity:1; font-family:Arial,Helvetica Neue,Helvetica,sans-serif; font-size:48px; text-anchor:end;\\\" transform=\\\"rotate(0, 258.66, 77.4849)\\\" x=\\\"258.66\\\" y=\\\"77.4849\\\">10000<\\/text>\\n<\\/g>\\n<g clip-path=\\\"url(#clip1200)\\\">\\n<text style=\\\"fill:#000000; fill-opacity:1; font-family:Arial,Helvetica Neue,Helvetica,sans-serif; font-size:66px; text-anchor:middle;\\\" transform=\\\"rotate(0, 1317.71, 1559.48)\\\" x=\\\"1317.71\\\" y=\\\"1559.48\\\">day<\\/text>\\n<\\/g>\\n<g clip-path=\\\"url(#clip1200)\\\">\\n<text style=\\\"fill:#000000; fill-opacity:1; font-family:Arial,Helvetica Neue,Helvetica,sans-serif; font-size:66px; text-anchor:middle;\\\" transform=\\\"rotate(-90, 89.2861, 736.431)\\\" x=\\\"89.2861\\\" y=\\\"736.431\\\">confirmed cases<\\/text>\\n<\\/g>\\n<polyline clip-path=\\\"url(#clip1202)\\\" style=\\\"stroke:#009af9; stroke-width:4; stroke-opacity:1; fill:none\\\" points=\\\"\\n  418.85,1386.61 446.089,1386.21 473.327,1386.21 500.565,1386.21 527.803,1386.08 \\n  \\\"\\/>\\n<polyline clip-path=\\\"url(#clip1202)\\\" style=\\\"stroke:#3da44d; stroke-width:4; stroke-opacity:1; fill:none\\\" points=\\\"\\n  282.66,1314.03 309.898,1301.43 337.136,1264.68 364.374,1200.2 391.612,1111.44 418.85,1005.03 446.089,655.831 473.327,579.144 500.565,306.629 527.803,86.2547 \\n  \\n  \\\"\\/>\\n<polyline clip-path=\\\"url(#clip1202)\\\" style=\\\"stroke:#c271d2; stroke-width:4; stroke-opacity:1; fill:none\\\" points=\\\"\\n  282.66,1386.61 309.898,1386.61 337.136,1386.48 364.374,1386.48 391.612,1386.34 418.85,1386.21 446.089,1386.21 473.327,1386.21 500.565,1386.21 527.803,1385.28 \\n  \\n  \\\"\\/>\\n<polyline clip-path=\\\"url(#clip1202)\\\" style=\\\"stroke:#ac8d18; stroke-width:4; stroke-opacity:1; fill:none\\\" points=\\\"\\n  282.66,1386.48 309.898,1386.48 337.136,1386.48 364.374,1386.48 391.612,1386.21 418.85,1386.21 446.089,1385.81 473.327,1385.81 500.565,1385.28 527.803,1384.75 \\n  \\n  \\\"\\/>\\n<polyline clip-path=\\\"url(#clip1202)\\\" style=\\\"stroke:#00a9ad; stroke-width:4; stroke-opacity:1; fill:none\\\" points=\\\"\\n  337.136,1386.48 364.374,1386.34 391.612,1386.34 418.85,1386.34 446.089,1386.21 473.327,1386.08 500.565,1386.08 527.803,1386.08 \\n  \\\"\\/>\\n<polyline clip-path=\\\"url(#clip1202)\\\" style=\\\"stroke:#ed5d92; stroke-width:4; stroke-opacity:1; fill:none\\\" points=\\\"\\n  282.66,1386.61 309.898,1386.61 337.136,1386.48 364.374,1386.48 391.612,1386.08 418.85,1386.08 446.089,1386.08 473.327,1386.08 500.565,1386.08 527.803,1385.81 \\n  \\n  \\\"\\/>\\n<path clip-path=\\\"url(#clip1200)\\\" d=\\\"\\nM354.66 614.604 L937.083 614.604 L937.083 130.764 L354.66 130.764  Z\\n  \\\" fill=\\\"#ffffff\\\" fill-rule=\\\"evenodd\\\" fill-opacity=\\\"1\\\"\\/>\\n<polyline clip-path=\\\"url(#clip1200)\\\" style=\\\"stroke:#000000; stroke-width:4; stroke-opacity:1; fill:none\\\" points=\\\"\\n  354.66,614.604 937.083,614.604 937.083,130.764 354.66,130.764 354.66,614.604 \\n  \\\"\\/>\\n<polyline clip-path=\\\"url(#clip1200)\\\" style=\\\"stroke:#009af9; stroke-width:4; stroke-opacity:1; fill:none\\\" points=\\\"\\n  378.66,191.244 522.66,191.244 \\n  \\\"\\/>\\n<g clip-path=\\\"url(#clip1200)\\\">\\n<text style=\\\"fill:#000000; fill-opacity:1; font-family:Arial,Helvetica Neue,Helvetica,sans-serif; font-size:48px; text-anchor:start;\\\" transform=\\\"rotate(0, 546.66, 208.744)\\\" x=\\\"546.66\\\" y=\\\"208.744\\\">Germany<\\/text>\\n<\\/g>\\n<polyline clip-path=\\\"url(#clip1200)\\\" style=\\\"stroke:#e26f46; stroke-width:4; stroke-opacity:1; fill:none\\\" points=\\\"\\n  378.66,251.724 522.66,251.724 \\n  \\\"\\/>\\n<g clip-path=\\\"url(#clip1200)\\\">\\n<text style=\\\"fill:#000000; fill-opacity:1; font-family:Arial,Helvetica Neue,Helvetica,sans-serif; font-size:48px; text-anchor:start;\\\" transform=\\\"rotate(0, 546.66, 269.224)\\\" x=\\\"546.66\\\" y=\\\"269.224\\\">United Kingdom<\\/text>\\n<\\/g>\\n<polyline clip-path=\\\"url(#clip1200)\\\" style=\\\"stroke:#3da44d; stroke-width:4; stroke-opacity:1; fill:none\\\" points=\\\"\\n  378.66,312.204 522.66,312.204 \\n  \\\"\\/>\\n<g clip-path=\\\"url(#clip1200)\\\">\\n<text style=\\\"fill:#000000; fill-opacity:1; font-family:Arial,Helvetica Neue,Helvetica,sans-serif; font-size:48px; text-anchor:start;\\\" transform=\\\"rotate(0, 546.66, 329.704)\\\" x=\\\"546.66\\\" y=\\\"329.704\\\">China<\\/text>\\n<\\/g>\\n<polyline clip-path=\\\"url(#clip1200)\\\" style=\\\"stroke:#c271d2; stroke-width:4; stroke-opacity:1; fill:none\\\" points=\\\"\\n  378.66,372.684 522.66,372.684 \\n  \\\"\\/>\\n<g clip-path=\\\"url(#clip1200)\\\">\\n<text style=\\\"fill:#000000; fill-opacity:1; font-family:Arial,Helvetica Neue,Helvetica,sans-serif; font-size:48px; text-anchor:start;\\\" transform=\\\"rotate(0, 546.66, 390.184)\\\" x=\\\"546.66\\\" y=\\\"390.184\\\">Korea, South<\\/text>\\n<\\/g>\\n<polyline clip-path=\\\"url(#clip1200)\\\" style=\\\"stroke:#ac8d18; stroke-width:4; stroke-opacity:1; fill:none\\\" points=\\\"\\n  378.66,433.164 522.66,433.164 \\n  \\\"\\/>\\n<g clip-path=\\\"url(#clip1200)\\\">\\n<text style=\\\"fill:#000000; fill-opacity:1; font-family:Arial,Helvetica Neue,Helvetica,sans-serif; font-size:48px; text-anchor:start;\\\" transform=\\\"rotate(0, 546.66, 450.664)\\\" x=\\\"546.66\\\" y=\\\"450.664\\\">Japan<\\/text>\\n<\\/g>\\n<polyline clip-path=\\\"url(#clip1200)\\\" style=\\\"stroke:#00a9ad; stroke-width:4; stroke-opacity:1; fill:none\\\" points=\\\"\\n  378.66,493.644 522.66,493.644 \\n  \\\"\\/>\\n<g clip-path=\\\"url(#clip1200)\\\">\\n<text style=\\\"fill:#000000; fill-opacity:1; font-family:Arial,Helvetica Neue,Helvetica,sans-serif; font-size:48px; text-anchor:start;\\\" transform=\\\"rotate(0, 546.66, 511.144)\\\" x=\\\"546.66\\\" y=\\\"511.144\\\">France<\\/text>\\n<\\/g>\\n<polyline clip-path=\\\"url(#clip1200)\\\" style=\\\"stroke:#ed5d92; stroke-width:4; stroke-opacity:1; fill:none\\\" points=\\\"\\n  378.66,554.124 522.66,554.124 \\n  \\\"\\/>\\n<g clip-path=\\\"url(#clip1200)\\\">\\n<text style=\\\"fill:#000000; fill-opacity:1; font-family:Arial,Helvetica Neue,Helvetica,sans-serif; font-size:48px; text-anchor:start;\\\" transform=\\\"rotate(0, 546.66, 571.624)\\\" x=\\\"546.66\\\" y=\\\"571.624\\\">US<\\/text>\\n<\\/g>\\n<\\/svg>\\n\"},\"nodeType\":\"DOM\",\"type\":\"node\",\"instanceArgs\":{\"namespace\":\"html\",\"tag\":\"div\"},\"children\":[]}]}}}},\"children\":[{\"props\":{},\"nodeType\":\"ObservableNode\",\"type\":\"node\",\"instanceArgs\":{\"id\":\"ob_06\",\"name\":\"obs-node\"},\"children\":[]}]}]},\n",
       "            window,\n",
       "        );\n",
       "    } else {\n",
       "        document\n",
       "            .querySelector('[data-webio-mountpoint=\"1543613448783805518\"]')\n",
       "            .innerHTML = (\n",
       "                '<div style=\"padding: 1em; background-color: #f8d6da; border: 1px solid #f5c6cb\">' +\n",
       "                '<p><strong>WebIO not detected.</strong></p>' +\n",
       "                '<p>Please read ' +\n",
       "                '<a href=\"https://juliagizmos.github.io/WebIO.jl/latest/troubleshooting/not-detected/\" target=\"_blank\">the troubleshooting guide</a> ' +\n",
       "                'for more information on how to resolve this issue.</p>' +\n",
       "                '<p><a href=\"https://juliagizmos.github.io/WebIO.jl/latest/troubleshooting/not-detected/\" target=\"_blank\">https://juliagizmos.github.io/WebIO.jl/latest/troubleshooting/not-detected/</a></p>' +\n",
       "                '</div>'\n",
       "            );\n",
       "    }\n",
       "    </script>\n",
       "</div>\n"
      ],
      "text/plain": [
       "Node{WebIO.DOM}(WebIO.DOM(:html, :div), Any[Node{WebIO.DOM}(WebIO.DOM(:html, :div), Any[Scope(Node{WebIO.DOM}(WebIO.DOM(:html, :div), Any[Node{WebIO.DOM}(WebIO.DOM(:html, :div), Any[Node{WebIO.DOM}(WebIO.DOM(:html, :label), Any[nothing], Dict{Symbol,Any}(:className => \"interact \",:style => Dict{Any,Any}(:padding => \"5px 10px 0px 10px\")))], Dict{Symbol,Any}(:className => \"interact-flex-row-left\")), Node{WebIO.DOM}(WebIO.DOM(:html, :div), Any[Node{WebIO.DOM}(WebIO.DOM(:html, :input), Any[], Dict{Symbol,Any}(:max => 77,:min => 1,:attributes => Dict{Any,Any}(:type => \"range\",Symbol(\"data-bind\") => \"numericValue: index, valueUpdate: 'input', event: {change: function (){this.changes(this.changes()+1)}}\",\"orient\" => \"horizontal\"),:step => 1,:className => \"slider slider is-fullwidth\",:style => Dict{Any,Any}()))], Dict{Symbol,Any}(:className => \"interact-flex-row-center\")), Node{WebIO.DOM}(WebIO.DOM(:html, :div), Any[Node{WebIO.DOM}(WebIO.DOM(:html, :p), Any[], Dict{Symbol,Any}(:attributes => Dict(\"data-bind\" => \"text: formatted_val\")))], Dict{Symbol,Any}(:className => \"interact-flex-row-right\"))], Dict{Symbol,Any}(:className => \"interact-flex-row interact-widget\")), Dict{String,Tuple{Observables.AbstractObservable,Union{Nothing, Bool}}}(\"changes\" => (Observable{Int64} with 1 listeners. Value:\n",
       "0, nothing),\"index\" => (Observable{Int64} with 2 listeners. Value:\n",
       "10, nothing)), Set(String[]), nothing, Asset[Asset(\"js\", \"knockout\", \"/Users/moisestrejo/.julia/packages/Knockout/IP1uR/src/../assets/knockout.js\"), Asset(\"js\", \"knockout_punches\", \"/Users/moisestrejo/.julia/packages/Knockout/IP1uR/src/../assets/knockout_punches.js\"), Asset(\"js\", nothing, \"/Users/moisestrejo/.julia/packages/InteractBase/9mFwe/src/../assets/all.js\"), Asset(\"css\", nothing, \"/Users/moisestrejo/.julia/packages/InteractBase/9mFwe/src/../assets/style.css\"), Asset(\"css\", nothing, \"/Users/moisestrejo/.julia/packages/Interact/SbgIk/src/../assets/bulma_confined.min.css\")], Dict{Any,Any}(\"changes\" => Any[WebIO.JSString(\"(function (val){return (val!=this.model[\\\"changes\\\"]()) ? (this.valueFromJulia[\\\"changes\\\"]=true, this.model[\\\"changes\\\"](val)) : undefined})\")],\"index\" => Any[WebIO.JSString(\"(function (val){return (val!=this.model[\\\"index\\\"]()) ? (this.valueFromJulia[\\\"index\\\"]=true, this.model[\\\"index\\\"](val)) : undefined})\")]), WebIO.ConnectionPool(Channel{Any}(sz_max:32,sz_curr:0), Set(AbstractConnection[]), Base.GenericCondition{Base.AlwaysLockedST}(Base.InvasiveLinkedList{Task}(Task (runnable) @0x000000012134df90, Task (runnable) @0x000000012134df90), Base.AlwaysLockedST(1))), WebIO.JSString[WebIO.JSString(\"function () {\\n    var handler = (function (ko, koPunches) {\\n    ko.punches.enableAll();\\n    ko.bindingHandlers.numericValue = {\\n        init: function(element, valueAccessor, allBindings, data, context) {\\n            var stringified = ko.observable(ko.unwrap(valueAccessor()));\\n            stringified.subscribe(function(value) {\\n                var val = parseFloat(value);\\n                if (!isNaN(val)) {\\n                    valueAccessor()(val);\\n                }\\n            });\\n            valueAccessor().subscribe(function(value) {\\n                var str = JSON.stringify(value);\\n                if ((str == \\\"0\\\") && ([\\\"-0\\\", \\\"-0.\\\"].indexOf(stringified()) >= 0))\\n                     return;\\n                 if ([\\\"null\\\", \\\"\\\"].indexOf(str) >= 0)\\n                     return;\\n                stringified(str);\\n            });\\n            ko.applyBindingsToNode(\\n                element,\\n                {\\n                    value: stringified,\\n                    valueUpdate: allBindings.get('valueUpdate'),\\n                },\\n                context,\\n            );\\n        }\\n    };\\n    var json_data = {\\\"formatted_vals\\\":[\\\"1\\\",\\\"2\\\",\\\"3\\\",\\\"4\\\",\\\"5\\\",\\\"6\\\",\\\"7\\\",\\\"8\\\",\\\"9\\\",\\\"10\\\",\\\"11\\\",\\\"12\\\",\\\"13\\\",\\\"14\\\",\\\"15\\\",\\\"16\\\",\\\"17\\\",\\\"18\\\",\\\"19\\\",\\\"20\\\",\\\"21\\\",\\\"22\\\",\\\"23\\\",\\\"24\\\",\\\"25\\\",\\\"26\\\",\\\"27\\\",\\\"28\\\",\\\"29\\\",\\\"30\\\",\\\"31\\\",\\\"32\\\",\\\"33\\\",\\\"34\\\",\\\"35\\\",\\\"36\\\",\\\"37\\\",\\\"38\\\",\\\"39\\\",\\\"40\\\",\\\"41\\\",\\\"42\\\",\\\"43\\\",\\\"44\\\",\\\"45\\\",\\\"46\\\",\\\"47\\\",\\\"48\\\",\\\"49\\\",\\\"50\\\",\\\"51\\\",\\\"52\\\",\\\"53\\\",\\\"54\\\",\\\"55\\\",\\\"56\\\",\\\"57\\\",\\\"58\\\",\\\"59\\\",\\\"60\\\",\\\"61\\\",\\\"62\\\",\\\"63\\\",\\\"64\\\",\\\"65\\\",\\\"66\\\",\\\"67\\\",\\\"68\\\",\\\"69\\\",\\\"70\\\",\\\"71\\\",\\\"72\\\",\\\"73\\\",\\\"74\\\",\\\"75\\\",\\\"76\\\",\\\"77\\\"],\\\"changes\\\":WebIO.getval({\\\"name\\\":\\\"changes\\\",\\\"scope\\\":\\\"1607932544045141251\\\",\\\"id\\\":\\\"ob_02\\\",\\\"type\\\":\\\"observable\\\"}),\\\"index\\\":WebIO.getval({\\\"name\\\":\\\"index\\\",\\\"scope\\\":\\\"1607932544045141251\\\",\\\"id\\\":\\\"ob_01\\\",\\\"type\\\":\\\"observable\\\"})};\\n    var self = this;\\n    function AppViewModel() {\\n        for (var key in json_data) {\\n            var el = json_data[key];\\n            this[key] = Array.isArray(el) ? ko.observableArray(el) : ko.observable(el);\\n        }\\n        \\n        [this[\\\"formatted_val\\\"]=ko.computed(    function(){\\n        return this.formatted_vals()[parseInt(this.index())-(1)];\\n    }\\n,this)]\\n        [this[\\\"changes\\\"].subscribe((function (val){!(this.valueFromJulia[\\\"changes\\\"]) ? (WebIO.setval({\\\"name\\\":\\\"changes\\\",\\\"scope\\\":\\\"1607932544045141251\\\",\\\"id\\\":\\\"ob_02\\\",\\\"type\\\":\\\"observable\\\"},val)) : undefined; return this.valueFromJulia[\\\"changes\\\"]=false}),self),this[\\\"index\\\"].subscribe((function (val){!(this.valueFromJulia[\\\"index\\\"]) ? (WebIO.setval({\\\"name\\\":\\\"index\\\",\\\"scope\\\":\\\"1607932544045141251\\\",\\\"id\\\":\\\"ob_01\\\",\\\"type\\\":\\\"observable\\\"},val)) : undefined; return this.valueFromJulia[\\\"index\\\"]=false}),self)]\\n        \\n    }\\n    self.model = new AppViewModel();\\n    self.valueFromJulia = {};\\n    for (var key in json_data) {\\n        self.valueFromJulia[key] = false;\\n    }\\n    ko.applyBindings(self.model, self.dom);\\n}\\n);\\n    (WebIO.importBlock({\\\"data\\\":[{\\\"name\\\":\\\"knockout\\\",\\\"type\\\":\\\"js\\\",\\\"url\\\":\\\"/assetserver/b860f94f78688b22eb297ac9422dedbc58e4c416-knockout.js\\\"},{\\\"name\\\":\\\"knockout_punches\\\",\\\"type\\\":\\\"js\\\",\\\"url\\\":\\\"/assetserver/7c440f6e0da891d885878e4bba0e1c045af333ce-knockout_punches.js\\\"}],\\\"type\\\":\\\"async_block\\\"})).then((imports) => handler.apply(this, imports));\\n}\\n\")])], Dict{Symbol,Any}(:className => \"field interact-widget\")), Observable{Any} with 0 listeners. Value:\n",
       "Node{WebIO.DOM}(WebIO.DOM(:html, :div), Any[Plot{Plots.GRBackend() n=7}], Dict{Symbol,Any}(:className => \"interact-flex-row interact-widget\"))], Dict{Symbol,Any}())"
      ]
     },
     "execution_count": 14,
     "metadata": {
      "application/vnd.webio.node+json": {
       "kernelId": "e4953552-1d8c-4d00-bfad-cf192cd28aea"
      }
     },
     "output_type": "execute_result"
    }
   ],
   "source": [
    "plot_graphs_manipulate()"
   ]
  },
  {
   "cell_type": "code",
   "execution_count": 15,
   "metadata": {},
   "outputs": [
    {
     "data": {
      "application/vnd.webio.node+json": {
       "children": [
        {
         "children": [
          {
           "children": [
            {
             "children": [
              {
               "children": [
                {
                 "children": [
                  ""
                 ],
                 "instanceArgs": {
                  "namespace": "html",
                  "tag": "label"
                 },
                 "nodeType": "DOM",
                 "props": {
                  "className": "interact ",
                  "style": {
                   "padding": "5px 10px 0px 10px"
                  }
                 },
                 "type": "node"
                }
               ],
               "instanceArgs": {
                "namespace": "html",
                "tag": "div"
               },
               "nodeType": "DOM",
               "props": {
                "className": "interact-flex-row-left"
               },
               "type": "node"
              },
              {
               "children": [
                {
                 "children": [],
                 "instanceArgs": {
                  "namespace": "html",
                  "tag": "input"
                 },
                 "nodeType": "DOM",
                 "props": {
                  "attributes": {
                   "data-bind": "numericValue: index, valueUpdate: 'input', event: {change: function (){this.changes(this.changes()+1)}}",
                   "orient": "horizontal",
                   "type": "range"
                  },
                  "className": "slider slider is-fullwidth",
                  "max": 77,
                  "min": 1,
                  "step": 1,
                  "style": {}
                 },
                 "type": "node"
                }
               ],
               "instanceArgs": {
                "namespace": "html",
                "tag": "div"
               },
               "nodeType": "DOM",
               "props": {
                "className": "interact-flex-row-center"
               },
               "type": "node"
              },
              {
               "children": [
                {
                 "children": [],
                 "instanceArgs": {
                  "namespace": "html",
                  "tag": "p"
                 },
                 "nodeType": "DOM",
                 "props": {
                  "attributes": {
                   "data-bind": "text: formatted_val"
                  }
                 },
                 "type": "node"
                }
               ],
               "instanceArgs": {
                "namespace": "html",
                "tag": "div"
               },
               "nodeType": "DOM",
               "props": {
                "className": "interact-flex-row-right"
               },
               "type": "node"
              }
             ],
             "instanceArgs": {
              "namespace": "html",
              "tag": "div"
             },
             "nodeType": "DOM",
             "props": {
              "className": "interact-flex-row interact-widget"
             },
             "type": "node"
            }
           ],
           "instanceArgs": {
            "handlers": {
             "changes": [
              "(function (val){return (val!=this.model[\"changes\"]()) ? (this.valueFromJulia[\"changes\"]=true, this.model[\"changes\"](val)) : undefined})"
             ],
             "index": [
              "(function (val){return (val!=this.model[\"index\"]()) ? (this.valueFromJulia[\"index\"]=true, this.model[\"index\"](val)) : undefined})"
             ]
            },
            "id": "9873989301414649939",
            "imports": {
             "data": [
              {
               "name": "knockout",
               "type": "js",
               "url": "/assetserver/b860f94f78688b22eb297ac9422dedbc58e4c416-knockout.js"
              },
              {
               "name": "knockout_punches",
               "type": "js",
               "url": "/assetserver/7c440f6e0da891d885878e4bba0e1c045af333ce-knockout_punches.js"
              },
              {
               "name": null,
               "type": "js",
               "url": "/assetserver/ed10687e5e203c9dcc58c6e408c30c32c58d27c2-all.js"
              },
              {
               "name": null,
               "type": "css",
               "url": "/assetserver/a1ce04ad54e406ba65800a3d8a6d360fc2cb04a4-style.css"
              },
              {
               "name": null,
               "type": "css",
               "url": "/assetserver/594cfc32cf120a5994a85b4fb8deff54fc8fbe7b-bulma_confined.min.css"
              }
             ],
             "type": "async_block"
            },
            "mount_callbacks": [
             "function () {\n    var handler = (function (ko, koPunches) {\n    ko.punches.enableAll();\n    ko.bindingHandlers.numericValue = {\n        init: function(element, valueAccessor, allBindings, data, context) {\n            var stringified = ko.observable(ko.unwrap(valueAccessor()));\n            stringified.subscribe(function(value) {\n                var val = parseFloat(value);\n                if (!isNaN(val)) {\n                    valueAccessor()(val);\n                }\n            });\n            valueAccessor().subscribe(function(value) {\n                var str = JSON.stringify(value);\n                if ((str == \"0\") && ([\"-0\", \"-0.\"].indexOf(stringified()) >= 0))\n                     return;\n                 if ([\"null\", \"\"].indexOf(str) >= 0)\n                     return;\n                stringified(str);\n            });\n            ko.applyBindingsToNode(\n                element,\n                {\n                    value: stringified,\n                    valueUpdate: allBindings.get('valueUpdate'),\n                },\n                context,\n            );\n        }\n    };\n    var json_data = {\"formatted_vals\":[\"1\",\"2\",\"3\",\"4\",\"5\",\"6\",\"7\",\"8\",\"9\",\"10\",\"11\",\"12\",\"13\",\"14\",\"15\",\"16\",\"17\",\"18\",\"19\",\"20\",\"21\",\"22\",\"23\",\"24\",\"25\",\"26\",\"27\",\"28\",\"29\",\"30\",\"31\",\"32\",\"33\",\"34\",\"35\",\"36\",\"37\",\"38\",\"39\",\"40\",\"41\",\"42\",\"43\",\"44\",\"45\",\"46\",\"47\",\"48\",\"49\",\"50\",\"51\",\"52\",\"53\",\"54\",\"55\",\"56\",\"57\",\"58\",\"59\",\"60\",\"61\",\"62\",\"63\",\"64\",\"65\",\"66\",\"67\",\"68\",\"69\",\"70\",\"71\",\"72\",\"73\",\"74\",\"75\",\"76\",\"77\"],\"changes\":WebIO.getval({\"name\":\"changes\",\"scope\":\"9873989301414649939\",\"id\":\"ob_10\",\"type\":\"observable\"}),\"index\":WebIO.getval({\"name\":\"index\",\"scope\":\"9873989301414649939\",\"id\":\"ob_09\",\"type\":\"observable\"})};\n    var self = this;\n    function AppViewModel() {\n        for (var key in json_data) {\n            var el = json_data[key];\n            this[key] = Array.isArray(el) ? ko.observableArray(el) : ko.observable(el);\n        }\n        \n        [this[\"formatted_val\"]=ko.computed(    function(){\n        return this.formatted_vals()[parseInt(this.index())-(1)];\n    }\n,this)]\n        [this[\"changes\"].subscribe((function (val){!(this.valueFromJulia[\"changes\"]) ? (WebIO.setval({\"name\":\"changes\",\"scope\":\"9873989301414649939\",\"id\":\"ob_10\",\"type\":\"observable\"},val)) : undefined; return this.valueFromJulia[\"changes\"]=false}),self),this[\"index\"].subscribe((function (val){!(this.valueFromJulia[\"index\"]) ? (WebIO.setval({\"name\":\"index\",\"scope\":\"9873989301414649939\",\"id\":\"ob_09\",\"type\":\"observable\"},val)) : undefined; return this.valueFromJulia[\"index\"]=false}),self)]\n        \n    }\n    self.model = new AppViewModel();\n    self.valueFromJulia = {};\n    for (var key in json_data) {\n        self.valueFromJulia[key] = false;\n    }\n    ko.applyBindings(self.model, self.dom);\n}\n);\n    (WebIO.importBlock({\"data\":[{\"name\":\"knockout\",\"type\":\"js\",\"url\":\"/assetserver/b860f94f78688b22eb297ac9422dedbc58e4c416-knockout.js\"},{\"name\":\"knockout_punches\",\"type\":\"js\",\"url\":\"/assetserver/7c440f6e0da891d885878e4bba0e1c045af333ce-knockout_punches.js\"}],\"type\":\"async_block\"})).then((imports) => handler.apply(this, imports));\n}\n"
            ],
            "observables": {
             "changes": {
              "id": "ob_10",
              "sync": false,
              "value": 0
             },
             "index": {
              "id": "ob_09",
              "sync": true,
              "value": 10
             }
            },
            "systemjs_options": null
           },
           "nodeType": "Scope",
           "props": {},
           "type": "node"
          }
         ],
         "instanceArgs": {
          "namespace": "html",
          "tag": "div"
         },
         "nodeType": "DOM",
         "props": {
          "className": "field interact-widget"
         },
         "type": "node"
        },
        {
         "children": [
          {
           "children": [],
           "instanceArgs": {
            "id": "ob_16",
            "name": "obs-node"
           },
           "nodeType": "ObservableNode",
           "props": {},
           "type": "node"
          }
         ],
         "instanceArgs": {
          "handlers": {},
          "id": "13702214828623663738",
          "imports": {
           "data": [],
           "type": "async_block"
          },
          "mount_callbacks": [],
          "observables": {
           "obs-node": {
            "id": "ob_16",
            "sync": false,
            "value": {
             "children": [
              {
               "children": [],
               "instanceArgs": {
                "namespace": "html",
                "tag": "div"
               },
               "nodeType": "DOM",
               "props": {
                "setInnerHtml": "<?xml version=\"1.0\" encoding=\"utf-8\"?>\n<svg xmlns=\"http://www.w3.org/2000/svg\" xmlns:xlink=\"http://www.w3.org/1999/xlink\" width=\"600\" height=\"400\" viewBox=\"0 0 2400 1600\">\n<defs>\n  <clipPath id=\"clip2400\">\n    <rect x=\"0\" y=\"0\" width=\"2400\" height=\"1600\"/>\n  </clipPath>\n</defs>\n<path clip-path=\"url(#clip2400)\" d=\"\nM0 1600 L2400 1600 L2400 0 L0 0  Z\n  \" fill=\"#ffffff\" fill-rule=\"evenodd\" fill-opacity=\"1\"/>\n<defs>\n  <clipPath id=\"clip2401\">\n    <rect x=\"480\" y=\"0\" width=\"1681\" height=\"1600\"/>\n  </clipPath>\n</defs>\n<path clip-path=\"url(#clip2400)\" d=\"\nM251.71 1425.62 L2352.76 1425.62 L2352.76 47.2441 L251.71 47.2441  Z\n  \" fill=\"#ffffff\" fill-rule=\"evenodd\" fill-opacity=\"1\"/>\n<defs>\n  <clipPath id=\"clip2402\">\n    <rect x=\"251\" y=\"47\" width=\"2102\" height=\"1379\"/>\n  </clipPath>\n</defs>\n<polyline clip-path=\"url(#clip2402)\" style=\"stroke:#000000; stroke-width:2; stroke-opacity:0.1; fill:none\" points=\"\n  528.163,1425.62 528.163,47.2441 \n  \"/>\n<polyline clip-path=\"url(#clip2402)\" style=\"stroke:#000000; stroke-width:2; stroke-opacity:0.1; fill:none\" points=\"\n  1329.88,1425.62 1329.88,47.2441 \n  \"/>\n<polyline clip-path=\"url(#clip2402)\" style=\"stroke:#000000; stroke-width:2; stroke-opacity:0.1; fill:none\" points=\"\n  2186.88,1425.62 2186.88,47.2441 \n  \"/>\n<polyline clip-path=\"url(#clip2402)\" style=\"stroke:#000000; stroke-width:2; stroke-opacity:0.1; fill:none\" points=\"\n  251.71,1386.61 2352.76,1386.61 \n  \"/>\n<polyline clip-path=\"url(#clip2402)\" style=\"stroke:#000000; stroke-width:2; stroke-opacity:0.1; fill:none\" points=\"\n  251.71,1060.81 2352.76,1060.81 \n  \"/>\n<polyline clip-path=\"url(#clip2402)\" style=\"stroke:#000000; stroke-width:2; stroke-opacity:0.1; fill:none\" points=\"\n  251.71,735.017 2352.76,735.017 \n  \"/>\n<polyline clip-path=\"url(#clip2402)\" style=\"stroke:#000000; stroke-width:2; stroke-opacity:0.1; fill:none\" points=\"\n  251.71,409.221 2352.76,409.221 \n  \"/>\n<polyline clip-path=\"url(#clip2402)\" style=\"stroke:#000000; stroke-width:2; stroke-opacity:0.1; fill:none\" points=\"\n  251.71,83.4251 2352.76,83.4251 \n  \"/>\n<polyline clip-path=\"url(#clip2400)\" style=\"stroke:#000000; stroke-width:4; stroke-opacity:1; fill:none\" points=\"\n  251.71,1425.62 2352.76,1425.62 \n  \"/>\n<polyline clip-path=\"url(#clip2400)\" style=\"stroke:#000000; stroke-width:4; stroke-opacity:1; fill:none\" points=\"\n  251.71,1425.62 251.71,47.2441 \n  \"/>\n<polyline clip-path=\"url(#clip2400)\" style=\"stroke:#000000; stroke-width:4; stroke-opacity:1; fill:none\" points=\"\n  528.163,1425.62 528.163,1409.08 \n  \"/>\n<polyline clip-path=\"url(#clip2400)\" style=\"stroke:#000000; stroke-width:4; stroke-opacity:1; fill:none\" points=\"\n  1329.88,1425.62 1329.88,1409.08 \n  \"/>\n<polyline clip-path=\"url(#clip2400)\" style=\"stroke:#000000; stroke-width:4; stroke-opacity:1; fill:none\" points=\"\n  2186.88,1425.62 2186.88,1409.08 \n  \"/>\n<polyline clip-path=\"url(#clip2400)\" style=\"stroke:#000000; stroke-width:4; stroke-opacity:1; fill:none\" points=\"\n  251.71,1386.61 276.923,1386.61 \n  \"/>\n<polyline clip-path=\"url(#clip2400)\" style=\"stroke:#000000; stroke-width:4; stroke-opacity:1; fill:none\" points=\"\n  251.71,1060.81 276.923,1060.81 \n  \"/>\n<polyline clip-path=\"url(#clip2400)\" style=\"stroke:#000000; stroke-width:4; stroke-opacity:1; fill:none\" points=\"\n  251.71,735.017 276.923,735.017 \n  \"/>\n<polyline clip-path=\"url(#clip2400)\" style=\"stroke:#000000; stroke-width:4; stroke-opacity:1; fill:none\" points=\"\n  251.71,409.221 276.923,409.221 \n  \"/>\n<polyline clip-path=\"url(#clip2400)\" style=\"stroke:#000000; stroke-width:4; stroke-opacity:1; fill:none\" points=\"\n  251.71,83.4251 276.923,83.4251 \n  \"/>\n<g clip-path=\"url(#clip2400)\">\n<text style=\"fill:#000000; fill-opacity:1; font-family:Arial,Helvetica Neue,Helvetica,sans-serif; font-size:48px; text-anchor:middle;\" transform=\"rotate(0, 528.163, 1479.62)\" x=\"528.163\" y=\"1479.62\">2020-02-01</text>\n</g>\n<g clip-path=\"url(#clip2400)\">\n<text style=\"fill:#000000; fill-opacity:1; font-family:Arial,Helvetica Neue,Helvetica,sans-serif; font-size:48px; text-anchor:middle;\" transform=\"rotate(0, 1329.88, 1479.62)\" x=\"1329.88\" y=\"1479.62\">2020-03-01</text>\n</g>\n<g clip-path=\"url(#clip2400)\">\n<text style=\"fill:#000000; fill-opacity:1; font-family:Arial,Helvetica Neue,Helvetica,sans-serif; font-size:48px; text-anchor:middle;\" transform=\"rotate(0, 2186.88, 1479.62)\" x=\"2186.88\" y=\"1479.62\">2020-04-01</text>\n</g>\n<g clip-path=\"url(#clip2400)\">\n<text style=\"fill:#000000; fill-opacity:1; font-family:Arial,Helvetica Neue,Helvetica,sans-serif; font-size:48px; text-anchor:start;\" transform=\"rotate(0, 152.441, 1410.34)\" x=\"152.441\" y=\"1410.34\">10</text>\n</g>\n<g clip-path=\"url(#clip2400)\">\n<text style=\"fill:#000000; fill-opacity:1; font-family:Arial,Helvetica Neue,Helvetica,sans-serif; font-size:38px; text-anchor:start;\" transform=\"rotate(0, 205.966, 1382.93)\" x=\"205.966\" y=\"1382.93\">0</text>\n</g>\n<g clip-path=\"url(#clip2400)\">\n<text style=\"fill:#000000; fill-opacity:1; font-family:Arial,Helvetica Neue,Helvetica,sans-serif; font-size:48px; text-anchor:start;\" transform=\"rotate(0, 152.441, 1084.54)\" x=\"152.441\" y=\"1084.54\">10</text>\n</g>\n<g clip-path=\"url(#clip2400)\">\n<text style=\"fill:#000000; fill-opacity:1; font-family:Arial,Helvetica Neue,Helvetica,sans-serif; font-size:38px; text-anchor:start;\" transform=\"rotate(0, 205.966, 1057.13)\" x=\"205.966\" y=\"1057.13\">1</text>\n</g>\n<g clip-path=\"url(#clip2400)\">\n<text style=\"fill:#000000; fill-opacity:1; font-family:Arial,Helvetica Neue,Helvetica,sans-serif; font-size:48px; text-anchor:start;\" transform=\"rotate(0, 152.441, 758.744)\" x=\"152.441\" y=\"758.744\">10</text>\n</g>\n<g clip-path=\"url(#clip2400)\">\n<text style=\"fill:#000000; fill-opacity:1; font-family:Arial,Helvetica Neue,Helvetica,sans-serif; font-size:38px; text-anchor:start;\" transform=\"rotate(0, 205.966, 731.334)\" x=\"205.966\" y=\"731.334\">2</text>\n</g>\n<g clip-path=\"url(#clip2400)\">\n<text style=\"fill:#000000; fill-opacity:1; font-family:Arial,Helvetica Neue,Helvetica,sans-serif; font-size:48px; text-anchor:start;\" transform=\"rotate(0, 152.441, 432.948)\" x=\"152.441\" y=\"432.948\">10</text>\n</g>\n<g clip-path=\"url(#clip2400)\">\n<text style=\"fill:#000000; fill-opacity:1; font-family:Arial,Helvetica Neue,Helvetica,sans-serif; font-size:38px; text-anchor:start;\" transform=\"rotate(0, 205.966, 405.538)\" x=\"205.966\" y=\"405.538\">3</text>\n</g>\n<g clip-path=\"url(#clip2400)\">\n<text style=\"fill:#000000; fill-opacity:1; font-family:Arial,Helvetica Neue,Helvetica,sans-serif; font-size:48px; text-anchor:start;\" transform=\"rotate(0, 152.441, 107.153)\" x=\"152.441\" y=\"107.153\">10</text>\n</g>\n<g clip-path=\"url(#clip2400)\">\n<text style=\"fill:#000000; fill-opacity:1; font-family:Arial,Helvetica Neue,Helvetica,sans-serif; font-size:38px; text-anchor:start;\" transform=\"rotate(0, 205.966, 79.7423)\" x=\"205.966\" y=\"79.7423\">4</text>\n</g>\n<g clip-path=\"url(#clip2400)\">\n<text style=\"fill:#000000; fill-opacity:1; font-family:Arial,Helvetica Neue,Helvetica,sans-serif; font-size:66px; text-anchor:middle;\" transform=\"rotate(0, 1302.23, 1559.48)\" x=\"1302.23\" y=\"1559.48\">day</text>\n</g>\n<g clip-path=\"url(#clip2400)\">\n<text style=\"fill:#000000; fill-opacity:1; font-family:Arial,Helvetica Neue,Helvetica,sans-serif; font-size:66px; text-anchor:middle;\" transform=\"rotate(-90, 89.2861, 736.431)\" x=\"89.2861\" y=\"736.431\">confirmed cases</text>\n</g>\n<polyline clip-path=\"url(#clip2402)\" style=\"stroke:#009af9; stroke-width:4; stroke-opacity:1; fill:none\" points=\"\n  389.937,1386.61 417.582,1190.46 445.227,1190.46 472.873,1190.46 500.518,1158.89 \n  \"/>\n<polyline clip-path=\"url(#clip2402)\" style=\"stroke:#3da44d; stroke-width:4; stroke-opacity:1; fill:none\" points=\"\n  251.71,494.325 279.355,471.705 307.001,421.019 334.646,361.008 362.291,305.938 389.937,259.7 417.582,167.782 445.227,153.666 472.873,112.526 500.518,86.2547 \n  \n  \"/>\n<polyline clip-path=\"url(#clip2402)\" style=\"stroke:#c271d2; stroke-width:4; stroke-opacity:1; fill:none\" points=\"\n  251.71,1386.61 279.355,1386.61 307.001,1288.53 334.646,1288.53 362.291,1231.16 389.937,1190.46 417.582,1190.46 445.227,1190.46 472.873,1190.46 500.518,1047.33 \n  \n  \"/>\n<polyline clip-path=\"url(#clip2402)\" style=\"stroke:#ac8d18; stroke-width:4; stroke-opacity:1; fill:none\" points=\"\n  251.71,1288.53 279.355,1288.53 307.001,1288.53 334.646,1288.53 362.291,1190.46 389.937,1190.46 417.582,1111.28 445.227,1111.28 472.873,1047.33 500.518,1003.44 \n  \n  \"/>\n<polyline clip-path=\"url(#clip2402)\" style=\"stroke:#00a9ad; stroke-width:4; stroke-opacity:1; fill:none\" points=\"\n  307.001,1288.53 334.646,1231.16 362.291,1231.16 389.937,1231.16 417.582,1190.46 445.227,1158.89 472.873,1158.89 500.518,1158.89 \n  \"/>\n<polyline clip-path=\"url(#clip2402)\" style=\"stroke:#ed5d92; stroke-width:4; stroke-opacity:1; fill:none\" points=\"\n  251.71,1386.61 279.355,1386.61 307.001,1288.53 334.646,1288.53 362.291,1158.89 389.937,1158.89 417.582,1158.89 445.227,1158.89 472.873,1158.89 500.518,1111.28 \n  \n  \"/>\n<path clip-path=\"url(#clip2400)\" d=\"\nM323.71 614.604 L906.133 614.604 L906.133 130.764 L323.71 130.764  Z\n  \" fill=\"#ffffff\" fill-rule=\"evenodd\" fill-opacity=\"1\"/>\n<polyline clip-path=\"url(#clip2400)\" style=\"stroke:#000000; stroke-width:4; stroke-opacity:1; fill:none\" points=\"\n  323.71,614.604 906.133,614.604 906.133,130.764 323.71,130.764 323.71,614.604 \n  \"/>\n<polyline clip-path=\"url(#clip2400)\" style=\"stroke:#009af9; stroke-width:4; stroke-opacity:1; fill:none\" points=\"\n  347.71,191.244 491.71,191.244 \n  \"/>\n<g clip-path=\"url(#clip2400)\">\n<text style=\"fill:#000000; fill-opacity:1; font-family:Arial,Helvetica Neue,Helvetica,sans-serif; font-size:48px; text-anchor:start;\" transform=\"rotate(0, 515.71, 208.744)\" x=\"515.71\" y=\"208.744\">Germany</text>\n</g>\n<polyline clip-path=\"url(#clip2400)\" style=\"stroke:#e26f46; stroke-width:4; stroke-opacity:1; fill:none\" points=\"\n  347.71,251.724 491.71,251.724 \n  \"/>\n<g clip-path=\"url(#clip2400)\">\n<text style=\"fill:#000000; fill-opacity:1; font-family:Arial,Helvetica Neue,Helvetica,sans-serif; font-size:48px; text-anchor:start;\" transform=\"rotate(0, 515.71, 269.224)\" x=\"515.71\" y=\"269.224\">United Kingdom</text>\n</g>\n<polyline clip-path=\"url(#clip2400)\" style=\"stroke:#3da44d; stroke-width:4; stroke-opacity:1; fill:none\" points=\"\n  347.71,312.204 491.71,312.204 \n  \"/>\n<g clip-path=\"url(#clip2400)\">\n<text style=\"fill:#000000; fill-opacity:1; font-family:Arial,Helvetica Neue,Helvetica,sans-serif; font-size:48px; text-anchor:start;\" transform=\"rotate(0, 515.71, 329.704)\" x=\"515.71\" y=\"329.704\">China</text>\n</g>\n<polyline clip-path=\"url(#clip2400)\" style=\"stroke:#c271d2; stroke-width:4; stroke-opacity:1; fill:none\" points=\"\n  347.71,372.684 491.71,372.684 \n  \"/>\n<g clip-path=\"url(#clip2400)\">\n<text style=\"fill:#000000; fill-opacity:1; font-family:Arial,Helvetica Neue,Helvetica,sans-serif; font-size:48px; text-anchor:start;\" transform=\"rotate(0, 515.71, 390.184)\" x=\"515.71\" y=\"390.184\">Korea, South</text>\n</g>\n<polyline clip-path=\"url(#clip2400)\" style=\"stroke:#ac8d18; stroke-width:4; stroke-opacity:1; fill:none\" points=\"\n  347.71,433.164 491.71,433.164 \n  \"/>\n<g clip-path=\"url(#clip2400)\">\n<text style=\"fill:#000000; fill-opacity:1; font-family:Arial,Helvetica Neue,Helvetica,sans-serif; font-size:48px; text-anchor:start;\" transform=\"rotate(0, 515.71, 450.664)\" x=\"515.71\" y=\"450.664\">Japan</text>\n</g>\n<polyline clip-path=\"url(#clip2400)\" style=\"stroke:#00a9ad; stroke-width:4; stroke-opacity:1; fill:none\" points=\"\n  347.71,493.644 491.71,493.644 \n  \"/>\n<g clip-path=\"url(#clip2400)\">\n<text style=\"fill:#000000; fill-opacity:1; font-family:Arial,Helvetica Neue,Helvetica,sans-serif; font-size:48px; text-anchor:start;\" transform=\"rotate(0, 515.71, 511.144)\" x=\"515.71\" y=\"511.144\">France</text>\n</g>\n<polyline clip-path=\"url(#clip2400)\" style=\"stroke:#ed5d92; stroke-width:4; stroke-opacity:1; fill:none\" points=\"\n  347.71,554.124 491.71,554.124 \n  \"/>\n<g clip-path=\"url(#clip2400)\">\n<text style=\"fill:#000000; fill-opacity:1; font-family:Arial,Helvetica Neue,Helvetica,sans-serif; font-size:48px; text-anchor:start;\" transform=\"rotate(0, 515.71, 571.624)\" x=\"515.71\" y=\"571.624\">US</text>\n</g>\n</svg>\n"
               },
               "type": "node"
              }
             ],
             "instanceArgs": {
              "namespace": "html",
              "tag": "div"
             },
             "nodeType": "DOM",
             "props": {
              "className": "interact-flex-row interact-widget"
             },
             "type": "node"
            }
           }
          },
          "systemjs_options": null
         },
         "nodeType": "Scope",
         "props": {},
         "type": "node"
        }
       ],
       "instanceArgs": {
        "namespace": "html",
        "tag": "div"
       },
       "nodeType": "DOM",
       "props": {},
       "type": "node"
      },
      "text/html": [
       "<div\n",
       "    class=\"webio-mountpoint\"\n",
       "    data-webio-mountpoint=\"9462389198248279921\"\n",
       ">\n",
       "    <script>\n",
       "    if (window.require && require.defined && require.defined(\"nbextensions/webio-jupyter-notebook\")) {\n",
       "        console.log(\"Jupyter WebIO extension detected, not mounting.\");\n",
       "    } else if (window.WebIO) {\n",
       "        WebIO.mount(\n",
       "            document.querySelector('[data-webio-mountpoint=\"9462389198248279921\"]'),\n",
       "            {\"props\":{},\"nodeType\":\"DOM\",\"type\":\"node\",\"instanceArgs\":{\"namespace\":\"html\",\"tag\":\"div\"},\"children\":[{\"props\":{\"className\":\"field interact-widget\"},\"nodeType\":\"DOM\",\"type\":\"node\",\"instanceArgs\":{\"namespace\":\"html\",\"tag\":\"div\"},\"children\":[{\"props\":{},\"nodeType\":\"Scope\",\"type\":\"node\",\"instanceArgs\":{\"imports\":{\"data\":[{\"name\":\"knockout\",\"type\":\"js\",\"url\":\"\\/assetserver\\/b860f94f78688b22eb297ac9422dedbc58e4c416-knockout.js\"},{\"name\":\"knockout_punches\",\"type\":\"js\",\"url\":\"\\/assetserver\\/7c440f6e0da891d885878e4bba0e1c045af333ce-knockout_punches.js\"},{\"name\":null,\"type\":\"js\",\"url\":\"\\/assetserver\\/ed10687e5e203c9dcc58c6e408c30c32c58d27c2-all.js\"},{\"name\":null,\"type\":\"css\",\"url\":\"\\/assetserver\\/a1ce04ad54e406ba65800a3d8a6d360fc2cb04a4-style.css\"},{\"name\":null,\"type\":\"css\",\"url\":\"\\/assetserver\\/594cfc32cf120a5994a85b4fb8deff54fc8fbe7b-bulma_confined.min.css\"}],\"type\":\"async_block\"},\"id\":\"9873989301414649939\",\"handlers\":{\"changes\":[\"(function (val){return (val!=this.model[\\\"changes\\\"]()) ? (this.valueFromJulia[\\\"changes\\\"]=true, this.model[\\\"changes\\\"](val)) : undefined})\"],\"index\":[\"(function (val){return (val!=this.model[\\\"index\\\"]()) ? (this.valueFromJulia[\\\"index\\\"]=true, this.model[\\\"index\\\"](val)) : undefined})\"]},\"systemjs_options\":null,\"mount_callbacks\":[\"function () {\\n    var handler = (function (ko, koPunches) {\\n    ko.punches.enableAll();\\n    ko.bindingHandlers.numericValue = {\\n        init: function(element, valueAccessor, allBindings, data, context) {\\n            var stringified = ko.observable(ko.unwrap(valueAccessor()));\\n            stringified.subscribe(function(value) {\\n                var val = parseFloat(value);\\n                if (!isNaN(val)) {\\n                    valueAccessor()(val);\\n                }\\n            });\\n            valueAccessor().subscribe(function(value) {\\n                var str = JSON.stringify(value);\\n                if ((str == \\\"0\\\") && ([\\\"-0\\\", \\\"-0.\\\"].indexOf(stringified()) >= 0))\\n                     return;\\n                 if ([\\\"null\\\", \\\"\\\"].indexOf(str) >= 0)\\n                     return;\\n                stringified(str);\\n            });\\n            ko.applyBindingsToNode(\\n                element,\\n                {\\n                    value: stringified,\\n                    valueUpdate: allBindings.get('valueUpdate'),\\n                },\\n                context,\\n            );\\n        }\\n    };\\n    var json_data = {\\\"formatted_vals\\\":[\\\"1\\\",\\\"2\\\",\\\"3\\\",\\\"4\\\",\\\"5\\\",\\\"6\\\",\\\"7\\\",\\\"8\\\",\\\"9\\\",\\\"10\\\",\\\"11\\\",\\\"12\\\",\\\"13\\\",\\\"14\\\",\\\"15\\\",\\\"16\\\",\\\"17\\\",\\\"18\\\",\\\"19\\\",\\\"20\\\",\\\"21\\\",\\\"22\\\",\\\"23\\\",\\\"24\\\",\\\"25\\\",\\\"26\\\",\\\"27\\\",\\\"28\\\",\\\"29\\\",\\\"30\\\",\\\"31\\\",\\\"32\\\",\\\"33\\\",\\\"34\\\",\\\"35\\\",\\\"36\\\",\\\"37\\\",\\\"38\\\",\\\"39\\\",\\\"40\\\",\\\"41\\\",\\\"42\\\",\\\"43\\\",\\\"44\\\",\\\"45\\\",\\\"46\\\",\\\"47\\\",\\\"48\\\",\\\"49\\\",\\\"50\\\",\\\"51\\\",\\\"52\\\",\\\"53\\\",\\\"54\\\",\\\"55\\\",\\\"56\\\",\\\"57\\\",\\\"58\\\",\\\"59\\\",\\\"60\\\",\\\"61\\\",\\\"62\\\",\\\"63\\\",\\\"64\\\",\\\"65\\\",\\\"66\\\",\\\"67\\\",\\\"68\\\",\\\"69\\\",\\\"70\\\",\\\"71\\\",\\\"72\\\",\\\"73\\\",\\\"74\\\",\\\"75\\\",\\\"76\\\",\\\"77\\\"],\\\"changes\\\":WebIO.getval({\\\"name\\\":\\\"changes\\\",\\\"scope\\\":\\\"9873989301414649939\\\",\\\"id\\\":\\\"ob_10\\\",\\\"type\\\":\\\"observable\\\"}),\\\"index\\\":WebIO.getval({\\\"name\\\":\\\"index\\\",\\\"scope\\\":\\\"9873989301414649939\\\",\\\"id\\\":\\\"ob_09\\\",\\\"type\\\":\\\"observable\\\"})};\\n    var self = this;\\n    function AppViewModel() {\\n        for (var key in json_data) {\\n            var el = json_data[key];\\n            this[key] = Array.isArray(el) ? ko.observableArray(el) : ko.observable(el);\\n        }\\n        \\n        [this[\\\"formatted_val\\\"]=ko.computed(    function(){\\n        return this.formatted_vals()[parseInt(this.index())-(1)];\\n    }\\n,this)]\\n        [this[\\\"changes\\\"].subscribe((function (val){!(this.valueFromJulia[\\\"changes\\\"]) ? (WebIO.setval({\\\"name\\\":\\\"changes\\\",\\\"scope\\\":\\\"9873989301414649939\\\",\\\"id\\\":\\\"ob_10\\\",\\\"type\\\":\\\"observable\\\"},val)) : undefined; return this.valueFromJulia[\\\"changes\\\"]=false}),self),this[\\\"index\\\"].subscribe((function (val){!(this.valueFromJulia[\\\"index\\\"]) ? (WebIO.setval({\\\"name\\\":\\\"index\\\",\\\"scope\\\":\\\"9873989301414649939\\\",\\\"id\\\":\\\"ob_09\\\",\\\"type\\\":\\\"observable\\\"},val)) : undefined; return this.valueFromJulia[\\\"index\\\"]=false}),self)]\\n        \\n    }\\n    self.model = new AppViewModel();\\n    self.valueFromJulia = {};\\n    for (var key in json_data) {\\n        self.valueFromJulia[key] = false;\\n    }\\n    ko.applyBindings(self.model, self.dom);\\n}\\n);\\n    (WebIO.importBlock({\\\"data\\\":[{\\\"name\\\":\\\"knockout\\\",\\\"type\\\":\\\"js\\\",\\\"url\\\":\\\"\\/assetserver\\/b860f94f78688b22eb297ac9422dedbc58e4c416-knockout.js\\\"},{\\\"name\\\":\\\"knockout_punches\\\",\\\"type\\\":\\\"js\\\",\\\"url\\\":\\\"\\/assetserver\\/7c440f6e0da891d885878e4bba0e1c045af333ce-knockout_punches.js\\\"}],\\\"type\\\":\\\"async_block\\\"})).then((imports) => handler.apply(this, imports));\\n}\\n\"],\"observables\":{\"changes\":{\"sync\":false,\"id\":\"ob_10\",\"value\":0},\"index\":{\"sync\":true,\"id\":\"ob_09\",\"value\":10}}},\"children\":[{\"props\":{\"className\":\"interact-flex-row interact-widget\"},\"nodeType\":\"DOM\",\"type\":\"node\",\"instanceArgs\":{\"namespace\":\"html\",\"tag\":\"div\"},\"children\":[{\"props\":{\"className\":\"interact-flex-row-left\"},\"nodeType\":\"DOM\",\"type\":\"node\",\"instanceArgs\":{\"namespace\":\"html\",\"tag\":\"div\"},\"children\":[{\"props\":{\"className\":\"interact \",\"style\":{\"padding\":\"5px 10px 0px 10px\"}},\"nodeType\":\"DOM\",\"type\":\"node\",\"instanceArgs\":{\"namespace\":\"html\",\"tag\":\"label\"},\"children\":[\"\"]}]},{\"props\":{\"className\":\"interact-flex-row-center\"},\"nodeType\":\"DOM\",\"type\":\"node\",\"instanceArgs\":{\"namespace\":\"html\",\"tag\":\"div\"},\"children\":[{\"props\":{\"max\":77,\"min\":1,\"attributes\":{\"type\":\"range\",\"data-bind\":\"numericValue: index, valueUpdate: 'input', event: {change: function (){this.changes(this.changes()+1)}}\",\"orient\":\"horizontal\"},\"step\":1,\"className\":\"slider slider is-fullwidth\",\"style\":{}},\"nodeType\":\"DOM\",\"type\":\"node\",\"instanceArgs\":{\"namespace\":\"html\",\"tag\":\"input\"},\"children\":[]}]},{\"props\":{\"className\":\"interact-flex-row-right\"},\"nodeType\":\"DOM\",\"type\":\"node\",\"instanceArgs\":{\"namespace\":\"html\",\"tag\":\"div\"},\"children\":[{\"props\":{\"attributes\":{\"data-bind\":\"text: formatted_val\"}},\"nodeType\":\"DOM\",\"type\":\"node\",\"instanceArgs\":{\"namespace\":\"html\",\"tag\":\"p\"},\"children\":[]}]}]}]}]},{\"props\":{},\"nodeType\":\"Scope\",\"type\":\"node\",\"instanceArgs\":{\"imports\":{\"data\":[],\"type\":\"async_block\"},\"id\":\"8924003581396356678\",\"handlers\":{},\"systemjs_options\":null,\"mount_callbacks\":[],\"observables\":{\"obs-node\":{\"sync\":false,\"id\":\"ob_14\",\"value\":{\"props\":{\"className\":\"interact-flex-row interact-widget\"},\"nodeType\":\"DOM\",\"type\":\"node\",\"instanceArgs\":{\"namespace\":\"html\",\"tag\":\"div\"},\"children\":[{\"props\":{\"setInnerHtml\":\"<?xml version=\\\"1.0\\\" encoding=\\\"utf-8\\\"?>\\n<svg xmlns=\\\"http:\\/\\/www.w3.org\\/2000\\/svg\\\" xmlns:xlink=\\\"http:\\/\\/www.w3.org\\/1999\\/xlink\\\" width=\\\"600\\\" height=\\\"400\\\" viewBox=\\\"0 0 2400 1600\\\">\\n<defs>\\n  <clipPath id=\\\"clip2000\\\">\\n    <rect x=\\\"0\\\" y=\\\"0\\\" width=\\\"2400\\\" height=\\\"1600\\\"\\/>\\n  <\\/clipPath>\\n<\\/defs>\\n<path clip-path=\\\"url(#clip2000)\\\" d=\\\"\\nM0 1600 L2400 1600 L2400 0 L0 0  Z\\n  \\\" fill=\\\"#ffffff\\\" fill-rule=\\\"evenodd\\\" fill-opacity=\\\"1\\\"\\/>\\n<defs>\\n  <clipPath id=\\\"clip2001\\\">\\n    <rect x=\\\"480\\\" y=\\\"0\\\" width=\\\"1681\\\" height=\\\"1600\\\"\\/>\\n  <\\/clipPath>\\n<\\/defs>\\n<path clip-path=\\\"url(#clip2000)\\\" d=\\\"\\nM251.71 1425.62 L2352.76 1425.62 L2352.76 47.2441 L251.71 47.2441  Z\\n  \\\" fill=\\\"#ffffff\\\" fill-rule=\\\"evenodd\\\" fill-opacity=\\\"1\\\"\\/>\\n<defs>\\n  <clipPath id=\\\"clip2002\\\">\\n    <rect x=\\\"251\\\" y=\\\"47\\\" width=\\\"2102\\\" height=\\\"1379\\\"\\/>\\n  <\\/clipPath>\\n<\\/defs>\\n<polyline clip-path=\\\"url(#clip2002)\\\" style=\\\"stroke:#000000; stroke-width:2; stroke-opacity:0.1; fill:none\\\" points=\\\"\\n  528.163,1425.62 528.163,47.2441 \\n  \\\"\\/>\\n<polyline clip-path=\\\"url(#clip2002)\\\" style=\\\"stroke:#000000; stroke-width:2; stroke-opacity:0.1; fill:none\\\" points=\\\"\\n  1329.88,1425.62 1329.88,47.2441 \\n  \\\"\\/>\\n<polyline clip-path=\\\"url(#clip2002)\\\" style=\\\"stroke:#000000; stroke-width:2; stroke-opacity:0.1; fill:none\\\" points=\\\"\\n  2186.88,1425.62 2186.88,47.2441 \\n  \\\"\\/>\\n<polyline clip-path=\\\"url(#clip2002)\\\" style=\\\"stroke:#000000; stroke-width:2; stroke-opacity:0.1; fill:none\\\" points=\\\"\\n  251.71,1386.61 2352.76,1386.61 \\n  \\\"\\/>\\n<polyline clip-path=\\\"url(#clip2002)\\\" style=\\\"stroke:#000000; stroke-width:2; stroke-opacity:0.1; fill:none\\\" points=\\\"\\n  251.71,1060.81 2352.76,1060.81 \\n  \\\"\\/>\\n<polyline clip-path=\\\"url(#clip2002)\\\" style=\\\"stroke:#000000; stroke-width:2; stroke-opacity:0.1; fill:none\\\" points=\\\"\\n  251.71,735.017 2352.76,735.017 \\n  \\\"\\/>\\n<polyline clip-path=\\\"url(#clip2002)\\\" style=\\\"stroke:#000000; stroke-width:2; stroke-opacity:0.1; fill:none\\\" points=\\\"\\n  251.71,409.221 2352.76,409.221 \\n  \\\"\\/>\\n<polyline clip-path=\\\"url(#clip2002)\\\" style=\\\"stroke:#000000; stroke-width:2; stroke-opacity:0.1; fill:none\\\" points=\\\"\\n  251.71,83.4251 2352.76,83.4251 \\n  \\\"\\/>\\n<polyline clip-path=\\\"url(#clip2000)\\\" style=\\\"stroke:#000000; stroke-width:4; stroke-opacity:1; fill:none\\\" points=\\\"\\n  251.71,1425.62 2352.76,1425.62 \\n  \\\"\\/>\\n<polyline clip-path=\\\"url(#clip2000)\\\" style=\\\"stroke:#000000; stroke-width:4; stroke-opacity:1; fill:none\\\" points=\\\"\\n  251.71,1425.62 251.71,47.2441 \\n  \\\"\\/>\\n<polyline clip-path=\\\"url(#clip2000)\\\" style=\\\"stroke:#000000; stroke-width:4; stroke-opacity:1; fill:none\\\" points=\\\"\\n  528.163,1425.62 528.163,1409.08 \\n  \\\"\\/>\\n<polyline clip-path=\\\"url(#clip2000)\\\" style=\\\"stroke:#000000; stroke-width:4; stroke-opacity:1; fill:none\\\" points=\\\"\\n  1329.88,1425.62 1329.88,1409.08 \\n  \\\"\\/>\\n<polyline clip-path=\\\"url(#clip2000)\\\" style=\\\"stroke:#000000; stroke-width:4; stroke-opacity:1; fill:none\\\" points=\\\"\\n  2186.88,1425.62 2186.88,1409.08 \\n  \\\"\\/>\\n<polyline clip-path=\\\"url(#clip2000)\\\" style=\\\"stroke:#000000; stroke-width:4; stroke-opacity:1; fill:none\\\" points=\\\"\\n  251.71,1386.61 276.923,1386.61 \\n  \\\"\\/>\\n<polyline clip-path=\\\"url(#clip2000)\\\" style=\\\"stroke:#000000; stroke-width:4; stroke-opacity:1; fill:none\\\" points=\\\"\\n  251.71,1060.81 276.923,1060.81 \\n  \\\"\\/>\\n<polyline clip-path=\\\"url(#clip2000)\\\" style=\\\"stroke:#000000; stroke-width:4; stroke-opacity:1; fill:none\\\" points=\\\"\\n  251.71,735.017 276.923,735.017 \\n  \\\"\\/>\\n<polyline clip-path=\\\"url(#clip2000)\\\" style=\\\"stroke:#000000; stroke-width:4; stroke-opacity:1; fill:none\\\" points=\\\"\\n  251.71,409.221 276.923,409.221 \\n  \\\"\\/>\\n<polyline clip-path=\\\"url(#clip2000)\\\" style=\\\"stroke:#000000; stroke-width:4; stroke-opacity:1; fill:none\\\" points=\\\"\\n  251.71,83.4251 276.923,83.4251 \\n  \\\"\\/>\\n<g clip-path=\\\"url(#clip2000)\\\">\\n<text style=\\\"fill:#000000; fill-opacity:1; font-family:Arial,Helvetica Neue,Helvetica,sans-serif; font-size:48px; text-anchor:middle;\\\" transform=\\\"rotate(0, 528.163, 1479.62)\\\" x=\\\"528.163\\\" y=\\\"1479.62\\\">2020-02-01<\\/text>\\n<\\/g>\\n<g clip-path=\\\"url(#clip2000)\\\">\\n<text style=\\\"fill:#000000; fill-opacity:1; font-family:Arial,Helvetica Neue,Helvetica,sans-serif; font-size:48px; text-anchor:middle;\\\" transform=\\\"rotate(0, 1329.88, 1479.62)\\\" x=\\\"1329.88\\\" y=\\\"1479.62\\\">2020-03-01<\\/text>\\n<\\/g>\\n<g clip-path=\\\"url(#clip2000)\\\">\\n<text style=\\\"fill:#000000; fill-opacity:1; font-family:Arial,Helvetica Neue,Helvetica,sans-serif; font-size:48px; text-anchor:middle;\\\" transform=\\\"rotate(0, 2186.88, 1479.62)\\\" x=\\\"2186.88\\\" y=\\\"1479.62\\\">2020-04-01<\\/text>\\n<\\/g>\\n<g clip-path=\\\"url(#clip2000)\\\">\\n<text style=\\\"fill:#000000; fill-opacity:1; font-family:Arial,Helvetica Neue,Helvetica,sans-serif; font-size:48px; text-anchor:start;\\\" transform=\\\"rotate(0, 152.441, 1410.34)\\\" x=\\\"152.441\\\" y=\\\"1410.34\\\">10<\\/text>\\n<\\/g>\\n<g clip-path=\\\"url(#clip2000)\\\">\\n<text style=\\\"fill:#000000; fill-opacity:1; font-family:Arial,Helvetica Neue,Helvetica,sans-serif; font-size:38px; text-anchor:start;\\\" transform=\\\"rotate(0, 205.966, 1382.93)\\\" x=\\\"205.966\\\" y=\\\"1382.93\\\">0<\\/text>\\n<\\/g>\\n<g clip-path=\\\"url(#clip2000)\\\">\\n<text style=\\\"fill:#000000; fill-opacity:1; font-family:Arial,Helvetica Neue,Helvetica,sans-serif; font-size:48px; text-anchor:start;\\\" transform=\\\"rotate(0, 152.441, 1084.54)\\\" x=\\\"152.441\\\" y=\\\"1084.54\\\">10<\\/text>\\n<\\/g>\\n<g clip-path=\\\"url(#clip2000)\\\">\\n<text style=\\\"fill:#000000; fill-opacity:1; font-family:Arial,Helvetica Neue,Helvetica,sans-serif; font-size:38px; text-anchor:start;\\\" transform=\\\"rotate(0, 205.966, 1057.13)\\\" x=\\\"205.966\\\" y=\\\"1057.13\\\">1<\\/text>\\n<\\/g>\\n<g clip-path=\\\"url(#clip2000)\\\">\\n<text style=\\\"fill:#000000; fill-opacity:1; font-family:Arial,Helvetica Neue,Helvetica,sans-serif; font-size:48px; text-anchor:start;\\\" transform=\\\"rotate(0, 152.441, 758.744)\\\" x=\\\"152.441\\\" y=\\\"758.744\\\">10<\\/text>\\n<\\/g>\\n<g clip-path=\\\"url(#clip2000)\\\">\\n<text style=\\\"fill:#000000; fill-opacity:1; font-family:Arial,Helvetica Neue,Helvetica,sans-serif; font-size:38px; text-anchor:start;\\\" transform=\\\"rotate(0, 205.966, 731.334)\\\" x=\\\"205.966\\\" y=\\\"731.334\\\">2<\\/text>\\n<\\/g>\\n<g clip-path=\\\"url(#clip2000)\\\">\\n<text style=\\\"fill:#000000; fill-opacity:1; font-family:Arial,Helvetica Neue,Helvetica,sans-serif; font-size:48px; text-anchor:start;\\\" transform=\\\"rotate(0, 152.441, 432.948)\\\" x=\\\"152.441\\\" y=\\\"432.948\\\">10<\\/text>\\n<\\/g>\\n<g clip-path=\\\"url(#clip2000)\\\">\\n<text style=\\\"fill:#000000; fill-opacity:1; font-family:Arial,Helvetica Neue,Helvetica,sans-serif; font-size:38px; text-anchor:start;\\\" transform=\\\"rotate(0, 205.966, 405.538)\\\" x=\\\"205.966\\\" y=\\\"405.538\\\">3<\\/text>\\n<\\/g>\\n<g clip-path=\\\"url(#clip2000)\\\">\\n<text style=\\\"fill:#000000; fill-opacity:1; font-family:Arial,Helvetica Neue,Helvetica,sans-serif; font-size:48px; text-anchor:start;\\\" transform=\\\"rotate(0, 152.441, 107.153)\\\" x=\\\"152.441\\\" y=\\\"107.153\\\">10<\\/text>\\n<\\/g>\\n<g clip-path=\\\"url(#clip2000)\\\">\\n<text style=\\\"fill:#000000; fill-opacity:1; font-family:Arial,Helvetica Neue,Helvetica,sans-serif; font-size:38px; text-anchor:start;\\\" transform=\\\"rotate(0, 205.966, 79.7423)\\\" x=\\\"205.966\\\" y=\\\"79.7423\\\">4<\\/text>\\n<\\/g>\\n<g clip-path=\\\"url(#clip2000)\\\">\\n<text style=\\\"fill:#000000; fill-opacity:1; font-family:Arial,Helvetica Neue,Helvetica,sans-serif; font-size:66px; text-anchor:middle;\\\" transform=\\\"rotate(0, 1302.23, 1559.48)\\\" x=\\\"1302.23\\\" y=\\\"1559.48\\\">day<\\/text>\\n<\\/g>\\n<g clip-path=\\\"url(#clip2000)\\\">\\n<text style=\\\"fill:#000000; fill-opacity:1; font-family:Arial,Helvetica Neue,Helvetica,sans-serif; font-size:66px; text-anchor:middle;\\\" transform=\\\"rotate(-90, 89.2861, 736.431)\\\" x=\\\"89.2861\\\" y=\\\"736.431\\\">confirmed cases<\\/text>\\n<\\/g>\\n<polyline clip-path=\\\"url(#clip2002)\\\" style=\\\"stroke:#009af9; stroke-width:4; stroke-opacity:1; fill:none\\\" points=\\\"\\n  389.937,1386.61 417.582,1190.46 445.227,1190.46 472.873,1190.46 500.518,1158.89 \\n  \\\"\\/>\\n<polyline clip-path=\\\"url(#clip2002)\\\" style=\\\"stroke:#3da44d; stroke-width:4; stroke-opacity:1; fill:none\\\" points=\\\"\\n  251.71,494.325 279.355,471.705 307.001,421.019 334.646,361.008 362.291,305.938 389.937,259.7 417.582,167.782 445.227,153.666 472.873,112.526 500.518,86.2547 \\n  \\n  \\\"\\/>\\n<polyline clip-path=\\\"url(#clip2002)\\\" style=\\\"stroke:#c271d2; stroke-width:4; stroke-opacity:1; fill:none\\\" points=\\\"\\n  251.71,1386.61 279.355,1386.61 307.001,1288.53 334.646,1288.53 362.291,1231.16 389.937,1190.46 417.582,1190.46 445.227,1190.46 472.873,1190.46 500.518,1047.33 \\n  \\n  \\\"\\/>\\n<polyline clip-path=\\\"url(#clip2002)\\\" style=\\\"stroke:#ac8d18; stroke-width:4; stroke-opacity:1; fill:none\\\" points=\\\"\\n  251.71,1288.53 279.355,1288.53 307.001,1288.53 334.646,1288.53 362.291,1190.46 389.937,1190.46 417.582,1111.28 445.227,1111.28 472.873,1047.33 500.518,1003.44 \\n  \\n  \\\"\\/>\\n<polyline clip-path=\\\"url(#clip2002)\\\" style=\\\"stroke:#00a9ad; stroke-width:4; stroke-opacity:1; fill:none\\\" points=\\\"\\n  307.001,1288.53 334.646,1231.16 362.291,1231.16 389.937,1231.16 417.582,1190.46 445.227,1158.89 472.873,1158.89 500.518,1158.89 \\n  \\\"\\/>\\n<polyline clip-path=\\\"url(#clip2002)\\\" style=\\\"stroke:#ed5d92; stroke-width:4; stroke-opacity:1; fill:none\\\" points=\\\"\\n  251.71,1386.61 279.355,1386.61 307.001,1288.53 334.646,1288.53 362.291,1158.89 389.937,1158.89 417.582,1158.89 445.227,1158.89 472.873,1158.89 500.518,1111.28 \\n  \\n  \\\"\\/>\\n<path clip-path=\\\"url(#clip2000)\\\" d=\\\"\\nM323.71 614.604 L906.133 614.604 L906.133 130.764 L323.71 130.764  Z\\n  \\\" fill=\\\"#ffffff\\\" fill-rule=\\\"evenodd\\\" fill-opacity=\\\"1\\\"\\/>\\n<polyline clip-path=\\\"url(#clip2000)\\\" style=\\\"stroke:#000000; stroke-width:4; stroke-opacity:1; fill:none\\\" points=\\\"\\n  323.71,614.604 906.133,614.604 906.133,130.764 323.71,130.764 323.71,614.604 \\n  \\\"\\/>\\n<polyline clip-path=\\\"url(#clip2000)\\\" style=\\\"stroke:#009af9; stroke-width:4; stroke-opacity:1; fill:none\\\" points=\\\"\\n  347.71,191.244 491.71,191.244 \\n  \\\"\\/>\\n<g clip-path=\\\"url(#clip2000)\\\">\\n<text style=\\\"fill:#000000; fill-opacity:1; font-family:Arial,Helvetica Neue,Helvetica,sans-serif; font-size:48px; text-anchor:start;\\\" transform=\\\"rotate(0, 515.71, 208.744)\\\" x=\\\"515.71\\\" y=\\\"208.744\\\">Germany<\\/text>\\n<\\/g>\\n<polyline clip-path=\\\"url(#clip2000)\\\" style=\\\"stroke:#e26f46; stroke-width:4; stroke-opacity:1; fill:none\\\" points=\\\"\\n  347.71,251.724 491.71,251.724 \\n  \\\"\\/>\\n<g clip-path=\\\"url(#clip2000)\\\">\\n<text style=\\\"fill:#000000; fill-opacity:1; font-family:Arial,Helvetica Neue,Helvetica,sans-serif; font-size:48px; text-anchor:start;\\\" transform=\\\"rotate(0, 515.71, 269.224)\\\" x=\\\"515.71\\\" y=\\\"269.224\\\">United Kingdom<\\/text>\\n<\\/g>\\n<polyline clip-path=\\\"url(#clip2000)\\\" style=\\\"stroke:#3da44d; stroke-width:4; stroke-opacity:1; fill:none\\\" points=\\\"\\n  347.71,312.204 491.71,312.204 \\n  \\\"\\/>\\n<g clip-path=\\\"url(#clip2000)\\\">\\n<text style=\\\"fill:#000000; fill-opacity:1; font-family:Arial,Helvetica Neue,Helvetica,sans-serif; font-size:48px; text-anchor:start;\\\" transform=\\\"rotate(0, 515.71, 329.704)\\\" x=\\\"515.71\\\" y=\\\"329.704\\\">China<\\/text>\\n<\\/g>\\n<polyline clip-path=\\\"url(#clip2000)\\\" style=\\\"stroke:#c271d2; stroke-width:4; stroke-opacity:1; fill:none\\\" points=\\\"\\n  347.71,372.684 491.71,372.684 \\n  \\\"\\/>\\n<g clip-path=\\\"url(#clip2000)\\\">\\n<text style=\\\"fill:#000000; fill-opacity:1; font-family:Arial,Helvetica Neue,Helvetica,sans-serif; font-size:48px; text-anchor:start;\\\" transform=\\\"rotate(0, 515.71, 390.184)\\\" x=\\\"515.71\\\" y=\\\"390.184\\\">Korea, South<\\/text>\\n<\\/g>\\n<polyline clip-path=\\\"url(#clip2000)\\\" style=\\\"stroke:#ac8d18; stroke-width:4; stroke-opacity:1; fill:none\\\" points=\\\"\\n  347.71,433.164 491.71,433.164 \\n  \\\"\\/>\\n<g clip-path=\\\"url(#clip2000)\\\">\\n<text style=\\\"fill:#000000; fill-opacity:1; font-family:Arial,Helvetica Neue,Helvetica,sans-serif; font-size:48px; text-anchor:start;\\\" transform=\\\"rotate(0, 515.71, 450.664)\\\" x=\\\"515.71\\\" y=\\\"450.664\\\">Japan<\\/text>\\n<\\/g>\\n<polyline clip-path=\\\"url(#clip2000)\\\" style=\\\"stroke:#00a9ad; stroke-width:4; stroke-opacity:1; fill:none\\\" points=\\\"\\n  347.71,493.644 491.71,493.644 \\n  \\\"\\/>\\n<g clip-path=\\\"url(#clip2000)\\\">\\n<text style=\\\"fill:#000000; fill-opacity:1; font-family:Arial,Helvetica Neue,Helvetica,sans-serif; font-size:48px; text-anchor:start;\\\" transform=\\\"rotate(0, 515.71, 511.144)\\\" x=\\\"515.71\\\" y=\\\"511.144\\\">France<\\/text>\\n<\\/g>\\n<polyline clip-path=\\\"url(#clip2000)\\\" style=\\\"stroke:#ed5d92; stroke-width:4; stroke-opacity:1; fill:none\\\" points=\\\"\\n  347.71,554.124 491.71,554.124 \\n  \\\"\\/>\\n<g clip-path=\\\"url(#clip2000)\\\">\\n<text style=\\\"fill:#000000; fill-opacity:1; font-family:Arial,Helvetica Neue,Helvetica,sans-serif; font-size:48px; text-anchor:start;\\\" transform=\\\"rotate(0, 515.71, 571.624)\\\" x=\\\"515.71\\\" y=\\\"571.624\\\">US<\\/text>\\n<\\/g>\\n<\\/svg>\\n\"},\"nodeType\":\"DOM\",\"type\":\"node\",\"instanceArgs\":{\"namespace\":\"html\",\"tag\":\"div\"},\"children\":[]}]}}}},\"children\":[{\"props\":{},\"nodeType\":\"ObservableNode\",\"type\":\"node\",\"instanceArgs\":{\"id\":\"ob_14\",\"name\":\"obs-node\"},\"children\":[]}]}]},\n",
       "            window,\n",
       "        );\n",
       "    } else {\n",
       "        document\n",
       "            .querySelector('[data-webio-mountpoint=\"9462389198248279921\"]')\n",
       "            .innerHTML = (\n",
       "                '<div style=\"padding: 1em; background-color: #f8d6da; border: 1px solid #f5c6cb\">' +\n",
       "                '<p><strong>WebIO not detected.</strong></p>' +\n",
       "                '<p>Please read ' +\n",
       "                '<a href=\"https://juliagizmos.github.io/WebIO.jl/latest/troubleshooting/not-detected/\" target=\"_blank\">the troubleshooting guide</a> ' +\n",
       "                'for more information on how to resolve this issue.</p>' +\n",
       "                '<p><a href=\"https://juliagizmos.github.io/WebIO.jl/latest/troubleshooting/not-detected/\" target=\"_blank\">https://juliagizmos.github.io/WebIO.jl/latest/troubleshooting/not-detected/</a></p>' +\n",
       "                '</div>'\n",
       "            );\n",
       "    }\n",
       "    </script>\n",
       "</div>\n"
      ],
      "text/plain": [
       "Node{WebIO.DOM}(WebIO.DOM(:html, :div), Any[Node{WebIO.DOM}(WebIO.DOM(:html, :div), Any[Scope(Node{WebIO.DOM}(WebIO.DOM(:html, :div), Any[Node{WebIO.DOM}(WebIO.DOM(:html, :div), Any[Node{WebIO.DOM}(WebIO.DOM(:html, :label), Any[nothing], Dict{Symbol,Any}(:className => \"interact \",:style => Dict{Any,Any}(:padding => \"5px 10px 0px 10px\")))], Dict{Symbol,Any}(:className => \"interact-flex-row-left\")), Node{WebIO.DOM}(WebIO.DOM(:html, :div), Any[Node{WebIO.DOM}(WebIO.DOM(:html, :input), Any[], Dict{Symbol,Any}(:max => 77,:min => 1,:attributes => Dict{Any,Any}(:type => \"range\",Symbol(\"data-bind\") => \"numericValue: index, valueUpdate: 'input', event: {change: function (){this.changes(this.changes()+1)}}\",\"orient\" => \"horizontal\"),:step => 1,:className => \"slider slider is-fullwidth\",:style => Dict{Any,Any}()))], Dict{Symbol,Any}(:className => \"interact-flex-row-center\")), Node{WebIO.DOM}(WebIO.DOM(:html, :div), Any[Node{WebIO.DOM}(WebIO.DOM(:html, :p), Any[], Dict{Symbol,Any}(:attributes => Dict(\"data-bind\" => \"text: formatted_val\")))], Dict{Symbol,Any}(:className => \"interact-flex-row-right\"))], Dict{Symbol,Any}(:className => \"interact-flex-row interact-widget\")), Dict{String,Tuple{Observables.AbstractObservable,Union{Nothing, Bool}}}(\"changes\" => (Observable{Int64} with 1 listeners. Value:\n",
       "0, nothing),\"index\" => (Observable{Int64} with 2 listeners. Value:\n",
       "10, nothing)), Set(String[]), nothing, Asset[Asset(\"js\", \"knockout\", \"/Users/moisestrejo/.julia/packages/Knockout/IP1uR/src/../assets/knockout.js\"), Asset(\"js\", \"knockout_punches\", \"/Users/moisestrejo/.julia/packages/Knockout/IP1uR/src/../assets/knockout_punches.js\"), Asset(\"js\", nothing, \"/Users/moisestrejo/.julia/packages/InteractBase/9mFwe/src/../assets/all.js\"), Asset(\"css\", nothing, \"/Users/moisestrejo/.julia/packages/InteractBase/9mFwe/src/../assets/style.css\"), Asset(\"css\", nothing, \"/Users/moisestrejo/.julia/packages/Interact/SbgIk/src/../assets/bulma_confined.min.css\")], Dict{Any,Any}(\"changes\" => Any[WebIO.JSString(\"(function (val){return (val!=this.model[\\\"changes\\\"]()) ? (this.valueFromJulia[\\\"changes\\\"]=true, this.model[\\\"changes\\\"](val)) : undefined})\")],\"index\" => Any[WebIO.JSString(\"(function (val){return (val!=this.model[\\\"index\\\"]()) ? (this.valueFromJulia[\\\"index\\\"]=true, this.model[\\\"index\\\"](val)) : undefined})\")]), WebIO.ConnectionPool(Channel{Any}(sz_max:32,sz_curr:0), Set(AbstractConnection[]), Base.GenericCondition{Base.AlwaysLockedST}(Base.InvasiveLinkedList{Task}(Task (runnable) @0x000000011f9c6f50, Task (runnable) @0x000000011f9c6f50), Base.AlwaysLockedST(1))), WebIO.JSString[WebIO.JSString(\"function () {\\n    var handler = (function (ko, koPunches) {\\n    ko.punches.enableAll();\\n    ko.bindingHandlers.numericValue = {\\n        init: function(element, valueAccessor, allBindings, data, context) {\\n            var stringified = ko.observable(ko.unwrap(valueAccessor()));\\n            stringified.subscribe(function(value) {\\n                var val = parseFloat(value);\\n                if (!isNaN(val)) {\\n                    valueAccessor()(val);\\n                }\\n            });\\n            valueAccessor().subscribe(function(value) {\\n                var str = JSON.stringify(value);\\n                if ((str == \\\"0\\\") && ([\\\"-0\\\", \\\"-0.\\\"].indexOf(stringified()) >= 0))\\n                     return;\\n                 if ([\\\"null\\\", \\\"\\\"].indexOf(str) >= 0)\\n                     return;\\n                stringified(str);\\n            });\\n            ko.applyBindingsToNode(\\n                element,\\n                {\\n                    value: stringified,\\n                    valueUpdate: allBindings.get('valueUpdate'),\\n                },\\n                context,\\n            );\\n        }\\n    };\\n    var json_data = {\\\"formatted_vals\\\":[\\\"1\\\",\\\"2\\\",\\\"3\\\",\\\"4\\\",\\\"5\\\",\\\"6\\\",\\\"7\\\",\\\"8\\\",\\\"9\\\",\\\"10\\\",\\\"11\\\",\\\"12\\\",\\\"13\\\",\\\"14\\\",\\\"15\\\",\\\"16\\\",\\\"17\\\",\\\"18\\\",\\\"19\\\",\\\"20\\\",\\\"21\\\",\\\"22\\\",\\\"23\\\",\\\"24\\\",\\\"25\\\",\\\"26\\\",\\\"27\\\",\\\"28\\\",\\\"29\\\",\\\"30\\\",\\\"31\\\",\\\"32\\\",\\\"33\\\",\\\"34\\\",\\\"35\\\",\\\"36\\\",\\\"37\\\",\\\"38\\\",\\\"39\\\",\\\"40\\\",\\\"41\\\",\\\"42\\\",\\\"43\\\",\\\"44\\\",\\\"45\\\",\\\"46\\\",\\\"47\\\",\\\"48\\\",\\\"49\\\",\\\"50\\\",\\\"51\\\",\\\"52\\\",\\\"53\\\",\\\"54\\\",\\\"55\\\",\\\"56\\\",\\\"57\\\",\\\"58\\\",\\\"59\\\",\\\"60\\\",\\\"61\\\",\\\"62\\\",\\\"63\\\",\\\"64\\\",\\\"65\\\",\\\"66\\\",\\\"67\\\",\\\"68\\\",\\\"69\\\",\\\"70\\\",\\\"71\\\",\\\"72\\\",\\\"73\\\",\\\"74\\\",\\\"75\\\",\\\"76\\\",\\\"77\\\"],\\\"changes\\\":WebIO.getval({\\\"name\\\":\\\"changes\\\",\\\"scope\\\":\\\"9873989301414649939\\\",\\\"id\\\":\\\"ob_10\\\",\\\"type\\\":\\\"observable\\\"}),\\\"index\\\":WebIO.getval({\\\"name\\\":\\\"index\\\",\\\"scope\\\":\\\"9873989301414649939\\\",\\\"id\\\":\\\"ob_09\\\",\\\"type\\\":\\\"observable\\\"})};\\n    var self = this;\\n    function AppViewModel() {\\n        for (var key in json_data) {\\n            var el = json_data[key];\\n            this[key] = Array.isArray(el) ? ko.observableArray(el) : ko.observable(el);\\n        }\\n        \\n        [this[\\\"formatted_val\\\"]=ko.computed(    function(){\\n        return this.formatted_vals()[parseInt(this.index())-(1)];\\n    }\\n,this)]\\n        [this[\\\"changes\\\"].subscribe((function (val){!(this.valueFromJulia[\\\"changes\\\"]) ? (WebIO.setval({\\\"name\\\":\\\"changes\\\",\\\"scope\\\":\\\"9873989301414649939\\\",\\\"id\\\":\\\"ob_10\\\",\\\"type\\\":\\\"observable\\\"},val)) : undefined; return this.valueFromJulia[\\\"changes\\\"]=false}),self),this[\\\"index\\\"].subscribe((function (val){!(this.valueFromJulia[\\\"index\\\"]) ? (WebIO.setval({\\\"name\\\":\\\"index\\\",\\\"scope\\\":\\\"9873989301414649939\\\",\\\"id\\\":\\\"ob_09\\\",\\\"type\\\":\\\"observable\\\"},val)) : undefined; return this.valueFromJulia[\\\"index\\\"]=false}),self)]\\n        \\n    }\\n    self.model = new AppViewModel();\\n    self.valueFromJulia = {};\\n    for (var key in json_data) {\\n        self.valueFromJulia[key] = false;\\n    }\\n    ko.applyBindings(self.model, self.dom);\\n}\\n);\\n    (WebIO.importBlock({\\\"data\\\":[{\\\"name\\\":\\\"knockout\\\",\\\"type\\\":\\\"js\\\",\\\"url\\\":\\\"/assetserver/b860f94f78688b22eb297ac9422dedbc58e4c416-knockout.js\\\"},{\\\"name\\\":\\\"knockout_punches\\\",\\\"type\\\":\\\"js\\\",\\\"url\\\":\\\"/assetserver/7c440f6e0da891d885878e4bba0e1c045af333ce-knockout_punches.js\\\"}],\\\"type\\\":\\\"async_block\\\"})).then((imports) => handler.apply(this, imports));\\n}\\n\")])], Dict{Symbol,Any}(:className => \"field interact-widget\")), Observable{Any} with 0 listeners. Value:\n",
       "Node{WebIO.DOM}(WebIO.DOM(:html, :div), Any[Plot{Plots.GRBackend() n=7}], Dict{Symbol,Any}(:className => \"interact-flex-row interact-widget\"))], Dict{Symbol,Any}())"
      ]
     },
     "execution_count": 15,
     "metadata": {
      "application/vnd.webio.node+json": {
       "kernelId": "e4953552-1d8c-4d00-bfad-cf192cd28aea"
      }
     },
     "output_type": "execute_result"
    }
   ],
   "source": [
    "plot_graphs_manipulate(true)"
   ]
  },
  {
   "cell_type": "markdown",
   "metadata": {},
   "source": [
    "Exercise 2: Visualizing changes"
   ]
  },
  {
   "cell_type": "code",
   "execution_count": 16,
   "metadata": {},
   "outputs": [
    {
     "data": {
      "text/plain": [
       "get_cases_day (generic function with 1 method)"
      ]
     },
     "execution_count": 16,
     "metadata": {},
     "output_type": "execute_result"
    }
   ],
   "source": [
    "function get_cases_day(country)\n",
    "    country_data = get_country_data()\n",
    "    country_cases = country_data[country]\n",
    "    total_cases_to_date = Vector()\n",
    "    new_cases = Vector()\n",
    "    for i in 1:size(country_cases)[1]\n",
    "        total_today = country_cases[i]\n",
    "        append!(total_cases_to_date,total_today)\n",
    "        total_past = country_cases[i] - country_cases[max(1,i-7)]\n",
    "        append!(new_cases,total_past)\n",
    "    end\n",
    "    return total_cases_to_date,new_cases\n",
    "end"
   ]
  },
  {
   "cell_type": "code",
   "execution_count": 17,
   "metadata": {},
   "outputs": [
    {
     "data": {
      "application/vnd.webio.node+json": {
       "children": [
        {
         "children": [
          {
           "children": [
            {
             "children": [
              {
               "children": [
                {
                 "children": [
                  ""
                 ],
                 "instanceArgs": {
                  "namespace": "html",
                  "tag": "label"
                 },
                 "nodeType": "DOM",
                 "props": {
                  "className": "interact ",
                  "style": {
                   "padding": "5px 10px 0px 10px"
                  }
                 },
                 "type": "node"
                }
               ],
               "instanceArgs": {
                "namespace": "html",
                "tag": "div"
               },
               "nodeType": "DOM",
               "props": {
                "className": "interact-flex-row-left"
               },
               "type": "node"
              },
              {
               "children": [
                {
                 "children": [],
                 "instanceArgs": {
                  "namespace": "html",
                  "tag": "input"
                 },
                 "nodeType": "DOM",
                 "props": {
                  "attributes": {
                   "data-bind": "numericValue: index, valueUpdate: 'input', event: {change: function (){this.changes(this.changes()+1)}}",
                   "orient": "horizontal",
                   "type": "range"
                  },
                  "className": "slider slider is-fullwidth",
                  "max": 77,
                  "min": 1,
                  "step": 1,
                  "style": {}
                 },
                 "type": "node"
                }
               ],
               "instanceArgs": {
                "namespace": "html",
                "tag": "div"
               },
               "nodeType": "DOM",
               "props": {
                "className": "interact-flex-row-center"
               },
               "type": "node"
              },
              {
               "children": [
                {
                 "children": [],
                 "instanceArgs": {
                  "namespace": "html",
                  "tag": "p"
                 },
                 "nodeType": "DOM",
                 "props": {
                  "attributes": {
                   "data-bind": "text: formatted_val"
                  }
                 },
                 "type": "node"
                }
               ],
               "instanceArgs": {
                "namespace": "html",
                "tag": "div"
               },
               "nodeType": "DOM",
               "props": {
                "className": "interact-flex-row-right"
               },
               "type": "node"
              }
             ],
             "instanceArgs": {
              "namespace": "html",
              "tag": "div"
             },
             "nodeType": "DOM",
             "props": {
              "className": "interact-flex-row interact-widget"
             },
             "type": "node"
            }
           ],
           "instanceArgs": {
            "handlers": {
             "changes": [
              "(function (val){return (val!=this.model[\"changes\"]()) ? (this.valueFromJulia[\"changes\"]=true, this.model[\"changes\"](val)) : undefined})"
             ],
             "index": [
              "(function (val){return (val!=this.model[\"index\"]()) ? (this.valueFromJulia[\"index\"]=true, this.model[\"index\"](val)) : undefined})"
             ]
            },
            "id": "18092609680841873911",
            "imports": {
             "data": [
              {
               "name": "knockout",
               "type": "js",
               "url": "/assetserver/b860f94f78688b22eb297ac9422dedbc58e4c416-knockout.js"
              },
              {
               "name": "knockout_punches",
               "type": "js",
               "url": "/assetserver/7c440f6e0da891d885878e4bba0e1c045af333ce-knockout_punches.js"
              },
              {
               "name": null,
               "type": "js",
               "url": "/assetserver/ed10687e5e203c9dcc58c6e408c30c32c58d27c2-all.js"
              },
              {
               "name": null,
               "type": "css",
               "url": "/assetserver/a1ce04ad54e406ba65800a3d8a6d360fc2cb04a4-style.css"
              },
              {
               "name": null,
               "type": "css",
               "url": "/assetserver/594cfc32cf120a5994a85b4fb8deff54fc8fbe7b-bulma_confined.min.css"
              }
             ],
             "type": "async_block"
            },
            "mount_callbacks": [
             "function () {\n    var handler = (function (ko, koPunches) {\n    ko.punches.enableAll();\n    ko.bindingHandlers.numericValue = {\n        init: function(element, valueAccessor, allBindings, data, context) {\n            var stringified = ko.observable(ko.unwrap(valueAccessor()));\n            stringified.subscribe(function(value) {\n                var val = parseFloat(value);\n                if (!isNaN(val)) {\n                    valueAccessor()(val);\n                }\n            });\n            valueAccessor().subscribe(function(value) {\n                var str = JSON.stringify(value);\n                if ((str == \"0\") && ([\"-0\", \"-0.\"].indexOf(stringified()) >= 0))\n                     return;\n                 if ([\"null\", \"\"].indexOf(str) >= 0)\n                     return;\n                stringified(str);\n            });\n            ko.applyBindingsToNode(\n                element,\n                {\n                    value: stringified,\n                    valueUpdate: allBindings.get('valueUpdate'),\n                },\n                context,\n            );\n        }\n    };\n    var json_data = {\"formatted_vals\":[\"1\",\"2\",\"3\",\"4\",\"5\",\"6\",\"7\",\"8\",\"9\",\"10\",\"11\",\"12\",\"13\",\"14\",\"15\",\"16\",\"17\",\"18\",\"19\",\"20\",\"21\",\"22\",\"23\",\"24\",\"25\",\"26\",\"27\",\"28\",\"29\",\"30\",\"31\",\"32\",\"33\",\"34\",\"35\",\"36\",\"37\",\"38\",\"39\",\"40\",\"41\",\"42\",\"43\",\"44\",\"45\",\"46\",\"47\",\"48\",\"49\",\"50\",\"51\",\"52\",\"53\",\"54\",\"55\",\"56\",\"57\",\"58\",\"59\",\"60\",\"61\",\"62\",\"63\",\"64\",\"65\",\"66\",\"67\",\"68\",\"69\",\"70\",\"71\",\"72\",\"73\",\"74\",\"75\",\"76\",\"77\"],\"changes\":WebIO.getval({\"name\":\"changes\",\"scope\":\"18092609680841873911\",\"id\":\"ob_18\",\"type\":\"observable\"}),\"index\":WebIO.getval({\"name\":\"index\",\"scope\":\"18092609680841873911\",\"id\":\"ob_17\",\"type\":\"observable\"})};\n    var self = this;\n    function AppViewModel() {\n        for (var key in json_data) {\n            var el = json_data[key];\n            this[key] = Array.isArray(el) ? ko.observableArray(el) : ko.observable(el);\n        }\n        \n        [this[\"formatted_val\"]=ko.computed(    function(){\n        return this.formatted_vals()[parseInt(this.index())-(1)];\n    }\n,this)]\n        [this[\"changes\"].subscribe((function (val){!(this.valueFromJulia[\"changes\"]) ? (WebIO.setval({\"name\":\"changes\",\"scope\":\"18092609680841873911\",\"id\":\"ob_18\",\"type\":\"observable\"},val)) : undefined; return this.valueFromJulia[\"changes\"]=false}),self),this[\"index\"].subscribe((function (val){!(this.valueFromJulia[\"index\"]) ? (WebIO.setval({\"name\":\"index\",\"scope\":\"18092609680841873911\",\"id\":\"ob_17\",\"type\":\"observable\"},val)) : undefined; return this.valueFromJulia[\"index\"]=false}),self)]\n        \n    }\n    self.model = new AppViewModel();\n    self.valueFromJulia = {};\n    for (var key in json_data) {\n        self.valueFromJulia[key] = false;\n    }\n    ko.applyBindings(self.model, self.dom);\n}\n);\n    (WebIO.importBlock({\"data\":[{\"name\":\"knockout\",\"type\":\"js\",\"url\":\"/assetserver/b860f94f78688b22eb297ac9422dedbc58e4c416-knockout.js\"},{\"name\":\"knockout_punches\",\"type\":\"js\",\"url\":\"/assetserver/7c440f6e0da891d885878e4bba0e1c045af333ce-knockout_punches.js\"}],\"type\":\"async_block\"})).then((imports) => handler.apply(this, imports));\n}\n"
            ],
            "observables": {
             "changes": {
              "id": "ob_18",
              "sync": false,
              "value": 0
             },
             "index": {
              "id": "ob_17",
              "sync": true,
              "value": 10
             }
            },
            "systemjs_options": null
           },
           "nodeType": "Scope",
           "props": {},
           "type": "node"
          }
         ],
         "instanceArgs": {
          "namespace": "html",
          "tag": "div"
         },
         "nodeType": "DOM",
         "props": {
          "className": "field interact-widget"
         },
         "type": "node"
        },
        {
         "children": [
          {
           "children": [],
           "instanceArgs": {
            "id": "ob_24",
            "name": "obs-node"
           },
           "nodeType": "ObservableNode",
           "props": {},
           "type": "node"
          }
         ],
         "instanceArgs": {
          "handlers": {},
          "id": "2776152840798180126",
          "imports": {
           "data": [],
           "type": "async_block"
          },
          "mount_callbacks": [],
          "observables": {
           "obs-node": {
            "id": "ob_24",
            "sync": false,
            "value": {
             "children": [
              {
               "children": [],
               "instanceArgs": {
                "namespace": "html",
                "tag": "div"
               },
               "nodeType": "DOM",
               "props": {
                "setInnerHtml": "<?xml version=\"1.0\" encoding=\"utf-8\"?>\n<svg xmlns=\"http://www.w3.org/2000/svg\" xmlns:xlink=\"http://www.w3.org/1999/xlink\" width=\"600\" height=\"400\" viewBox=\"0 0 2400 1600\">\n<defs>\n  <clipPath id=\"clip3200\">\n    <rect x=\"0\" y=\"0\" width=\"2400\" height=\"1600\"/>\n  </clipPath>\n</defs>\n<path clip-path=\"url(#clip3200)\" d=\"\nM0 1600 L2400 1600 L2400 0 L0 0  Z\n  \" fill=\"#ffffff\" fill-rule=\"evenodd\" fill-opacity=\"1\"/>\n<defs>\n  <clipPath id=\"clip3201\">\n    <rect x=\"480\" y=\"0\" width=\"1681\" height=\"1600\"/>\n  </clipPath>\n</defs>\n<path clip-path=\"url(#clip3200)\" d=\"\nM363.188 1425.62 L2352.76 1425.62 L2352.76 47.2441 L363.188 47.2441  Z\n  \" fill=\"#ffffff\" fill-rule=\"evenodd\" fill-opacity=\"1\"/>\n<defs>\n  <clipPath id=\"clip3202\">\n    <rect x=\"363\" y=\"47\" width=\"1991\" height=\"1379\"/>\n  </clipPath>\n</defs>\n<polyline clip-path=\"url(#clip3202)\" style=\"stroke:#000000; stroke-width:2; stroke-opacity:0.1; fill:none\" points=\"\n  363.188,1425.62 363.188,47.2441 \n  \"/>\n<polyline clip-path=\"url(#clip3202)\" style=\"stroke:#000000; stroke-width:2; stroke-opacity:0.1; fill:none\" points=\"\n  865.321,1425.62 865.321,47.2441 \n  \"/>\n<polyline clip-path=\"url(#clip3202)\" style=\"stroke:#000000; stroke-width:2; stroke-opacity:0.1; fill:none\" points=\"\n  1367.45,1425.62 1367.45,47.2441 \n  \"/>\n<polyline clip-path=\"url(#clip3202)\" style=\"stroke:#000000; stroke-width:2; stroke-opacity:0.1; fill:none\" points=\"\n  1869.59,1425.62 1869.59,47.2441 \n  \"/>\n<polyline clip-path=\"url(#clip3202)\" style=\"stroke:#000000; stroke-width:2; stroke-opacity:0.1; fill:none\" points=\"\n  363.188,1425.62 2352.76,1425.62 \n  \"/>\n<polyline clip-path=\"url(#clip3202)\" style=\"stroke:#000000; stroke-width:2; stroke-opacity:0.1; fill:none\" points=\"\n  363.188,1094.36 2352.76,1094.36 \n  \"/>\n<polyline clip-path=\"url(#clip3202)\" style=\"stroke:#000000; stroke-width:2; stroke-opacity:0.1; fill:none\" points=\"\n  363.188,763.101 2352.76,763.101 \n  \"/>\n<polyline clip-path=\"url(#clip3202)\" style=\"stroke:#000000; stroke-width:2; stroke-opacity:0.1; fill:none\" points=\"\n  363.188,431.842 2352.76,431.842 \n  \"/>\n<polyline clip-path=\"url(#clip3202)\" style=\"stroke:#000000; stroke-width:2; stroke-opacity:0.1; fill:none\" points=\"\n  363.188,100.583 2352.76,100.583 \n  \"/>\n<polyline clip-path=\"url(#clip3200)\" style=\"stroke:#000000; stroke-width:4; stroke-opacity:1; fill:none\" points=\"\n  363.188,1425.62 2352.76,1425.62 \n  \"/>\n<polyline clip-path=\"url(#clip3200)\" style=\"stroke:#000000; stroke-width:4; stroke-opacity:1; fill:none\" points=\"\n  363.188,1425.62 363.188,47.2441 \n  \"/>\n<polyline clip-path=\"url(#clip3200)\" style=\"stroke:#000000; stroke-width:4; stroke-opacity:1; fill:none\" points=\"\n  363.188,1425.62 363.188,1409.08 \n  \"/>\n<polyline clip-path=\"url(#clip3200)\" style=\"stroke:#000000; stroke-width:4; stroke-opacity:1; fill:none\" points=\"\n  865.321,1425.62 865.321,1409.08 \n  \"/>\n<polyline clip-path=\"url(#clip3200)\" style=\"stroke:#000000; stroke-width:4; stroke-opacity:1; fill:none\" points=\"\n  1367.45,1425.62 1367.45,1409.08 \n  \"/>\n<polyline clip-path=\"url(#clip3200)\" style=\"stroke:#000000; stroke-width:4; stroke-opacity:1; fill:none\" points=\"\n  1869.59,1425.62 1869.59,1409.08 \n  \"/>\n<polyline clip-path=\"url(#clip3200)\" style=\"stroke:#000000; stroke-width:4; stroke-opacity:1; fill:none\" points=\"\n  363.188,1425.62 387.062,1425.62 \n  \"/>\n<polyline clip-path=\"url(#clip3200)\" style=\"stroke:#000000; stroke-width:4; stroke-opacity:1; fill:none\" points=\"\n  363.188,1094.36 387.062,1094.36 \n  \"/>\n<polyline clip-path=\"url(#clip3200)\" style=\"stroke:#000000; stroke-width:4; stroke-opacity:1; fill:none\" points=\"\n  363.188,763.101 387.062,763.101 \n  \"/>\n<polyline clip-path=\"url(#clip3200)\" style=\"stroke:#000000; stroke-width:4; stroke-opacity:1; fill:none\" points=\"\n  363.188,431.842 387.062,431.842 \n  \"/>\n<polyline clip-path=\"url(#clip3200)\" style=\"stroke:#000000; stroke-width:4; stroke-opacity:1; fill:none\" points=\"\n  363.188,100.583 387.062,100.583 \n  \"/>\n<g clip-path=\"url(#clip3200)\">\n<text style=\"fill:#000000; fill-opacity:1; font-family:Arial,Helvetica Neue,Helvetica,sans-serif; font-size:48px; text-anchor:middle;\" transform=\"rotate(0, 363.188, 1479.62)\" x=\"363.188\" y=\"1479.62\">0</text>\n</g>\n<g clip-path=\"url(#clip3200)\">\n<text style=\"fill:#000000; fill-opacity:1; font-family:Arial,Helvetica Neue,Helvetica,sans-serif; font-size:48px; text-anchor:start;\" transform=\"rotate(0, 800.25, 1500.63)\" x=\"800.25\" y=\"1500.63\">1×10</text>\n</g>\n<g clip-path=\"url(#clip3200)\">\n<text style=\"fill:#000000; fill-opacity:1; font-family:Arial,Helvetica Neue,Helvetica,sans-serif; font-size:38px; text-anchor:start;\" transform=\"rotate(0, 908.647, 1473.22)\" x=\"908.647\" y=\"1473.22\">5</text>\n</g>\n<g clip-path=\"url(#clip3200)\">\n<text style=\"fill:#000000; fill-opacity:1; font-family:Arial,Helvetica Neue,Helvetica,sans-serif; font-size:48px; text-anchor:start;\" transform=\"rotate(0, 1302.38, 1500.63)\" x=\"1302.38\" y=\"1500.63\">2×10</text>\n</g>\n<g clip-path=\"url(#clip3200)\">\n<text style=\"fill:#000000; fill-opacity:1; font-family:Arial,Helvetica Neue,Helvetica,sans-serif; font-size:38px; text-anchor:start;\" transform=\"rotate(0, 1410.78, 1473.22)\" x=\"1410.78\" y=\"1473.22\">5</text>\n</g>\n<g clip-path=\"url(#clip3200)\">\n<text style=\"fill:#000000; fill-opacity:1; font-family:Arial,Helvetica Neue,Helvetica,sans-serif; font-size:48px; text-anchor:start;\" transform=\"rotate(0, 1804.52, 1500.63)\" x=\"1804.52\" y=\"1500.63\">3×10</text>\n</g>\n<g clip-path=\"url(#clip3200)\">\n<text style=\"fill:#000000; fill-opacity:1; font-family:Arial,Helvetica Neue,Helvetica,sans-serif; font-size:38px; text-anchor:start;\" transform=\"rotate(0, 1912.91, 1473.22)\" x=\"1912.91\" y=\"1473.22\">5</text>\n</g>\n<g clip-path=\"url(#clip3200)\">\n<text style=\"fill:#000000; fill-opacity:1; font-family:Arial,Helvetica Neue,Helvetica,sans-serif; font-size:48px; text-anchor:end;\" transform=\"rotate(0, 339.188, 1443.12)\" x=\"339.188\" y=\"1443.12\">0</text>\n</g>\n<g clip-path=\"url(#clip3200)\">\n<text style=\"fill:#000000; fill-opacity:1; font-family:Arial,Helvetica Neue,Helvetica,sans-serif; font-size:48px; text-anchor:start;\" transform=\"rotate(0, 168.903, 1118.09)\" x=\"168.903\" y=\"1118.09\">5.0×10</text>\n</g>\n<g clip-path=\"url(#clip3200)\">\n<text style=\"fill:#000000; fill-opacity:1; font-family:Arial,Helvetica Neue,Helvetica,sans-serif; font-size:38px; text-anchor:start;\" transform=\"rotate(0, 317.443, 1090.68)\" x=\"317.443\" y=\"1090.68\">4</text>\n</g>\n<g clip-path=\"url(#clip3200)\">\n<text style=\"fill:#000000; fill-opacity:1; font-family:Arial,Helvetica Neue,Helvetica,sans-serif; font-size:48px; text-anchor:start;\" transform=\"rotate(0, 168.903, 786.829)\" x=\"168.903\" y=\"786.829\">1.0×10</text>\n</g>\n<g clip-path=\"url(#clip3200)\">\n<text style=\"fill:#000000; fill-opacity:1; font-family:Arial,Helvetica Neue,Helvetica,sans-serif; font-size:38px; text-anchor:start;\" transform=\"rotate(0, 317.443, 759.418)\" x=\"317.443\" y=\"759.418\">5</text>\n</g>\n<g clip-path=\"url(#clip3200)\">\n<text style=\"fill:#000000; fill-opacity:1; font-family:Arial,Helvetica Neue,Helvetica,sans-serif; font-size:48px; text-anchor:start;\" transform=\"rotate(0, 168.903, 455.57)\" x=\"168.903\" y=\"455.57\">1.5×10</text>\n</g>\n<g clip-path=\"url(#clip3200)\">\n<text style=\"fill:#000000; fill-opacity:1; font-family:Arial,Helvetica Neue,Helvetica,sans-serif; font-size:38px; text-anchor:start;\" transform=\"rotate(0, 317.443, 428.159)\" x=\"317.443\" y=\"428.159\">5</text>\n</g>\n<g clip-path=\"url(#clip3200)\">\n<text style=\"fill:#000000; fill-opacity:1; font-family:Arial,Helvetica Neue,Helvetica,sans-serif; font-size:48px; text-anchor:start;\" transform=\"rotate(0, 168.903, 124.311)\" x=\"168.903\" y=\"124.311\">2.0×10</text>\n</g>\n<g clip-path=\"url(#clip3200)\">\n<text style=\"fill:#000000; fill-opacity:1; font-family:Arial,Helvetica Neue,Helvetica,sans-serif; font-size:38px; text-anchor:start;\" transform=\"rotate(0, 317.443, 96.9006)\" x=\"317.443\" y=\"96.9006\">5</text>\n</g>\n<g clip-path=\"url(#clip3200)\">\n<text style=\"fill:#000000; fill-opacity:1; font-family:Arial,Helvetica Neue,Helvetica,sans-serif; font-size:66px; text-anchor:middle;\" transform=\"rotate(0, 1357.97, 1559.48)\" x=\"1357.97\" y=\"1559.48\">total cases</text>\n</g>\n<g clip-path=\"url(#clip3200)\">\n<text style=\"fill:#000000; fill-opacity:1; font-family:Arial,Helvetica Neue,Helvetica,sans-serif; font-size:66px; text-anchor:middle;\" transform=\"rotate(-90, 89.2861, 736.431)\" x=\"89.2861\" y=\"736.431\">new cases</text>\n</g>\n<polyline clip-path=\"url(#clip3202)\" style=\"stroke:#009af9; stroke-width:4; stroke-opacity:1; fill:none\" points=\"\n  363.193,1425.62 363.193,1425.62 363.198,1425.61 363.213,1425.59 363.223,1425.59 \n  \n  \"/>\n<polyline clip-path=\"url(#clip3202)\" style=\"stroke:#e26f46; stroke-width:4; stroke-opacity:1; fill:none\" points=\"\n  365.939,1425.62 366.416,1424.99 367.807,1423.15 370.248,1419.93 373.607,1415.5 377.634,1410.19 390.85,1392.75 393.752,1388.92 404.066,1375.94 412.407,1366.77 \n  \n  \"/>\n<polyline clip-path=\"url(#clip3202)\" style=\"stroke:#3da44d; stroke-width:4; stroke-opacity:1; fill:none\" points=\"\n  363.198,1425.62 363.198,1425.62 363.208,1425.61 363.223,1425.59 363.243,1425.56 363.263,1425.53 \n  \n  \"/>\n<polyline clip-path=\"url(#clip3202)\" style=\"stroke:#c271d2; stroke-width:4; stroke-opacity:1; fill:none\" points=\"\n  363.193,1425.62 363.193,1425.62 363.198,1425.61 363.203,1425.61 363.208,1425.6 363.243,1425.56 \n  \n  \"/>\n<polyline clip-path=\"url(#clip3202)\" style=\"stroke:#ac8d18; stroke-width:4; stroke-opacity:1; fill:none\" points=\"\n  363.188,1425.62 363.188,1425.62 363.198,1425.61 \n  \n  \"/>\n<polyline clip-path=\"url(#clip3202)\" style=\"stroke:#00a9ad; stroke-width:4; stroke-opacity:1; fill:none\" points=\"\n  363.188,1425.62 363.188,1425.62 363.198,1425.61 363.203,1425.6 363.208,1425.59 363.213,1425.59 363.213,1425.6 \n  \n  \"/>\n<polyline clip-path=\"url(#clip3202)\" style=\"stroke:#ed5d92; stroke-width:4; stroke-opacity:1; fill:none\" points=\"\n  363.188,1425.62 363.188,1425.62 363.193,1425.61 363.208,1425.59 363.213,1425.59 \n  \n  \"/>\n<path clip-path=\"url(#clip3200)\" d=\"\nM1698.33 614.604 L2280.76 614.604 L2280.76 130.764 L1698.33 130.764  Z\n  \" fill=\"#ffffff\" fill-rule=\"evenodd\" fill-opacity=\"1\"/>\n<polyline clip-path=\"url(#clip3200)\" style=\"stroke:#000000; stroke-width:4; stroke-opacity:1; fill:none\" points=\"\n  1698.33,614.604 2280.76,614.604 2280.76,130.764 1698.33,130.764 1698.33,614.604 \n  \"/>\n<polyline clip-path=\"url(#clip3200)\" style=\"stroke:#009af9; stroke-width:4; stroke-opacity:1; fill:none\" points=\"\n  1722.33,191.244 1866.33,191.244 \n  \"/>\n<g clip-path=\"url(#clip3200)\">\n<text style=\"fill:#000000; fill-opacity:1; font-family:Arial,Helvetica Neue,Helvetica,sans-serif; font-size:48px; text-anchor:start;\" transform=\"rotate(0, 1890.33, 208.744)\" x=\"1890.33\" y=\"208.744\">US</text>\n</g>\n<polyline clip-path=\"url(#clip3200)\" style=\"stroke:#e26f46; stroke-width:4; stroke-opacity:1; fill:none\" points=\"\n  1722.33,251.724 1866.33,251.724 \n  \"/>\n<g clip-path=\"url(#clip3200)\">\n<text style=\"fill:#000000; fill-opacity:1; font-family:Arial,Helvetica Neue,Helvetica,sans-serif; font-size:48px; text-anchor:start;\" transform=\"rotate(0, 1890.33, 269.224)\" x=\"1890.33\" y=\"269.224\">China</text>\n</g>\n<polyline clip-path=\"url(#clip3200)\" style=\"stroke:#3da44d; stroke-width:4; stroke-opacity:1; fill:none\" points=\"\n  1722.33,312.204 1866.33,312.204 \n  \"/>\n<g clip-path=\"url(#clip3200)\">\n<text style=\"fill:#000000; fill-opacity:1; font-family:Arial,Helvetica Neue,Helvetica,sans-serif; font-size:48px; text-anchor:start;\" transform=\"rotate(0, 1890.33, 329.704)\" x=\"1890.33\" y=\"329.704\">Japan</text>\n</g>\n<polyline clip-path=\"url(#clip3200)\" style=\"stroke:#c271d2; stroke-width:4; stroke-opacity:1; fill:none\" points=\"\n  1722.33,372.684 1866.33,372.684 \n  \"/>\n<g clip-path=\"url(#clip3200)\">\n<text style=\"fill:#000000; fill-opacity:1; font-family:Arial,Helvetica Neue,Helvetica,sans-serif; font-size:48px; text-anchor:start;\" transform=\"rotate(0, 1890.33, 390.184)\" x=\"1890.33\" y=\"390.184\">Korea, South</text>\n</g>\n<polyline clip-path=\"url(#clip3200)\" style=\"stroke:#ac8d18; stroke-width:4; stroke-opacity:1; fill:none\" points=\"\n  1722.33,433.164 1866.33,433.164 \n  \"/>\n<g clip-path=\"url(#clip3200)\">\n<text style=\"fill:#000000; fill-opacity:1; font-family:Arial,Helvetica Neue,Helvetica,sans-serif; font-size:48px; text-anchor:start;\" transform=\"rotate(0, 1890.33, 450.664)\" x=\"1890.33\" y=\"450.664\">United Kingdom</text>\n</g>\n<polyline clip-path=\"url(#clip3200)\" style=\"stroke:#00a9ad; stroke-width:4; stroke-opacity:1; fill:none\" points=\"\n  1722.33,493.644 1866.33,493.644 \n  \"/>\n<g clip-path=\"url(#clip3200)\">\n<text style=\"fill:#000000; fill-opacity:1; font-family:Arial,Helvetica Neue,Helvetica,sans-serif; font-size:48px; text-anchor:start;\" transform=\"rotate(0, 1890.33, 511.144)\" x=\"1890.33\" y=\"511.144\">France</text>\n</g>\n<polyline clip-path=\"url(#clip3200)\" style=\"stroke:#ed5d92; stroke-width:4; stroke-opacity:1; fill:none\" points=\"\n  1722.33,554.124 1866.33,554.124 \n  \"/>\n<g clip-path=\"url(#clip3200)\">\n<text style=\"fill:#000000; fill-opacity:1; font-family:Arial,Helvetica Neue,Helvetica,sans-serif; font-size:48px; text-anchor:start;\" transform=\"rotate(0, 1890.33, 571.624)\" x=\"1890.33\" y=\"571.624\">Germany</text>\n</g>\n<g clip-path=\"url(#clip3200)\">\n<text style=\"fill:#000000; fill-opacity:1; font-family:Arial,Helvetica Neue,Helvetica,sans-serif; font-size:59px; text-anchor:middle;\" transform=\"rotate(0, 363.223, 1447.09)\" x=\"363.223\" y=\"1447.09\">US</text>\n</g>\n<g clip-path=\"url(#clip3200)\">\n<text style=\"fill:#000000; fill-opacity:1; font-family:Arial,Helvetica Neue,Helvetica,sans-serif; font-size:59px; text-anchor:middle;\" transform=\"rotate(0, 412.407, 1388.27)\" x=\"412.407\" y=\"1388.27\">China</text>\n</g>\n<g clip-path=\"url(#clip3200)\">\n<text style=\"fill:#000000; fill-opacity:1; font-family:Arial,Helvetica Neue,Helvetica,sans-serif; font-size:59px; text-anchor:middle;\" transform=\"rotate(0, 363.263, 1447.03)\" x=\"363.263\" y=\"1447.03\">Japan</text>\n</g>\n<g clip-path=\"url(#clip3200)\">\n<text style=\"fill:#000000; fill-opacity:1; font-family:Arial,Helvetica Neue,Helvetica,sans-serif; font-size:59px; text-anchor:middle;\" transform=\"rotate(0, 363.243, 1447.06)\" x=\"363.243\" y=\"1447.06\">Korea, South</text>\n</g>\n<g clip-path=\"url(#clip3200)\">\n<text style=\"fill:#000000; fill-opacity:1; font-family:Arial,Helvetica Neue,Helvetica,sans-serif; font-size:59px; text-anchor:middle;\" transform=\"rotate(0, 363.198, 1447.11)\" x=\"363.198\" y=\"1447.11\">United Kingdom</text>\n</g>\n<g clip-path=\"url(#clip3200)\">\n<text style=\"fill:#000000; fill-opacity:1; font-family:Arial,Helvetica Neue,Helvetica,sans-serif; font-size:59px; text-anchor:middle;\" transform=\"rotate(0, 363.213, 1447.1)\" x=\"363.213\" y=\"1447.1\">France</text>\n</g>\n<g clip-path=\"url(#clip3200)\">\n<text style=\"fill:#000000; fill-opacity:1; font-family:Arial,Helvetica Neue,Helvetica,sans-serif; font-size:59px; text-anchor:middle;\" transform=\"rotate(0, 363.213, 1447.09)\" x=\"363.213\" y=\"1447.09\">Germany</text>\n</g>\n</svg>\n"
               },
               "type": "node"
              }
             ],
             "instanceArgs": {
              "namespace": "html",
              "tag": "div"
             },
             "nodeType": "DOM",
             "props": {
              "className": "interact-flex-row interact-widget"
             },
             "type": "node"
            }
           }
          },
          "systemjs_options": null
         },
         "nodeType": "Scope",
         "props": {},
         "type": "node"
        }
       ],
       "instanceArgs": {
        "namespace": "html",
        "tag": "div"
       },
       "nodeType": "DOM",
       "props": {},
       "type": "node"
      },
      "text/html": [
       "<div\n",
       "    class=\"webio-mountpoint\"\n",
       "    data-webio-mountpoint=\"4242706493664234856\"\n",
       ">\n",
       "    <script>\n",
       "    if (window.require && require.defined && require.defined(\"nbextensions/webio-jupyter-notebook\")) {\n",
       "        console.log(\"Jupyter WebIO extension detected, not mounting.\");\n",
       "    } else if (window.WebIO) {\n",
       "        WebIO.mount(\n",
       "            document.querySelector('[data-webio-mountpoint=\"4242706493664234856\"]'),\n",
       "            {\"props\":{},\"nodeType\":\"DOM\",\"type\":\"node\",\"instanceArgs\":{\"namespace\":\"html\",\"tag\":\"div\"},\"children\":[{\"props\":{\"className\":\"field interact-widget\"},\"nodeType\":\"DOM\",\"type\":\"node\",\"instanceArgs\":{\"namespace\":\"html\",\"tag\":\"div\"},\"children\":[{\"props\":{},\"nodeType\":\"Scope\",\"type\":\"node\",\"instanceArgs\":{\"imports\":{\"data\":[{\"name\":\"knockout\",\"type\":\"js\",\"url\":\"\\/assetserver\\/b860f94f78688b22eb297ac9422dedbc58e4c416-knockout.js\"},{\"name\":\"knockout_punches\",\"type\":\"js\",\"url\":\"\\/assetserver\\/7c440f6e0da891d885878e4bba0e1c045af333ce-knockout_punches.js\"},{\"name\":null,\"type\":\"js\",\"url\":\"\\/assetserver\\/ed10687e5e203c9dcc58c6e408c30c32c58d27c2-all.js\"},{\"name\":null,\"type\":\"css\",\"url\":\"\\/assetserver\\/a1ce04ad54e406ba65800a3d8a6d360fc2cb04a4-style.css\"},{\"name\":null,\"type\":\"css\",\"url\":\"\\/assetserver\\/594cfc32cf120a5994a85b4fb8deff54fc8fbe7b-bulma_confined.min.css\"}],\"type\":\"async_block\"},\"id\":\"18092609680841873911\",\"handlers\":{\"changes\":[\"(function (val){return (val!=this.model[\\\"changes\\\"]()) ? (this.valueFromJulia[\\\"changes\\\"]=true, this.model[\\\"changes\\\"](val)) : undefined})\"],\"index\":[\"(function (val){return (val!=this.model[\\\"index\\\"]()) ? (this.valueFromJulia[\\\"index\\\"]=true, this.model[\\\"index\\\"](val)) : undefined})\"]},\"systemjs_options\":null,\"mount_callbacks\":[\"function () {\\n    var handler = (function (ko, koPunches) {\\n    ko.punches.enableAll();\\n    ko.bindingHandlers.numericValue = {\\n        init: function(element, valueAccessor, allBindings, data, context) {\\n            var stringified = ko.observable(ko.unwrap(valueAccessor()));\\n            stringified.subscribe(function(value) {\\n                var val = parseFloat(value);\\n                if (!isNaN(val)) {\\n                    valueAccessor()(val);\\n                }\\n            });\\n            valueAccessor().subscribe(function(value) {\\n                var str = JSON.stringify(value);\\n                if ((str == \\\"0\\\") && ([\\\"-0\\\", \\\"-0.\\\"].indexOf(stringified()) >= 0))\\n                     return;\\n                 if ([\\\"null\\\", \\\"\\\"].indexOf(str) >= 0)\\n                     return;\\n                stringified(str);\\n            });\\n            ko.applyBindingsToNode(\\n                element,\\n                {\\n                    value: stringified,\\n                    valueUpdate: allBindings.get('valueUpdate'),\\n                },\\n                context,\\n            );\\n        }\\n    };\\n    var json_data = {\\\"formatted_vals\\\":[\\\"1\\\",\\\"2\\\",\\\"3\\\",\\\"4\\\",\\\"5\\\",\\\"6\\\",\\\"7\\\",\\\"8\\\",\\\"9\\\",\\\"10\\\",\\\"11\\\",\\\"12\\\",\\\"13\\\",\\\"14\\\",\\\"15\\\",\\\"16\\\",\\\"17\\\",\\\"18\\\",\\\"19\\\",\\\"20\\\",\\\"21\\\",\\\"22\\\",\\\"23\\\",\\\"24\\\",\\\"25\\\",\\\"26\\\",\\\"27\\\",\\\"28\\\",\\\"29\\\",\\\"30\\\",\\\"31\\\",\\\"32\\\",\\\"33\\\",\\\"34\\\",\\\"35\\\",\\\"36\\\",\\\"37\\\",\\\"38\\\",\\\"39\\\",\\\"40\\\",\\\"41\\\",\\\"42\\\",\\\"43\\\",\\\"44\\\",\\\"45\\\",\\\"46\\\",\\\"47\\\",\\\"48\\\",\\\"49\\\",\\\"50\\\",\\\"51\\\",\\\"52\\\",\\\"53\\\",\\\"54\\\",\\\"55\\\",\\\"56\\\",\\\"57\\\",\\\"58\\\",\\\"59\\\",\\\"60\\\",\\\"61\\\",\\\"62\\\",\\\"63\\\",\\\"64\\\",\\\"65\\\",\\\"66\\\",\\\"67\\\",\\\"68\\\",\\\"69\\\",\\\"70\\\",\\\"71\\\",\\\"72\\\",\\\"73\\\",\\\"74\\\",\\\"75\\\",\\\"76\\\",\\\"77\\\"],\\\"changes\\\":WebIO.getval({\\\"name\\\":\\\"changes\\\",\\\"scope\\\":\\\"18092609680841873911\\\",\\\"id\\\":\\\"ob_18\\\",\\\"type\\\":\\\"observable\\\"}),\\\"index\\\":WebIO.getval({\\\"name\\\":\\\"index\\\",\\\"scope\\\":\\\"18092609680841873911\\\",\\\"id\\\":\\\"ob_17\\\",\\\"type\\\":\\\"observable\\\"})};\\n    var self = this;\\n    function AppViewModel() {\\n        for (var key in json_data) {\\n            var el = json_data[key];\\n            this[key] = Array.isArray(el) ? ko.observableArray(el) : ko.observable(el);\\n        }\\n        \\n        [this[\\\"formatted_val\\\"]=ko.computed(    function(){\\n        return this.formatted_vals()[parseInt(this.index())-(1)];\\n    }\\n,this)]\\n        [this[\\\"changes\\\"].subscribe((function (val){!(this.valueFromJulia[\\\"changes\\\"]) ? (WebIO.setval({\\\"name\\\":\\\"changes\\\",\\\"scope\\\":\\\"18092609680841873911\\\",\\\"id\\\":\\\"ob_18\\\",\\\"type\\\":\\\"observable\\\"},val)) : undefined; return this.valueFromJulia[\\\"changes\\\"]=false}),self),this[\\\"index\\\"].subscribe((function (val){!(this.valueFromJulia[\\\"index\\\"]) ? (WebIO.setval({\\\"name\\\":\\\"index\\\",\\\"scope\\\":\\\"18092609680841873911\\\",\\\"id\\\":\\\"ob_17\\\",\\\"type\\\":\\\"observable\\\"},val)) : undefined; return this.valueFromJulia[\\\"index\\\"]=false}),self)]\\n        \\n    }\\n    self.model = new AppViewModel();\\n    self.valueFromJulia = {};\\n    for (var key in json_data) {\\n        self.valueFromJulia[key] = false;\\n    }\\n    ko.applyBindings(self.model, self.dom);\\n}\\n);\\n    (WebIO.importBlock({\\\"data\\\":[{\\\"name\\\":\\\"knockout\\\",\\\"type\\\":\\\"js\\\",\\\"url\\\":\\\"\\/assetserver\\/b860f94f78688b22eb297ac9422dedbc58e4c416-knockout.js\\\"},{\\\"name\\\":\\\"knockout_punches\\\",\\\"type\\\":\\\"js\\\",\\\"url\\\":\\\"\\/assetserver\\/7c440f6e0da891d885878e4bba0e1c045af333ce-knockout_punches.js\\\"}],\\\"type\\\":\\\"async_block\\\"})).then((imports) => handler.apply(this, imports));\\n}\\n\"],\"observables\":{\"changes\":{\"sync\":false,\"id\":\"ob_18\",\"value\":0},\"index\":{\"sync\":true,\"id\":\"ob_17\",\"value\":10}}},\"children\":[{\"props\":{\"className\":\"interact-flex-row interact-widget\"},\"nodeType\":\"DOM\",\"type\":\"node\",\"instanceArgs\":{\"namespace\":\"html\",\"tag\":\"div\"},\"children\":[{\"props\":{\"className\":\"interact-flex-row-left\"},\"nodeType\":\"DOM\",\"type\":\"node\",\"instanceArgs\":{\"namespace\":\"html\",\"tag\":\"div\"},\"children\":[{\"props\":{\"className\":\"interact \",\"style\":{\"padding\":\"5px 10px 0px 10px\"}},\"nodeType\":\"DOM\",\"type\":\"node\",\"instanceArgs\":{\"namespace\":\"html\",\"tag\":\"label\"},\"children\":[\"\"]}]},{\"props\":{\"className\":\"interact-flex-row-center\"},\"nodeType\":\"DOM\",\"type\":\"node\",\"instanceArgs\":{\"namespace\":\"html\",\"tag\":\"div\"},\"children\":[{\"props\":{\"max\":77,\"min\":1,\"attributes\":{\"type\":\"range\",\"data-bind\":\"numericValue: index, valueUpdate: 'input', event: {change: function (){this.changes(this.changes()+1)}}\",\"orient\":\"horizontal\"},\"step\":1,\"className\":\"slider slider is-fullwidth\",\"style\":{}},\"nodeType\":\"DOM\",\"type\":\"node\",\"instanceArgs\":{\"namespace\":\"html\",\"tag\":\"input\"},\"children\":[]}]},{\"props\":{\"className\":\"interact-flex-row-right\"},\"nodeType\":\"DOM\",\"type\":\"node\",\"instanceArgs\":{\"namespace\":\"html\",\"tag\":\"div\"},\"children\":[{\"props\":{\"attributes\":{\"data-bind\":\"text: formatted_val\"}},\"nodeType\":\"DOM\",\"type\":\"node\",\"instanceArgs\":{\"namespace\":\"html\",\"tag\":\"p\"},\"children\":[]}]}]}]}]},{\"props\":{},\"nodeType\":\"Scope\",\"type\":\"node\",\"instanceArgs\":{\"imports\":{\"data\":[],\"type\":\"async_block\"},\"id\":\"3931949127984598840\",\"handlers\":{},\"systemjs_options\":null,\"mount_callbacks\":[],\"observables\":{\"obs-node\":{\"sync\":false,\"id\":\"ob_22\",\"value\":{\"props\":{\"className\":\"interact-flex-row interact-widget\"},\"nodeType\":\"DOM\",\"type\":\"node\",\"instanceArgs\":{\"namespace\":\"html\",\"tag\":\"div\"},\"children\":[{\"props\":{\"setInnerHtml\":\"<?xml version=\\\"1.0\\\" encoding=\\\"utf-8\\\"?>\\n<svg xmlns=\\\"http:\\/\\/www.w3.org\\/2000\\/svg\\\" xmlns:xlink=\\\"http:\\/\\/www.w3.org\\/1999\\/xlink\\\" width=\\\"600\\\" height=\\\"400\\\" viewBox=\\\"0 0 2400 1600\\\">\\n<defs>\\n  <clipPath id=\\\"clip2800\\\">\\n    <rect x=\\\"0\\\" y=\\\"0\\\" width=\\\"2400\\\" height=\\\"1600\\\"\\/>\\n  <\\/clipPath>\\n<\\/defs>\\n<path clip-path=\\\"url(#clip2800)\\\" d=\\\"\\nM0 1600 L2400 1600 L2400 0 L0 0  Z\\n  \\\" fill=\\\"#ffffff\\\" fill-rule=\\\"evenodd\\\" fill-opacity=\\\"1\\\"\\/>\\n<defs>\\n  <clipPath id=\\\"clip2801\\\">\\n    <rect x=\\\"480\\\" y=\\\"0\\\" width=\\\"1681\\\" height=\\\"1600\\\"\\/>\\n  <\\/clipPath>\\n<\\/defs>\\n<path clip-path=\\\"url(#clip2800)\\\" d=\\\"\\nM363.188 1425.62 L2352.76 1425.62 L2352.76 47.2441 L363.188 47.2441  Z\\n  \\\" fill=\\\"#ffffff\\\" fill-rule=\\\"evenodd\\\" fill-opacity=\\\"1\\\"\\/>\\n<defs>\\n  <clipPath id=\\\"clip2802\\\">\\n    <rect x=\\\"363\\\" y=\\\"47\\\" width=\\\"1991\\\" height=\\\"1379\\\"\\/>\\n  <\\/clipPath>\\n<\\/defs>\\n<polyline clip-path=\\\"url(#clip2802)\\\" style=\\\"stroke:#000000; stroke-width:2; stroke-opacity:0.1; fill:none\\\" points=\\\"\\n  363.188,1425.62 363.188,47.2441 \\n  \\\"\\/>\\n<polyline clip-path=\\\"url(#clip2802)\\\" style=\\\"stroke:#000000; stroke-width:2; stroke-opacity:0.1; fill:none\\\" points=\\\"\\n  865.321,1425.62 865.321,47.2441 \\n  \\\"\\/>\\n<polyline clip-path=\\\"url(#clip2802)\\\" style=\\\"stroke:#000000; stroke-width:2; stroke-opacity:0.1; fill:none\\\" points=\\\"\\n  1367.45,1425.62 1367.45,47.2441 \\n  \\\"\\/>\\n<polyline clip-path=\\\"url(#clip2802)\\\" style=\\\"stroke:#000000; stroke-width:2; stroke-opacity:0.1; fill:none\\\" points=\\\"\\n  1869.59,1425.62 1869.59,47.2441 \\n  \\\"\\/>\\n<polyline clip-path=\\\"url(#clip2802)\\\" style=\\\"stroke:#000000; stroke-width:2; stroke-opacity:0.1; fill:none\\\" points=\\\"\\n  363.188,1425.62 2352.76,1425.62 \\n  \\\"\\/>\\n<polyline clip-path=\\\"url(#clip2802)\\\" style=\\\"stroke:#000000; stroke-width:2; stroke-opacity:0.1; fill:none\\\" points=\\\"\\n  363.188,1094.36 2352.76,1094.36 \\n  \\\"\\/>\\n<polyline clip-path=\\\"url(#clip2802)\\\" style=\\\"stroke:#000000; stroke-width:2; stroke-opacity:0.1; fill:none\\\" points=\\\"\\n  363.188,763.101 2352.76,763.101 \\n  \\\"\\/>\\n<polyline clip-path=\\\"url(#clip2802)\\\" style=\\\"stroke:#000000; stroke-width:2; stroke-opacity:0.1; fill:none\\\" points=\\\"\\n  363.188,431.842 2352.76,431.842 \\n  \\\"\\/>\\n<polyline clip-path=\\\"url(#clip2802)\\\" style=\\\"stroke:#000000; stroke-width:2; stroke-opacity:0.1; fill:none\\\" points=\\\"\\n  363.188,100.583 2352.76,100.583 \\n  \\\"\\/>\\n<polyline clip-path=\\\"url(#clip2800)\\\" style=\\\"stroke:#000000; stroke-width:4; stroke-opacity:1; fill:none\\\" points=\\\"\\n  363.188,1425.62 2352.76,1425.62 \\n  \\\"\\/>\\n<polyline clip-path=\\\"url(#clip2800)\\\" style=\\\"stroke:#000000; stroke-width:4; stroke-opacity:1; fill:none\\\" points=\\\"\\n  363.188,1425.62 363.188,47.2441 \\n  \\\"\\/>\\n<polyline clip-path=\\\"url(#clip2800)\\\" style=\\\"stroke:#000000; stroke-width:4; stroke-opacity:1; fill:none\\\" points=\\\"\\n  363.188,1425.62 363.188,1409.08 \\n  \\\"\\/>\\n<polyline clip-path=\\\"url(#clip2800)\\\" style=\\\"stroke:#000000; stroke-width:4; stroke-opacity:1; fill:none\\\" points=\\\"\\n  865.321,1425.62 865.321,1409.08 \\n  \\\"\\/>\\n<polyline clip-path=\\\"url(#clip2800)\\\" style=\\\"stroke:#000000; stroke-width:4; stroke-opacity:1; fill:none\\\" points=\\\"\\n  1367.45,1425.62 1367.45,1409.08 \\n  \\\"\\/>\\n<polyline clip-path=\\\"url(#clip2800)\\\" style=\\\"stroke:#000000; stroke-width:4; stroke-opacity:1; fill:none\\\" points=\\\"\\n  1869.59,1425.62 1869.59,1409.08 \\n  \\\"\\/>\\n<polyline clip-path=\\\"url(#clip2800)\\\" style=\\\"stroke:#000000; stroke-width:4; stroke-opacity:1; fill:none\\\" points=\\\"\\n  363.188,1425.62 387.062,1425.62 \\n  \\\"\\/>\\n<polyline clip-path=\\\"url(#clip2800)\\\" style=\\\"stroke:#000000; stroke-width:4; stroke-opacity:1; fill:none\\\" points=\\\"\\n  363.188,1094.36 387.062,1094.36 \\n  \\\"\\/>\\n<polyline clip-path=\\\"url(#clip2800)\\\" style=\\\"stroke:#000000; stroke-width:4; stroke-opacity:1; fill:none\\\" points=\\\"\\n  363.188,763.101 387.062,763.101 \\n  \\\"\\/>\\n<polyline clip-path=\\\"url(#clip2800)\\\" style=\\\"stroke:#000000; stroke-width:4; stroke-opacity:1; fill:none\\\" points=\\\"\\n  363.188,431.842 387.062,431.842 \\n  \\\"\\/>\\n<polyline clip-path=\\\"url(#clip2800)\\\" style=\\\"stroke:#000000; stroke-width:4; stroke-opacity:1; fill:none\\\" points=\\\"\\n  363.188,100.583 387.062,100.583 \\n  \\\"\\/>\\n<g clip-path=\\\"url(#clip2800)\\\">\\n<text style=\\\"fill:#000000; fill-opacity:1; font-family:Arial,Helvetica Neue,Helvetica,sans-serif; font-size:48px; text-anchor:middle;\\\" transform=\\\"rotate(0, 363.188, 1479.62)\\\" x=\\\"363.188\\\" y=\\\"1479.62\\\">0<\\/text>\\n<\\/g>\\n<g clip-path=\\\"url(#clip2800)\\\">\\n<text style=\\\"fill:#000000; fill-opacity:1; font-family:Arial,Helvetica Neue,Helvetica,sans-serif; font-size:48px; text-anchor:start;\\\" transform=\\\"rotate(0, 800.25, 1500.63)\\\" x=\\\"800.25\\\" y=\\\"1500.63\\\">1×10<\\/text>\\n<\\/g>\\n<g clip-path=\\\"url(#clip2800)\\\">\\n<text style=\\\"fill:#000000; fill-opacity:1; font-family:Arial,Helvetica Neue,Helvetica,sans-serif; font-size:38px; text-anchor:start;\\\" transform=\\\"rotate(0, 908.647, 1473.22)\\\" x=\\\"908.647\\\" y=\\\"1473.22\\\">5<\\/text>\\n<\\/g>\\n<g clip-path=\\\"url(#clip2800)\\\">\\n<text style=\\\"fill:#000000; fill-opacity:1; font-family:Arial,Helvetica Neue,Helvetica,sans-serif; font-size:48px; text-anchor:start;\\\" transform=\\\"rotate(0, 1302.38, 1500.63)\\\" x=\\\"1302.38\\\" y=\\\"1500.63\\\">2×10<\\/text>\\n<\\/g>\\n<g clip-path=\\\"url(#clip2800)\\\">\\n<text style=\\\"fill:#000000; fill-opacity:1; font-family:Arial,Helvetica Neue,Helvetica,sans-serif; font-size:38px; text-anchor:start;\\\" transform=\\\"rotate(0, 1410.78, 1473.22)\\\" x=\\\"1410.78\\\" y=\\\"1473.22\\\">5<\\/text>\\n<\\/g>\\n<g clip-path=\\\"url(#clip2800)\\\">\\n<text style=\\\"fill:#000000; fill-opacity:1; font-family:Arial,Helvetica Neue,Helvetica,sans-serif; font-size:48px; text-anchor:start;\\\" transform=\\\"rotate(0, 1804.52, 1500.63)\\\" x=\\\"1804.52\\\" y=\\\"1500.63\\\">3×10<\\/text>\\n<\\/g>\\n<g clip-path=\\\"url(#clip2800)\\\">\\n<text style=\\\"fill:#000000; fill-opacity:1; font-family:Arial,Helvetica Neue,Helvetica,sans-serif; font-size:38px; text-anchor:start;\\\" transform=\\\"rotate(0, 1912.91, 1473.22)\\\" x=\\\"1912.91\\\" y=\\\"1473.22\\\">5<\\/text>\\n<\\/g>\\n<g clip-path=\\\"url(#clip2800)\\\">\\n<text style=\\\"fill:#000000; fill-opacity:1; font-family:Arial,Helvetica Neue,Helvetica,sans-serif; font-size:48px; text-anchor:end;\\\" transform=\\\"rotate(0, 339.188, 1443.12)\\\" x=\\\"339.188\\\" y=\\\"1443.12\\\">0<\\/text>\\n<\\/g>\\n<g clip-path=\\\"url(#clip2800)\\\">\\n<text style=\\\"fill:#000000; fill-opacity:1; font-family:Arial,Helvetica Neue,Helvetica,sans-serif; font-size:48px; text-anchor:start;\\\" transform=\\\"rotate(0, 168.903, 1118.09)\\\" x=\\\"168.903\\\" y=\\\"1118.09\\\">5.0×10<\\/text>\\n<\\/g>\\n<g clip-path=\\\"url(#clip2800)\\\">\\n<text style=\\\"fill:#000000; fill-opacity:1; font-family:Arial,Helvetica Neue,Helvetica,sans-serif; font-size:38px; text-anchor:start;\\\" transform=\\\"rotate(0, 317.443, 1090.68)\\\" x=\\\"317.443\\\" y=\\\"1090.68\\\">4<\\/text>\\n<\\/g>\\n<g clip-path=\\\"url(#clip2800)\\\">\\n<text style=\\\"fill:#000000; fill-opacity:1; font-family:Arial,Helvetica Neue,Helvetica,sans-serif; font-size:48px; text-anchor:start;\\\" transform=\\\"rotate(0, 168.903, 786.829)\\\" x=\\\"168.903\\\" y=\\\"786.829\\\">1.0×10<\\/text>\\n<\\/g>\\n<g clip-path=\\\"url(#clip2800)\\\">\\n<text style=\\\"fill:#000000; fill-opacity:1; font-family:Arial,Helvetica Neue,Helvetica,sans-serif; font-size:38px; text-anchor:start;\\\" transform=\\\"rotate(0, 317.443, 759.418)\\\" x=\\\"317.443\\\" y=\\\"759.418\\\">5<\\/text>\\n<\\/g>\\n<g clip-path=\\\"url(#clip2800)\\\">\\n<text style=\\\"fill:#000000; fill-opacity:1; font-family:Arial,Helvetica Neue,Helvetica,sans-serif; font-size:48px; text-anchor:start;\\\" transform=\\\"rotate(0, 168.903, 455.57)\\\" x=\\\"168.903\\\" y=\\\"455.57\\\">1.5×10<\\/text>\\n<\\/g>\\n<g clip-path=\\\"url(#clip2800)\\\">\\n<text style=\\\"fill:#000000; fill-opacity:1; font-family:Arial,Helvetica Neue,Helvetica,sans-serif; font-size:38px; text-anchor:start;\\\" transform=\\\"rotate(0, 317.443, 428.159)\\\" x=\\\"317.443\\\" y=\\\"428.159\\\">5<\\/text>\\n<\\/g>\\n<g clip-path=\\\"url(#clip2800)\\\">\\n<text style=\\\"fill:#000000; fill-opacity:1; font-family:Arial,Helvetica Neue,Helvetica,sans-serif; font-size:48px; text-anchor:start;\\\" transform=\\\"rotate(0, 168.903, 124.311)\\\" x=\\\"168.903\\\" y=\\\"124.311\\\">2.0×10<\\/text>\\n<\\/g>\\n<g clip-path=\\\"url(#clip2800)\\\">\\n<text style=\\\"fill:#000000; fill-opacity:1; font-family:Arial,Helvetica Neue,Helvetica,sans-serif; font-size:38px; text-anchor:start;\\\" transform=\\\"rotate(0, 317.443, 96.9006)\\\" x=\\\"317.443\\\" y=\\\"96.9006\\\">5<\\/text>\\n<\\/g>\\n<g clip-path=\\\"url(#clip2800)\\\">\\n<text style=\\\"fill:#000000; fill-opacity:1; font-family:Arial,Helvetica Neue,Helvetica,sans-serif; font-size:66px; text-anchor:middle;\\\" transform=\\\"rotate(0, 1357.97, 1559.48)\\\" x=\\\"1357.97\\\" y=\\\"1559.48\\\">total cases<\\/text>\\n<\\/g>\\n<g clip-path=\\\"url(#clip2800)\\\">\\n<text style=\\\"fill:#000000; fill-opacity:1; font-family:Arial,Helvetica Neue,Helvetica,sans-serif; font-size:66px; text-anchor:middle;\\\" transform=\\\"rotate(-90, 89.2861, 736.431)\\\" x=\\\"89.2861\\\" y=\\\"736.431\\\">new cases<\\/text>\\n<\\/g>\\n<polyline clip-path=\\\"url(#clip2802)\\\" style=\\\"stroke:#009af9; stroke-width:4; stroke-opacity:1; fill:none\\\" points=\\\"\\n  363.193,1425.62 363.193,1425.62 363.198,1425.61 363.213,1425.59 363.223,1425.59 \\n  \\n  \\\"\\/>\\n<polyline clip-path=\\\"url(#clip2802)\\\" style=\\\"stroke:#e26f46; stroke-width:4; stroke-opacity:1; fill:none\\\" points=\\\"\\n  365.939,1425.62 366.416,1424.99 367.807,1423.15 370.248,1419.93 373.607,1415.5 377.634,1410.19 390.85,1392.75 393.752,1388.92 404.066,1375.94 412.407,1366.77 \\n  \\n  \\\"\\/>\\n<polyline clip-path=\\\"url(#clip2802)\\\" style=\\\"stroke:#3da44d; stroke-width:4; stroke-opacity:1; fill:none\\\" points=\\\"\\n  363.198,1425.62 363.198,1425.62 363.208,1425.61 363.223,1425.59 363.243,1425.56 363.263,1425.53 \\n  \\n  \\\"\\/>\\n<polyline clip-path=\\\"url(#clip2802)\\\" style=\\\"stroke:#c271d2; stroke-width:4; stroke-opacity:1; fill:none\\\" points=\\\"\\n  363.193,1425.62 363.193,1425.62 363.198,1425.61 363.203,1425.61 363.208,1425.6 363.243,1425.56 \\n  \\n  \\\"\\/>\\n<polyline clip-path=\\\"url(#clip2802)\\\" style=\\\"stroke:#ac8d18; stroke-width:4; stroke-opacity:1; fill:none\\\" points=\\\"\\n  363.188,1425.62 363.188,1425.62 363.198,1425.61 \\n  \\n  \\\"\\/>\\n<polyline clip-path=\\\"url(#clip2802)\\\" style=\\\"stroke:#00a9ad; stroke-width:4; stroke-opacity:1; fill:none\\\" points=\\\"\\n  363.188,1425.62 363.188,1425.62 363.198,1425.61 363.203,1425.6 363.208,1425.59 363.213,1425.59 363.213,1425.6 \\n  \\n  \\\"\\/>\\n<polyline clip-path=\\\"url(#clip2802)\\\" style=\\\"stroke:#ed5d92; stroke-width:4; stroke-opacity:1; fill:none\\\" points=\\\"\\n  363.188,1425.62 363.188,1425.62 363.193,1425.61 363.208,1425.59 363.213,1425.59 \\n  \\n  \\\"\\/>\\n<path clip-path=\\\"url(#clip2800)\\\" d=\\\"\\nM1698.33 614.604 L2280.76 614.604 L2280.76 130.764 L1698.33 130.764  Z\\n  \\\" fill=\\\"#ffffff\\\" fill-rule=\\\"evenodd\\\" fill-opacity=\\\"1\\\"\\/>\\n<polyline clip-path=\\\"url(#clip2800)\\\" style=\\\"stroke:#000000; stroke-width:4; stroke-opacity:1; fill:none\\\" points=\\\"\\n  1698.33,614.604 2280.76,614.604 2280.76,130.764 1698.33,130.764 1698.33,614.604 \\n  \\\"\\/>\\n<polyline clip-path=\\\"url(#clip2800)\\\" style=\\\"stroke:#009af9; stroke-width:4; stroke-opacity:1; fill:none\\\" points=\\\"\\n  1722.33,191.244 1866.33,191.244 \\n  \\\"\\/>\\n<g clip-path=\\\"url(#clip2800)\\\">\\n<text style=\\\"fill:#000000; fill-opacity:1; font-family:Arial,Helvetica Neue,Helvetica,sans-serif; font-size:48px; text-anchor:start;\\\" transform=\\\"rotate(0, 1890.33, 208.744)\\\" x=\\\"1890.33\\\" y=\\\"208.744\\\">US<\\/text>\\n<\\/g>\\n<polyline clip-path=\\\"url(#clip2800)\\\" style=\\\"stroke:#e26f46; stroke-width:4; stroke-opacity:1; fill:none\\\" points=\\\"\\n  1722.33,251.724 1866.33,251.724 \\n  \\\"\\/>\\n<g clip-path=\\\"url(#clip2800)\\\">\\n<text style=\\\"fill:#000000; fill-opacity:1; font-family:Arial,Helvetica Neue,Helvetica,sans-serif; font-size:48px; text-anchor:start;\\\" transform=\\\"rotate(0, 1890.33, 269.224)\\\" x=\\\"1890.33\\\" y=\\\"269.224\\\">China<\\/text>\\n<\\/g>\\n<polyline clip-path=\\\"url(#clip2800)\\\" style=\\\"stroke:#3da44d; stroke-width:4; stroke-opacity:1; fill:none\\\" points=\\\"\\n  1722.33,312.204 1866.33,312.204 \\n  \\\"\\/>\\n<g clip-path=\\\"url(#clip2800)\\\">\\n<text style=\\\"fill:#000000; fill-opacity:1; font-family:Arial,Helvetica Neue,Helvetica,sans-serif; font-size:48px; text-anchor:start;\\\" transform=\\\"rotate(0, 1890.33, 329.704)\\\" x=\\\"1890.33\\\" y=\\\"329.704\\\">Japan<\\/text>\\n<\\/g>\\n<polyline clip-path=\\\"url(#clip2800)\\\" style=\\\"stroke:#c271d2; stroke-width:4; stroke-opacity:1; fill:none\\\" points=\\\"\\n  1722.33,372.684 1866.33,372.684 \\n  \\\"\\/>\\n<g clip-path=\\\"url(#clip2800)\\\">\\n<text style=\\\"fill:#000000; fill-opacity:1; font-family:Arial,Helvetica Neue,Helvetica,sans-serif; font-size:48px; text-anchor:start;\\\" transform=\\\"rotate(0, 1890.33, 390.184)\\\" x=\\\"1890.33\\\" y=\\\"390.184\\\">Korea, South<\\/text>\\n<\\/g>\\n<polyline clip-path=\\\"url(#clip2800)\\\" style=\\\"stroke:#ac8d18; stroke-width:4; stroke-opacity:1; fill:none\\\" points=\\\"\\n  1722.33,433.164 1866.33,433.164 \\n  \\\"\\/>\\n<g clip-path=\\\"url(#clip2800)\\\">\\n<text style=\\\"fill:#000000; fill-opacity:1; font-family:Arial,Helvetica Neue,Helvetica,sans-serif; font-size:48px; text-anchor:start;\\\" transform=\\\"rotate(0, 1890.33, 450.664)\\\" x=\\\"1890.33\\\" y=\\\"450.664\\\">United Kingdom<\\/text>\\n<\\/g>\\n<polyline clip-path=\\\"url(#clip2800)\\\" style=\\\"stroke:#00a9ad; stroke-width:4; stroke-opacity:1; fill:none\\\" points=\\\"\\n  1722.33,493.644 1866.33,493.644 \\n  \\\"\\/>\\n<g clip-path=\\\"url(#clip2800)\\\">\\n<text style=\\\"fill:#000000; fill-opacity:1; font-family:Arial,Helvetica Neue,Helvetica,sans-serif; font-size:48px; text-anchor:start;\\\" transform=\\\"rotate(0, 1890.33, 511.144)\\\" x=\\\"1890.33\\\" y=\\\"511.144\\\">France<\\/text>\\n<\\/g>\\n<polyline clip-path=\\\"url(#clip2800)\\\" style=\\\"stroke:#ed5d92; stroke-width:4; stroke-opacity:1; fill:none\\\" points=\\\"\\n  1722.33,554.124 1866.33,554.124 \\n  \\\"\\/>\\n<g clip-path=\\\"url(#clip2800)\\\">\\n<text style=\\\"fill:#000000; fill-opacity:1; font-family:Arial,Helvetica Neue,Helvetica,sans-serif; font-size:48px; text-anchor:start;\\\" transform=\\\"rotate(0, 1890.33, 571.624)\\\" x=\\\"1890.33\\\" y=\\\"571.624\\\">Germany<\\/text>\\n<\\/g>\\n<g clip-path=\\\"url(#clip2800)\\\">\\n<text style=\\\"fill:#000000; fill-opacity:1; font-family:Arial,Helvetica Neue,Helvetica,sans-serif; font-size:59px; text-anchor:middle;\\\" transform=\\\"rotate(0, 363.223, 1447.09)\\\" x=\\\"363.223\\\" y=\\\"1447.09\\\">US<\\/text>\\n<\\/g>\\n<g clip-path=\\\"url(#clip2800)\\\">\\n<text style=\\\"fill:#000000; fill-opacity:1; font-family:Arial,Helvetica Neue,Helvetica,sans-serif; font-size:59px; text-anchor:middle;\\\" transform=\\\"rotate(0, 412.407, 1388.27)\\\" x=\\\"412.407\\\" y=\\\"1388.27\\\">China<\\/text>\\n<\\/g>\\n<g clip-path=\\\"url(#clip2800)\\\">\\n<text style=\\\"fill:#000000; fill-opacity:1; font-family:Arial,Helvetica Neue,Helvetica,sans-serif; font-size:59px; text-anchor:middle;\\\" transform=\\\"rotate(0, 363.263, 1447.03)\\\" x=\\\"363.263\\\" y=\\\"1447.03\\\">Japan<\\/text>\\n<\\/g>\\n<g clip-path=\\\"url(#clip2800)\\\">\\n<text style=\\\"fill:#000000; fill-opacity:1; font-family:Arial,Helvetica Neue,Helvetica,sans-serif; font-size:59px; text-anchor:middle;\\\" transform=\\\"rotate(0, 363.243, 1447.06)\\\" x=\\\"363.243\\\" y=\\\"1447.06\\\">Korea, South<\\/text>\\n<\\/g>\\n<g clip-path=\\\"url(#clip2800)\\\">\\n<text style=\\\"fill:#000000; fill-opacity:1; font-family:Arial,Helvetica Neue,Helvetica,sans-serif; font-size:59px; text-anchor:middle;\\\" transform=\\\"rotate(0, 363.198, 1447.11)\\\" x=\\\"363.198\\\" y=\\\"1447.11\\\">United Kingdom<\\/text>\\n<\\/g>\\n<g clip-path=\\\"url(#clip2800)\\\">\\n<text style=\\\"fill:#000000; fill-opacity:1; font-family:Arial,Helvetica Neue,Helvetica,sans-serif; font-size:59px; text-anchor:middle;\\\" transform=\\\"rotate(0, 363.213, 1447.1)\\\" x=\\\"363.213\\\" y=\\\"1447.1\\\">France<\\/text>\\n<\\/g>\\n<g clip-path=\\\"url(#clip2800)\\\">\\n<text style=\\\"fill:#000000; fill-opacity:1; font-family:Arial,Helvetica Neue,Helvetica,sans-serif; font-size:59px; text-anchor:middle;\\\" transform=\\\"rotate(0, 363.213, 1447.09)\\\" x=\\\"363.213\\\" y=\\\"1447.09\\\">Germany<\\/text>\\n<\\/g>\\n<\\/svg>\\n\"},\"nodeType\":\"DOM\",\"type\":\"node\",\"instanceArgs\":{\"namespace\":\"html\",\"tag\":\"div\"},\"children\":[]}]}}}},\"children\":[{\"props\":{},\"nodeType\":\"ObservableNode\",\"type\":\"node\",\"instanceArgs\":{\"id\":\"ob_22\",\"name\":\"obs-node\"},\"children\":[]}]}]},\n",
       "            window,\n",
       "        );\n",
       "    } else {\n",
       "        document\n",
       "            .querySelector('[data-webio-mountpoint=\"4242706493664234856\"]')\n",
       "            .innerHTML = (\n",
       "                '<div style=\"padding: 1em; background-color: #f8d6da; border: 1px solid #f5c6cb\">' +\n",
       "                '<p><strong>WebIO not detected.</strong></p>' +\n",
       "                '<p>Please read ' +\n",
       "                '<a href=\"https://juliagizmos.github.io/WebIO.jl/latest/troubleshooting/not-detected/\" target=\"_blank\">the troubleshooting guide</a> ' +\n",
       "                'for more information on how to resolve this issue.</p>' +\n",
       "                '<p><a href=\"https://juliagizmos.github.io/WebIO.jl/latest/troubleshooting/not-detected/\" target=\"_blank\">https://juliagizmos.github.io/WebIO.jl/latest/troubleshooting/not-detected/</a></p>' +\n",
       "                '</div>'\n",
       "            );\n",
       "    }\n",
       "    </script>\n",
       "</div>\n"
      ],
      "text/plain": [
       "Node{WebIO.DOM}(WebIO.DOM(:html, :div), Any[Node{WebIO.DOM}(WebIO.DOM(:html, :div), Any[Scope(Node{WebIO.DOM}(WebIO.DOM(:html, :div), Any[Node{WebIO.DOM}(WebIO.DOM(:html, :div), Any[Node{WebIO.DOM}(WebIO.DOM(:html, :label), Any[nothing], Dict{Symbol,Any}(:className => \"interact \",:style => Dict{Any,Any}(:padding => \"5px 10px 0px 10px\")))], Dict{Symbol,Any}(:className => \"interact-flex-row-left\")), Node{WebIO.DOM}(WebIO.DOM(:html, :div), Any[Node{WebIO.DOM}(WebIO.DOM(:html, :input), Any[], Dict{Symbol,Any}(:max => 77,:min => 1,:attributes => Dict{Any,Any}(:type => \"range\",Symbol(\"data-bind\") => \"numericValue: index, valueUpdate: 'input', event: {change: function (){this.changes(this.changes()+1)}}\",\"orient\" => \"horizontal\"),:step => 1,:className => \"slider slider is-fullwidth\",:style => Dict{Any,Any}()))], Dict{Symbol,Any}(:className => \"interact-flex-row-center\")), Node{WebIO.DOM}(WebIO.DOM(:html, :div), Any[Node{WebIO.DOM}(WebIO.DOM(:html, :p), Any[], Dict{Symbol,Any}(:attributes => Dict(\"data-bind\" => \"text: formatted_val\")))], Dict{Symbol,Any}(:className => \"interact-flex-row-right\"))], Dict{Symbol,Any}(:className => \"interact-flex-row interact-widget\")), Dict{String,Tuple{Observables.AbstractObservable,Union{Nothing, Bool}}}(\"changes\" => (Observable{Int64} with 1 listeners. Value:\n",
       "0, nothing),\"index\" => (Observable{Int64} with 2 listeners. Value:\n",
       "10, nothing)), Set(String[]), nothing, Asset[Asset(\"js\", \"knockout\", \"/Users/moisestrejo/.julia/packages/Knockout/IP1uR/src/../assets/knockout.js\"), Asset(\"js\", \"knockout_punches\", \"/Users/moisestrejo/.julia/packages/Knockout/IP1uR/src/../assets/knockout_punches.js\"), Asset(\"js\", nothing, \"/Users/moisestrejo/.julia/packages/InteractBase/9mFwe/src/../assets/all.js\"), Asset(\"css\", nothing, \"/Users/moisestrejo/.julia/packages/InteractBase/9mFwe/src/../assets/style.css\"), Asset(\"css\", nothing, \"/Users/moisestrejo/.julia/packages/Interact/SbgIk/src/../assets/bulma_confined.min.css\")], Dict{Any,Any}(\"changes\" => Any[WebIO.JSString(\"(function (val){return (val!=this.model[\\\"changes\\\"]()) ? (this.valueFromJulia[\\\"changes\\\"]=true, this.model[\\\"changes\\\"](val)) : undefined})\")],\"index\" => Any[WebIO.JSString(\"(function (val){return (val!=this.model[\\\"index\\\"]()) ? (this.valueFromJulia[\\\"index\\\"]=true, this.model[\\\"index\\\"](val)) : undefined})\")]), WebIO.ConnectionPool(Channel{Any}(sz_max:32,sz_curr:0), Set(AbstractConnection[]), Base.GenericCondition{Base.AlwaysLockedST}(Base.InvasiveLinkedList{Task}(Task (runnable) @0x0000000121358250, Task (runnable) @0x0000000121358250), Base.AlwaysLockedST(1))), WebIO.JSString[WebIO.JSString(\"function () {\\n    var handler = (function (ko, koPunches) {\\n    ko.punches.enableAll();\\n    ko.bindingHandlers.numericValue = {\\n        init: function(element, valueAccessor, allBindings, data, context) {\\n            var stringified = ko.observable(ko.unwrap(valueAccessor()));\\n            stringified.subscribe(function(value) {\\n                var val = parseFloat(value);\\n                if (!isNaN(val)) {\\n                    valueAccessor()(val);\\n                }\\n            });\\n            valueAccessor().subscribe(function(value) {\\n                var str = JSON.stringify(value);\\n                if ((str == \\\"0\\\") && ([\\\"-0\\\", \\\"-0.\\\"].indexOf(stringified()) >= 0))\\n                     return;\\n                 if ([\\\"null\\\", \\\"\\\"].indexOf(str) >= 0)\\n                     return;\\n                stringified(str);\\n            });\\n            ko.applyBindingsToNode(\\n                element,\\n                {\\n                    value: stringified,\\n                    valueUpdate: allBindings.get('valueUpdate'),\\n                },\\n                context,\\n            );\\n        }\\n    };\\n    var json_data = {\\\"formatted_vals\\\":[\\\"1\\\",\\\"2\\\",\\\"3\\\",\\\"4\\\",\\\"5\\\",\\\"6\\\",\\\"7\\\",\\\"8\\\",\\\"9\\\",\\\"10\\\",\\\"11\\\",\\\"12\\\",\\\"13\\\",\\\"14\\\",\\\"15\\\",\\\"16\\\",\\\"17\\\",\\\"18\\\",\\\"19\\\",\\\"20\\\",\\\"21\\\",\\\"22\\\",\\\"23\\\",\\\"24\\\",\\\"25\\\",\\\"26\\\",\\\"27\\\",\\\"28\\\",\\\"29\\\",\\\"30\\\",\\\"31\\\",\\\"32\\\",\\\"33\\\",\\\"34\\\",\\\"35\\\",\\\"36\\\",\\\"37\\\",\\\"38\\\",\\\"39\\\",\\\"40\\\",\\\"41\\\",\\\"42\\\",\\\"43\\\",\\\"44\\\",\\\"45\\\",\\\"46\\\",\\\"47\\\",\\\"48\\\",\\\"49\\\",\\\"50\\\",\\\"51\\\",\\\"52\\\",\\\"53\\\",\\\"54\\\",\\\"55\\\",\\\"56\\\",\\\"57\\\",\\\"58\\\",\\\"59\\\",\\\"60\\\",\\\"61\\\",\\\"62\\\",\\\"63\\\",\\\"64\\\",\\\"65\\\",\\\"66\\\",\\\"67\\\",\\\"68\\\",\\\"69\\\",\\\"70\\\",\\\"71\\\",\\\"72\\\",\\\"73\\\",\\\"74\\\",\\\"75\\\",\\\"76\\\",\\\"77\\\"],\\\"changes\\\":WebIO.getval({\\\"name\\\":\\\"changes\\\",\\\"scope\\\":\\\"18092609680841873911\\\",\\\"id\\\":\\\"ob_18\\\",\\\"type\\\":\\\"observable\\\"}),\\\"index\\\":WebIO.getval({\\\"name\\\":\\\"index\\\",\\\"scope\\\":\\\"18092609680841873911\\\",\\\"id\\\":\\\"ob_17\\\",\\\"type\\\":\\\"observable\\\"})};\\n    var self = this;\\n    function AppViewModel() {\\n        for (var key in json_data) {\\n            var el = json_data[key];\\n            this[key] = Array.isArray(el) ? ko.observableArray(el) : ko.observable(el);\\n        }\\n        \\n        [this[\\\"formatted_val\\\"]=ko.computed(    function(){\\n        return this.formatted_vals()[parseInt(this.index())-(1)];\\n    }\\n,this)]\\n        [this[\\\"changes\\\"].subscribe((function (val){!(this.valueFromJulia[\\\"changes\\\"]) ? (WebIO.setval({\\\"name\\\":\\\"changes\\\",\\\"scope\\\":\\\"18092609680841873911\\\",\\\"id\\\":\\\"ob_18\\\",\\\"type\\\":\\\"observable\\\"},val)) : undefined; return this.valueFromJulia[\\\"changes\\\"]=false}),self),this[\\\"index\\\"].subscribe((function (val){!(this.valueFromJulia[\\\"index\\\"]) ? (WebIO.setval({\\\"name\\\":\\\"index\\\",\\\"scope\\\":\\\"18092609680841873911\\\",\\\"id\\\":\\\"ob_17\\\",\\\"type\\\":\\\"observable\\\"},val)) : undefined; return this.valueFromJulia[\\\"index\\\"]=false}),self)]\\n        \\n    }\\n    self.model = new AppViewModel();\\n    self.valueFromJulia = {};\\n    for (var key in json_data) {\\n        self.valueFromJulia[key] = false;\\n    }\\n    ko.applyBindings(self.model, self.dom);\\n}\\n);\\n    (WebIO.importBlock({\\\"data\\\":[{\\\"name\\\":\\\"knockout\\\",\\\"type\\\":\\\"js\\\",\\\"url\\\":\\\"/assetserver/b860f94f78688b22eb297ac9422dedbc58e4c416-knockout.js\\\"},{\\\"name\\\":\\\"knockout_punches\\\",\\\"type\\\":\\\"js\\\",\\\"url\\\":\\\"/assetserver/7c440f6e0da891d885878e4bba0e1c045af333ce-knockout_punches.js\\\"}],\\\"type\\\":\\\"async_block\\\"})).then((imports) => handler.apply(this, imports));\\n}\\n\")])], Dict{Symbol,Any}(:className => \"field interact-widget\")), Observable{Any} with 0 listeners. Value:\n",
       "Node{WebIO.DOM}(WebIO.DOM(:html, :div), Any[Plot{Plots.GRBackend() n=7}], Dict{Symbol,Any}(:className => \"interact-flex-row interact-widget\"))], Dict{Symbol,Any}())"
      ]
     },
     "execution_count": 17,
     "metadata": {
      "application/vnd.webio.node+json": {
       "kernelId": "e4953552-1d8c-4d00-bfad-cf192cd28aea"
      }
     },
     "output_type": "execute_result"
    }
   ],
   "source": [
    "\n",
    "country_cases_dict = Dict()\n",
    "for country_name in get_countries()\n",
    "    country_cases_dict[country_name] =  get_cases_day(country_name)\n",
    "end\n",
    "\n",
    "@manipulate for T in slider(1:get_num_days(), value=10)\n",
    "    plot()\n",
    "    max_y = 0\n",
    "    max_x = 0\n",
    "    for country_name in get_countries()\n",
    "        total_cases_to_date,new_cases = country_cases_dict[country_name]\n",
    "        plot!(total_cases_to_date[1:T],new_cases[1:T], label = country_name)\n",
    "        annotate!(total_cases_to_date[T],new_cases[T], text(country_name, 10, :black))\n",
    "        max_y = max(max_y,new_cases[end])\n",
    "        max_x = max(max_x,total_cases_to_date[end])\n",
    "    end\n",
    "    \n",
    "    \n",
    "    xlabel!(\"total cases\")\n",
    "    ylabel!(\"new cases\")\n",
    "    ylims!(0,max_y)\n",
    "    xlims!(0,max_x)\n",
    "end"
   ]
  },
  {
   "cell_type": "markdown",
   "metadata": {},
   "source": [
    "Exersice 3"
   ]
  },
  {
   "cell_type": "markdown",
   "metadata": {},
   "source": [
    "I corrected Lecture 2 lines 600 - 610 Color: Red"
   ]
  }
 ],
 "metadata": {
  "@webio": {
   "lastCommId": "ea72c50d55a64dc2824040e823a4d078",
   "lastKernelId": "e4953552-1d8c-4d00-bfad-cf192cd28aea"
  },
  "kernelspec": {
   "display_name": "Julia 1.4.1",
   "language": "julia",
   "name": "julia-1.4"
  },
  "language_info": {
   "file_extension": ".jl",
   "mimetype": "application/julia",
   "name": "julia",
   "version": "1.4.0"
  }
 },
 "nbformat": 4,
 "nbformat_minor": 4
}
